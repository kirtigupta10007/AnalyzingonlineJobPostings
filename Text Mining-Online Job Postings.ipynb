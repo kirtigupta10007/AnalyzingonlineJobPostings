{
 "cells": [
  {
   "cell_type": "markdown",
   "metadata": {},
   "source": [
    "####  Importing Libraries "
   ]
  },
  {
   "cell_type": "code",
   "execution_count": 1,
   "metadata": {},
   "outputs": [
    {
     "name": "stderr",
     "output_type": "stream",
     "text": [
      "Using TensorFlow backend.\n"
     ]
    }
   ],
   "source": [
    "#import required packages\n",
    "#basics\n",
    "import pandas as pd \n",
    "import numpy as np\n",
    "\n",
    "#misc\n",
    "import gc\n",
    "import time\n",
    "import warnings\n",
    "\n",
    "#stats\n",
    "#from scipy.misc import imread\n",
    "from scipy import sparse\n",
    "import scipy.stats as ss\n",
    "\n",
    "#viz\n",
    "import matplotlib.pyplot as plt\n",
    "import matplotlib.gridspec as gridspec \n",
    "import seaborn as sns\n",
    "from wordcloud import WordCloud ,STOPWORDS\n",
    "from PIL import Image\n",
    "#import matplotlib_venn as venn\n",
    "\n",
    "#nlp\n",
    "import string\n",
    "import re    #for regex\n",
    "import nltk\n",
    "from nltk.corpus import stopwords\n",
    "\n",
    "#import spacy\n",
    "from nltk import pos_tag\n",
    "from nltk.stem.wordnet import WordNetLemmatizer \n",
    "from nltk.tokenize import word_tokenize\n",
    "\n",
    "# Tweet tokenizer does not split at apostophes which is what we want\n",
    "from nltk.tokenize import TweetTokenizer   \n",
    "\n",
    "\n",
    "#FeatureEngineering\n",
    "from sklearn.feature_extraction.text import TfidfVectorizer, CountVectorizer, HashingVectorizer, TfidfTransformer\n",
    "from sklearn.decomposition import TruncatedSVD\n",
    "from sklearn.base import BaseEstimator, ClassifierMixin\n",
    "from sklearn.utils.validation import check_X_y, check_is_fitted\n",
    "from sklearn import model_selection, preprocessing, linear_model, naive_bayes, metrics, svm, decomposition, ensemble\n",
    "from sklearn.linear_model import LogisticRegression\n",
    "from sklearn.metrics import log_loss\n",
    "from sklearn.model_selection import StratifiedKFold\n",
    "from sklearn.model_selection import train_test_split\n",
    "\n",
    "#!pip install textblob\n",
    "import  textblob\n",
    "import xgboost\n",
    "import tensorflow as tf\n",
    "from keras.preprocessing import text, sequence\n",
    "from keras import layers, models, optimizers\n",
    "\n",
    "from textblob import TextBlob\n",
    "from nltk.stem import PorterStemmer\n",
    "import nltk\n",
    "#nltk.download('stopwords')\n",
    "#nltk.download('wordnet')\n",
    "from textblob import Word \n",
    "#nltk.download('punkt')\n",
    "#nltk.download('averaged_perceptron_tagger')\n",
    "\n",
    "import spacy\n",
    "from spacy import displacy\n",
    "from spacy.matcher import Matcher\n",
    "\n",
    "\n",
    "#settings\n",
    "start_time=time.time()\n",
    "color = sns.color_palette()\n",
    "sns.set_style(\"dark\")\n",
    "eng_stopwords = set(stopwords.words(\"english\"))\n",
    "warnings.filterwarnings(\"ignore\")\n",
    "\n",
    "lem = WordNetLemmatizer()\n",
    "tokenizer=TweetTokenizer()\n",
    "\n",
    "%matplotlib inline"
   ]
  },
  {
   "cell_type": "code",
   "execution_count": 2,
   "metadata": {},
   "outputs": [],
   "source": [
    "from sklearn.ensemble import RandomForestClassifier\n",
    "from sklearn.ensemble import GradientBoostingClassifier\n",
    "from sklearn.neural_network import MLPClassifier\n",
    "from sklearn.multiclass import OneVsRestClassifier\n",
    "from sklearn.svm import SVC\n",
    "from xgboost import XGBClassifier"
   ]
  },
  {
   "cell_type": "code",
   "execution_count": 3,
   "metadata": {},
   "outputs": [],
   "source": [
    "from sklearn.decomposition import TruncatedSVD,PCA\n",
    "from sklearn.preprocessing import normalize,Normalizer\n",
    "from sklearn.pipeline import make_pipeline\n",
    "from sklearn import metrics\n",
    "from sklearn.cluster import KMeans \n",
    "from sklearn.decomposition import TruncatedSVD,PCA\n",
    "from sklearn.preprocessing import normalize,Normalizer\n",
    "from sklearn.pipeline import make_pipeline\n",
    "from sklearn.metrics.pairwise import cosine_similarity\n",
    "from sklearn.metrics import silhouette_score,pairwise_distances"
   ]
  },
  {
   "cell_type": "markdown",
   "metadata": {},
   "source": [
    "#### Importing Data"
   ]
  },
  {
   "cell_type": "code",
   "execution_count": 4,
   "metadata": {},
   "outputs": [],
   "source": [
    "#dataframe job postings\n",
    "job_post=pd.read_csv('F:/KIRTI/python/6. Analyzing online Job Postings/data job posts.csv')"
   ]
  },
  {
   "cell_type": "code",
   "execution_count": 5,
   "metadata": {},
   "outputs": [
    {
     "data": {
      "text/html": [
       "<div>\n",
       "<style scoped>\n",
       "    .dataframe tbody tr th:only-of-type {\n",
       "        vertical-align: middle;\n",
       "    }\n",
       "\n",
       "    .dataframe tbody tr th {\n",
       "        vertical-align: top;\n",
       "    }\n",
       "\n",
       "    .dataframe thead th {\n",
       "        text-align: right;\n",
       "    }\n",
       "</style>\n",
       "<table border=\"1\" class=\"dataframe\">\n",
       "  <thead>\n",
       "    <tr style=\"text-align: right;\">\n",
       "      <th></th>\n",
       "      <th>jobpost</th>\n",
       "      <th>date</th>\n",
       "      <th>Title</th>\n",
       "      <th>Company</th>\n",
       "      <th>AnnouncementCode</th>\n",
       "      <th>Term</th>\n",
       "      <th>Eligibility</th>\n",
       "      <th>Audience</th>\n",
       "      <th>StartDate</th>\n",
       "      <th>Duration</th>\n",
       "      <th>...</th>\n",
       "      <th>Salary</th>\n",
       "      <th>ApplicationP</th>\n",
       "      <th>OpeningDate</th>\n",
       "      <th>Deadline</th>\n",
       "      <th>Notes</th>\n",
       "      <th>AboutC</th>\n",
       "      <th>Attach</th>\n",
       "      <th>Year</th>\n",
       "      <th>Month</th>\n",
       "      <th>IT</th>\n",
       "    </tr>\n",
       "  </thead>\n",
       "  <tbody>\n",
       "    <tr>\n",
       "      <th>0</th>\n",
       "      <td>AMERIA Investment Consulting Company\\nJOB TITL...</td>\n",
       "      <td>Jan 5, 2004</td>\n",
       "      <td>Chief Financial Officer</td>\n",
       "      <td>AMERIA Investment Consulting Company</td>\n",
       "      <td>NaN</td>\n",
       "      <td>NaN</td>\n",
       "      <td>NaN</td>\n",
       "      <td>NaN</td>\n",
       "      <td>NaN</td>\n",
       "      <td>NaN</td>\n",
       "      <td>...</td>\n",
       "      <td>NaN</td>\n",
       "      <td>To apply for this position, please submit a\\nc...</td>\n",
       "      <td>NaN</td>\n",
       "      <td>26 January 2004</td>\n",
       "      <td>NaN</td>\n",
       "      <td>NaN</td>\n",
       "      <td>NaN</td>\n",
       "      <td>2004</td>\n",
       "      <td>1</td>\n",
       "      <td>False</td>\n",
       "    </tr>\n",
       "    <tr>\n",
       "      <th>1</th>\n",
       "      <td>International Research &amp; Exchanges Board (IREX...</td>\n",
       "      <td>Jan 7, 2004</td>\n",
       "      <td>Full-time Community Connections Intern (paid i...</td>\n",
       "      <td>International Research &amp; Exchanges Board (IREX)</td>\n",
       "      <td>NaN</td>\n",
       "      <td>NaN</td>\n",
       "      <td>NaN</td>\n",
       "      <td>NaN</td>\n",
       "      <td>NaN</td>\n",
       "      <td>3 months</td>\n",
       "      <td>...</td>\n",
       "      <td>NaN</td>\n",
       "      <td>Please submit a cover letter and resume to:\\nI...</td>\n",
       "      <td>NaN</td>\n",
       "      <td>12 January 2004</td>\n",
       "      <td>NaN</td>\n",
       "      <td>The International Research &amp; Exchanges Board (...</td>\n",
       "      <td>NaN</td>\n",
       "      <td>2004</td>\n",
       "      <td>1</td>\n",
       "      <td>False</td>\n",
       "    </tr>\n",
       "    <tr>\n",
       "      <th>2</th>\n",
       "      <td>Caucasus Environmental NGO Network (CENN)\\nJOB...</td>\n",
       "      <td>Jan 7, 2004</td>\n",
       "      <td>Country Coordinator</td>\n",
       "      <td>Caucasus Environmental NGO Network (CENN)</td>\n",
       "      <td>NaN</td>\n",
       "      <td>NaN</td>\n",
       "      <td>NaN</td>\n",
       "      <td>NaN</td>\n",
       "      <td>NaN</td>\n",
       "      <td>Renewable annual contract\\nPOSITION</td>\n",
       "      <td>...</td>\n",
       "      <td>NaN</td>\n",
       "      <td>Please send resume or CV toursula.kazarian@......</td>\n",
       "      <td>NaN</td>\n",
       "      <td>20 January 2004\\nSTART DATE:  February 2004</td>\n",
       "      <td>NaN</td>\n",
       "      <td>The Caucasus Environmental NGO Network is a\\nn...</td>\n",
       "      <td>NaN</td>\n",
       "      <td>2004</td>\n",
       "      <td>1</td>\n",
       "      <td>False</td>\n",
       "    </tr>\n",
       "    <tr>\n",
       "      <th>3</th>\n",
       "      <td>Manoff Group\\nJOB TITLE:  BCC Specialist\\nPOSI...</td>\n",
       "      <td>Jan 7, 2004</td>\n",
       "      <td>BCC Specialist</td>\n",
       "      <td>Manoff Group</td>\n",
       "      <td>NaN</td>\n",
       "      <td>NaN</td>\n",
       "      <td>NaN</td>\n",
       "      <td>NaN</td>\n",
       "      <td>NaN</td>\n",
       "      <td>NaN</td>\n",
       "      <td>...</td>\n",
       "      <td>NaN</td>\n",
       "      <td>Please send cover letter and resume to Amy\\nPe...</td>\n",
       "      <td>NaN</td>\n",
       "      <td>23 January 2004\\nSTART DATE:  Immediate</td>\n",
       "      <td>NaN</td>\n",
       "      <td>NaN</td>\n",
       "      <td>NaN</td>\n",
       "      <td>2004</td>\n",
       "      <td>1</td>\n",
       "      <td>False</td>\n",
       "    </tr>\n",
       "    <tr>\n",
       "      <th>4</th>\n",
       "      <td>Yerevan Brandy Company\\nJOB TITLE:  Software D...</td>\n",
       "      <td>Jan 10, 2004</td>\n",
       "      <td>Software Developer</td>\n",
       "      <td>Yerevan Brandy Company</td>\n",
       "      <td>NaN</td>\n",
       "      <td>NaN</td>\n",
       "      <td>NaN</td>\n",
       "      <td>NaN</td>\n",
       "      <td>NaN</td>\n",
       "      <td>NaN</td>\n",
       "      <td>...</td>\n",
       "      <td>NaN</td>\n",
       "      <td>Successful candidates should submit\\n- CV; \\n-...</td>\n",
       "      <td>NaN</td>\n",
       "      <td>20 January 2004, 18:00</td>\n",
       "      <td>NaN</td>\n",
       "      <td>NaN</td>\n",
       "      <td>NaN</td>\n",
       "      <td>2004</td>\n",
       "      <td>1</td>\n",
       "      <td>True</td>\n",
       "    </tr>\n",
       "    <tr>\n",
       "      <th>5</th>\n",
       "      <td>Boutique \"Appollo\"\\nJOB TITLE:  Saleswoman\\nPO...</td>\n",
       "      <td>Jan 10, 2004</td>\n",
       "      <td>Saleswoman</td>\n",
       "      <td>Boutique \"Appollo\"</td>\n",
       "      <td>NaN</td>\n",
       "      <td>NaN</td>\n",
       "      <td>NaN</td>\n",
       "      <td>NaN</td>\n",
       "      <td>NaN</td>\n",
       "      <td>NaN</td>\n",
       "      <td>...</td>\n",
       "      <td>NaN</td>\n",
       "      <td>For further information, please contact Irina\\...</td>\n",
       "      <td>NaN</td>\n",
       "      <td>01 February 2004</td>\n",
       "      <td>NaN</td>\n",
       "      <td>NaN</td>\n",
       "      <td>NaN</td>\n",
       "      <td>2004</td>\n",
       "      <td>1</td>\n",
       "      <td>False</td>\n",
       "    </tr>\n",
       "    <tr>\n",
       "      <th>6</th>\n",
       "      <td>OSI Assistance Foundation - Armenian Branch Of...</td>\n",
       "      <td>Jan 11, 2004</td>\n",
       "      <td>Chief Accountant/ Finance Assistant</td>\n",
       "      <td>OSI Assistance Foundation - Armenian Branch Of...</td>\n",
       "      <td>NaN</td>\n",
       "      <td>NaN</td>\n",
       "      <td>NaN</td>\n",
       "      <td>NaN</td>\n",
       "      <td>NaN</td>\n",
       "      <td>NaN</td>\n",
       "      <td>...</td>\n",
       "      <td>NaN</td>\n",
       "      <td>For submission of applications/ CVs, please\\nc...</td>\n",
       "      <td>NaN</td>\n",
       "      <td>16 January 2004, 6:00 pm.</td>\n",
       "      <td>NaN</td>\n",
       "      <td>NaN</td>\n",
       "      <td>NaN</td>\n",
       "      <td>2004</td>\n",
       "      <td>1</td>\n",
       "      <td>False</td>\n",
       "    </tr>\n",
       "    <tr>\n",
       "      <th>7</th>\n",
       "      <td>International Research &amp; Exchanges Board (IREX...</td>\n",
       "      <td>Jan 13, 2004</td>\n",
       "      <td>Non-paid part or full time Programmatic Intern</td>\n",
       "      <td>International Research &amp; Exchanges Board (IREX)</td>\n",
       "      <td>NaN</td>\n",
       "      <td>NaN</td>\n",
       "      <td>NaN</td>\n",
       "      <td>NaN</td>\n",
       "      <td>NaN</td>\n",
       "      <td>6 months</td>\n",
       "      <td>...</td>\n",
       "      <td>NaN</td>\n",
       "      <td>To apply, please download and submit the\\nappl...</td>\n",
       "      <td>NaN</td>\n",
       "      <td>16 January 2004</td>\n",
       "      <td>NaN</td>\n",
       "      <td>The International Research &amp; Exchanges Board (...</td>\n",
       "      <td>NaN</td>\n",
       "      <td>2004</td>\n",
       "      <td>1</td>\n",
       "      <td>False</td>\n",
       "    </tr>\n",
       "    <tr>\n",
       "      <th>8</th>\n",
       "      <td>Yerevan Brandy Company \\nJOB TITLE:  Assistant...</td>\n",
       "      <td>Jan 13, 2004</td>\n",
       "      <td>Assistant to Managing Director</td>\n",
       "      <td>Yerevan Brandy Company</td>\n",
       "      <td>NaN</td>\n",
       "      <td>NaN</td>\n",
       "      <td>NaN</td>\n",
       "      <td>NaN</td>\n",
       "      <td>NaN</td>\n",
       "      <td>NaN</td>\n",
       "      <td>...</td>\n",
       "      <td>NaN</td>\n",
       "      <td>Successful candidates should submit\\n- CV; \\n-...</td>\n",
       "      <td>NaN</td>\n",
       "      <td>27 January 2004, 18:00</td>\n",
       "      <td>NaN</td>\n",
       "      <td>NaN</td>\n",
       "      <td>NaN</td>\n",
       "      <td>2004</td>\n",
       "      <td>1</td>\n",
       "      <td>False</td>\n",
       "    </tr>\n",
       "    <tr>\n",
       "      <th>9</th>\n",
       "      <td>American Embassy Yerevan\\nANNOUNCEMENT NUMBER:...</td>\n",
       "      <td>Jan 13, 2004</td>\n",
       "      <td>Program Assistant (INL), FSN-8; FP-6*</td>\n",
       "      <td>American Embassy Yerevan\\nANNOUNCEMENT NUMBER:...</td>\n",
       "      <td>NaN</td>\n",
       "      <td>NaN</td>\n",
       "      <td>NaN</td>\n",
       "      <td>NaN</td>\n",
       "      <td>NaN</td>\n",
       "      <td>NaN</td>\n",
       "      <td>...</td>\n",
       "      <td>NaN</td>\n",
       "      <td>Interested candidates for this position should...</td>\n",
       "      <td>NaN</td>\n",
       "      <td>26 January 2004  \\nDrafted:   GSargsyan\\nClear...</td>\n",
       "      <td>NaN</td>\n",
       "      <td>NaN</td>\n",
       "      <td>NaN</td>\n",
       "      <td>2004</td>\n",
       "      <td>1</td>\n",
       "      <td>False</td>\n",
       "    </tr>\n",
       "  </tbody>\n",
       "</table>\n",
       "<p>10 rows × 24 columns</p>\n",
       "</div>"
      ],
      "text/plain": [
       "                                             jobpost          date  \\\n",
       "0  AMERIA Investment Consulting Company\\nJOB TITL...   Jan 5, 2004   \n",
       "1  International Research & Exchanges Board (IREX...   Jan 7, 2004   \n",
       "2  Caucasus Environmental NGO Network (CENN)\\nJOB...   Jan 7, 2004   \n",
       "3  Manoff Group\\nJOB TITLE:  BCC Specialist\\nPOSI...   Jan 7, 2004   \n",
       "4  Yerevan Brandy Company\\nJOB TITLE:  Software D...  Jan 10, 2004   \n",
       "5  Boutique \"Appollo\"\\nJOB TITLE:  Saleswoman\\nPO...  Jan 10, 2004   \n",
       "6  OSI Assistance Foundation - Armenian Branch Of...  Jan 11, 2004   \n",
       "7  International Research & Exchanges Board (IREX...  Jan 13, 2004   \n",
       "8  Yerevan Brandy Company \\nJOB TITLE:  Assistant...  Jan 13, 2004   \n",
       "9  American Embassy Yerevan\\nANNOUNCEMENT NUMBER:...  Jan 13, 2004   \n",
       "\n",
       "                                               Title  \\\n",
       "0                            Chief Financial Officer   \n",
       "1  Full-time Community Connections Intern (paid i...   \n",
       "2                                Country Coordinator   \n",
       "3                                     BCC Specialist   \n",
       "4                                 Software Developer   \n",
       "5                                         Saleswoman   \n",
       "6                Chief Accountant/ Finance Assistant   \n",
       "7     Non-paid part or full time Programmatic Intern   \n",
       "8                     Assistant to Managing Director   \n",
       "9              Program Assistant (INL), FSN-8; FP-6*   \n",
       "\n",
       "                                             Company AnnouncementCode Term  \\\n",
       "0               AMERIA Investment Consulting Company              NaN  NaN   \n",
       "1    International Research & Exchanges Board (IREX)              NaN  NaN   \n",
       "2          Caucasus Environmental NGO Network (CENN)              NaN  NaN   \n",
       "3                                       Manoff Group              NaN  NaN   \n",
       "4                             Yerevan Brandy Company              NaN  NaN   \n",
       "5                                 Boutique \"Appollo\"              NaN  NaN   \n",
       "6  OSI Assistance Foundation - Armenian Branch Of...              NaN  NaN   \n",
       "7    International Research & Exchanges Board (IREX)              NaN  NaN   \n",
       "8                             Yerevan Brandy Company              NaN  NaN   \n",
       "9  American Embassy Yerevan\\nANNOUNCEMENT NUMBER:...              NaN  NaN   \n",
       "\n",
       "  Eligibility Audience StartDate                             Duration  ...  \\\n",
       "0         NaN      NaN       NaN                                  NaN  ...   \n",
       "1         NaN      NaN       NaN                             3 months  ...   \n",
       "2         NaN      NaN       NaN  Renewable annual contract\\nPOSITION  ...   \n",
       "3         NaN      NaN       NaN                                  NaN  ...   \n",
       "4         NaN      NaN       NaN                                  NaN  ...   \n",
       "5         NaN      NaN       NaN                                  NaN  ...   \n",
       "6         NaN      NaN       NaN                                  NaN  ...   \n",
       "7         NaN      NaN       NaN                             6 months  ...   \n",
       "8         NaN      NaN       NaN                                  NaN  ...   \n",
       "9         NaN      NaN       NaN                                  NaN  ...   \n",
       "\n",
       "  Salary                                       ApplicationP OpeningDate  \\\n",
       "0    NaN  To apply for this position, please submit a\\nc...         NaN   \n",
       "1    NaN  Please submit a cover letter and resume to:\\nI...         NaN   \n",
       "2    NaN  Please send resume or CV toursula.kazarian@......         NaN   \n",
       "3    NaN  Please send cover letter and resume to Amy\\nPe...         NaN   \n",
       "4    NaN  Successful candidates should submit\\n- CV; \\n-...         NaN   \n",
       "5    NaN  For further information, please contact Irina\\...         NaN   \n",
       "6    NaN  For submission of applications/ CVs, please\\nc...         NaN   \n",
       "7    NaN  To apply, please download and submit the\\nappl...         NaN   \n",
       "8    NaN  Successful candidates should submit\\n- CV; \\n-...         NaN   \n",
       "9    NaN  Interested candidates for this position should...         NaN   \n",
       "\n",
       "                                            Deadline Notes  \\\n",
       "0                                    26 January 2004   NaN   \n",
       "1                                    12 January 2004   NaN   \n",
       "2        20 January 2004\\nSTART DATE:  February 2004   NaN   \n",
       "3            23 January 2004\\nSTART DATE:  Immediate   NaN   \n",
       "4                             20 January 2004, 18:00   NaN   \n",
       "5                                   01 February 2004   NaN   \n",
       "6                          16 January 2004, 6:00 pm.   NaN   \n",
       "7                                    16 January 2004   NaN   \n",
       "8                             27 January 2004, 18:00   NaN   \n",
       "9  26 January 2004  \\nDrafted:   GSargsyan\\nClear...   NaN   \n",
       "\n",
       "                                              AboutC Attach  Year Month     IT  \n",
       "0                                                NaN    NaN  2004     1  False  \n",
       "1  The International Research & Exchanges Board (...    NaN  2004     1  False  \n",
       "2  The Caucasus Environmental NGO Network is a\\nn...    NaN  2004     1  False  \n",
       "3                                                NaN    NaN  2004     1  False  \n",
       "4                                                NaN    NaN  2004     1   True  \n",
       "5                                                NaN    NaN  2004     1  False  \n",
       "6                                                NaN    NaN  2004     1  False  \n",
       "7  The International Research & Exchanges Board (...    NaN  2004     1  False  \n",
       "8                                                NaN    NaN  2004     1  False  \n",
       "9                                                NaN    NaN  2004     1  False  \n",
       "\n",
       "[10 rows x 24 columns]"
      ]
     },
     "execution_count": 5,
     "metadata": {},
     "output_type": "execute_result"
    }
   ],
   "source": [
    "job_post.head(10)"
   ]
  },
  {
   "cell_type": "markdown",
   "metadata": {},
   "source": [
    "#### Data Exploratory"
   ]
  },
  {
   "cell_type": "code",
   "execution_count": 6,
   "metadata": {},
   "outputs": [
    {
     "name": "stdout",
     "output_type": "stream",
     "text": [
      "<class 'pandas.core.frame.DataFrame'>\n",
      "RangeIndex: 19001 entries, 0 to 19000\n",
      "Data columns (total 24 columns):\n",
      "jobpost             19001 non-null object\n",
      "date                19001 non-null object\n",
      "Title               18973 non-null object\n",
      "Company             18994 non-null object\n",
      "AnnouncementCode    1208 non-null object\n",
      "Term                7676 non-null object\n",
      "Eligibility         4930 non-null object\n",
      "Audience            640 non-null object\n",
      "StartDate           9675 non-null object\n",
      "Duration            10798 non-null object\n",
      "Location            18969 non-null object\n",
      "JobDescription      15109 non-null object\n",
      "JobRequirment       16479 non-null object\n",
      "RequiredQual        18517 non-null object\n",
      "Salary              9622 non-null object\n",
      "ApplicationP        18941 non-null object\n",
      "OpeningDate         18295 non-null object\n",
      "Deadline            18936 non-null object\n",
      "Notes               2211 non-null object\n",
      "AboutC              12470 non-null object\n",
      "Attach              1559 non-null object\n",
      "Year                19001 non-null int64\n",
      "Month               19001 non-null int64\n",
      "IT                  19001 non-null bool\n",
      "dtypes: bool(1), int64(2), object(21)\n",
      "memory usage: 3.4+ MB\n"
     ]
    }
   ],
   "source": [
    "job_post.info()"
   ]
  },
  {
   "cell_type": "code",
   "execution_count": 7,
   "metadata": {},
   "outputs": [
    {
     "data": {
      "text/plain": [
       "Index(['jobpost', 'date', 'Title', 'Company', 'AnnouncementCode', 'Term',\n",
       "       'Eligibility', 'Audience', 'StartDate', 'Duration', 'Location',\n",
       "       'JobDescription', 'JobRequirment', 'RequiredQual', 'Salary',\n",
       "       'ApplicationP', 'OpeningDate', 'Deadline', 'Notes', 'AboutC', 'Attach',\n",
       "       'Year', 'Month', 'IT'],\n",
       "      dtype='object')"
      ]
     },
     "execution_count": 7,
     "metadata": {},
     "output_type": "execute_result"
    }
   ],
   "source": [
    "job_post.columns"
   ]
  },
  {
   "cell_type": "markdown",
   "metadata": {},
   "source": [
    "### Data Selection"
   ]
  },
  {
   "cell_type": "code",
   "execution_count": 8,
   "metadata": {},
   "outputs": [],
   "source": [
    "# Useful columns from datasets\n",
    "job_post=job_post[['jobpost', 'Title', 'Company','JobDescription', 'JobRequirment', 'RequiredQual','AboutC','Year', 'Month', 'IT']]"
   ]
  },
  {
   "cell_type": "code",
   "execution_count": 9,
   "metadata": {},
   "outputs": [],
   "source": [
    "# Treating missing values\n",
    "job_post[['Title', 'Company','JobDescription', 'JobRequirment', 'RequiredQual','AboutC']]=job_post[['Title', 'Company','JobDescription', 'JobRequirment', 'RequiredQual','AboutC']].fillna(job_post[['Title', 'Company','JobDescription', 'JobRequirment', 'RequiredQual','AboutC']].mode().ix[0])"
   ]
  },
  {
   "cell_type": "code",
   "execution_count": 10,
   "metadata": {},
   "outputs": [
    {
     "name": "stdout",
     "output_type": "stream",
     "text": [
      "<class 'pandas.core.frame.DataFrame'>\n",
      "RangeIndex: 19001 entries, 0 to 19000\n",
      "Data columns (total 10 columns):\n",
      "jobpost           19001 non-null object\n",
      "Title             19001 non-null object\n",
      "Company           19001 non-null object\n",
      "JobDescription    19001 non-null object\n",
      "JobRequirment     19001 non-null object\n",
      "RequiredQual      19001 non-null object\n",
      "AboutC            19001 non-null object\n",
      "Year              19001 non-null int64\n",
      "Month             19001 non-null int64\n",
      "IT                19001 non-null bool\n",
      "dtypes: bool(1), int64(2), object(7)\n",
      "memory usage: 1.3+ MB\n"
     ]
    }
   ],
   "source": [
    "job_post.info()"
   ]
  },
  {
   "cell_type": "code",
   "execution_count": 11,
   "metadata": {},
   "outputs": [
    {
     "data": {
      "text/plain": [
       "Accountant                                356\n",
       "Chief Accountant                          219\n",
       "Medical Representative                    216\n",
       "Sales Manager                             166\n",
       "Administrative Assistant                  155\n",
       "Lawyer                                    151\n",
       "Software Developer                        134\n",
       "Project Manager                           117\n",
       "English Language Courses                  109\n",
       "Web Developer                             101\n",
       "Java Developer                             88\n",
       "Marketing Specialist                       87\n",
       "Office Manager                             85\n",
       "Receptionist/ Administrative Assistant     77\n",
       "System Administrator                       75\n",
       "Graphic Designer                           75\n",
       "Marketing Manager                          72\n",
       "Senior Java Developer                      69\n",
       "Software Engineer                          69\n",
       "QA Engineer                                66\n",
       "PHP Developer                              65\n",
       "Name: Title, dtype: int64"
      ]
     },
     "execution_count": 11,
     "metadata": {},
     "output_type": "execute_result"
    }
   ],
   "source": [
    "# Number of job posts by titles\n",
    "classes = job_post['Title'].value_counts()[:21]\n",
    "keys = classes.keys().to_list()\n",
    "\n",
    "job_post = job_post[job_post['Title'].isin(keys)]\n",
    "job_post['Title'].value_counts()"
   ]
  },
  {
   "cell_type": "markdown",
   "metadata": {},
   "source": [
    "### Job Posting by Year"
   ]
  },
  {
   "cell_type": "code",
   "execution_count": 12,
   "metadata": {},
   "outputs": [
    {
     "data": {
      "text/html": [
       "<div>\n",
       "<style scoped>\n",
       "    .dataframe tbody tr th:only-of-type {\n",
       "        vertical-align: middle;\n",
       "    }\n",
       "\n",
       "    .dataframe tbody tr th {\n",
       "        vertical-align: top;\n",
       "    }\n",
       "\n",
       "    .dataframe thead th {\n",
       "        text-align: right;\n",
       "    }\n",
       "</style>\n",
       "<table border=\"1\" class=\"dataframe\">\n",
       "  <thead>\n",
       "    <tr style=\"text-align: right;\">\n",
       "      <th></th>\n",
       "      <th>Year</th>\n",
       "      <th>Job Posts</th>\n",
       "    </tr>\n",
       "  </thead>\n",
       "  <tbody>\n",
       "    <tr>\n",
       "      <th>11</th>\n",
       "      <td>2004</td>\n",
       "      <td>84</td>\n",
       "    </tr>\n",
       "    <tr>\n",
       "      <th>10</th>\n",
       "      <td>2005</td>\n",
       "      <td>154</td>\n",
       "    </tr>\n",
       "    <tr>\n",
       "      <th>8</th>\n",
       "      <td>2006</td>\n",
       "      <td>178</td>\n",
       "    </tr>\n",
       "    <tr>\n",
       "      <th>5</th>\n",
       "      <td>2007</td>\n",
       "      <td>229</td>\n",
       "    </tr>\n",
       "    <tr>\n",
       "      <th>4</th>\n",
       "      <td>2008</td>\n",
       "      <td>245</td>\n",
       "    </tr>\n",
       "    <tr>\n",
       "      <th>9</th>\n",
       "      <td>2009</td>\n",
       "      <td>163</td>\n",
       "    </tr>\n",
       "    <tr>\n",
       "      <th>7</th>\n",
       "      <td>2010</td>\n",
       "      <td>210</td>\n",
       "    </tr>\n",
       "    <tr>\n",
       "      <th>6</th>\n",
       "      <td>2011</td>\n",
       "      <td>216</td>\n",
       "    </tr>\n",
       "    <tr>\n",
       "      <th>1</th>\n",
       "      <td>2012</td>\n",
       "      <td>274</td>\n",
       "    </tr>\n",
       "    <tr>\n",
       "      <th>2</th>\n",
       "      <td>2013</td>\n",
       "      <td>267</td>\n",
       "    </tr>\n",
       "    <tr>\n",
       "      <th>3</th>\n",
       "      <td>2014</td>\n",
       "      <td>254</td>\n",
       "    </tr>\n",
       "    <tr>\n",
       "      <th>0</th>\n",
       "      <td>2015</td>\n",
       "      <td>278</td>\n",
       "    </tr>\n",
       "  </tbody>\n",
       "</table>\n",
       "</div>"
      ],
      "text/plain": [
       "    Year  Job Posts\n",
       "11  2004         84\n",
       "10  2005        154\n",
       "8   2006        178\n",
       "5   2007        229\n",
       "4   2008        245\n",
       "9   2009        163\n",
       "7   2010        210\n",
       "6   2011        216\n",
       "1   2012        274\n",
       "2   2013        267\n",
       "3   2014        254\n",
       "0   2015        278"
      ]
     },
     "execution_count": 12,
     "metadata": {},
     "output_type": "execute_result"
    }
   ],
   "source": [
    "y=pd.DataFrame(job_post.Year.value_counts().reset_index())\n",
    "y['Job Posts']=y.Year\n",
    "y['Year']=y['index']\n",
    "y.drop('index',axis=1,inplace=True)\n",
    "y.sort_values(by='Year',inplace=True)\n",
    "y"
   ]
  },
  {
   "cell_type": "code",
   "execution_count": 13,
   "metadata": {
    "scrolled": true
   },
   "outputs": [
    {
     "data": {
      "image/png": "[encoded data removed]",
      "text/plain": [
       "<Figure size 432x288 with 1 Axes>"
      ]
     },
     "metadata": {
      "needs_background": "light"
     },
     "output_type": "display_data"
    }
   ],
   "source": [
    "sns.barplot(x='Year',y='Job Posts',data=y)\n",
    "plt.show()"
   ]
  },
  {
   "cell_type": "code",
   "execution_count": 14,
   "metadata": {},
   "outputs": [
    {
     "data": {
      "image/png": "[encoded data removed]",
      "text/plain": [
       "<Figure size 432x288 with 1 Axes>"
      ]
     },
     "metadata": {
      "needs_background": "light"
     },
     "output_type": "display_data"
    }
   ],
   "source": [
    "plt.plot('Year','Job Posts',data=y)\n",
    "plt.xlabel('Year')\n",
    "plt.ylabel('No. of job posts')\n",
    "plt.show()"
   ]
  },
  {
   "cell_type": "markdown",
   "metadata": {},
   "source": [
    "### Job Posting by Month"
   ]
  },
  {
   "cell_type": "code",
   "execution_count": 15,
   "metadata": {},
   "outputs": [
    {
     "data": {
      "text/html": [
       "<div>\n",
       "<style scoped>\n",
       "    .dataframe tbody tr th:only-of-type {\n",
       "        vertical-align: middle;\n",
       "    }\n",
       "\n",
       "    .dataframe tbody tr th {\n",
       "        vertical-align: top;\n",
       "    }\n",
       "\n",
       "    .dataframe thead th {\n",
       "        text-align: right;\n",
       "    }\n",
       "</style>\n",
       "<table border=\"1\" class=\"dataframe\">\n",
       "  <thead>\n",
       "    <tr style=\"text-align: right;\">\n",
       "      <th></th>\n",
       "      <th>Month</th>\n",
       "      <th>Job Posts</th>\n",
       "    </tr>\n",
       "  </thead>\n",
       "  <tbody>\n",
       "    <tr>\n",
       "      <th>9</th>\n",
       "      <td>1</td>\n",
       "      <td>201</td>\n",
       "    </tr>\n",
       "    <tr>\n",
       "      <th>0</th>\n",
       "      <td>2</td>\n",
       "      <td>232</td>\n",
       "    </tr>\n",
       "    <tr>\n",
       "      <th>1</th>\n",
       "      <td>3</td>\n",
       "      <td>231</td>\n",
       "    </tr>\n",
       "    <tr>\n",
       "      <th>10</th>\n",
       "      <td>4</td>\n",
       "      <td>201</td>\n",
       "    </tr>\n",
       "    <tr>\n",
       "      <th>7</th>\n",
       "      <td>5</td>\n",
       "      <td>209</td>\n",
       "    </tr>\n",
       "    <tr>\n",
       "      <th>6</th>\n",
       "      <td>6</td>\n",
       "      <td>210</td>\n",
       "    </tr>\n",
       "    <tr>\n",
       "      <th>4</th>\n",
       "      <td>7</td>\n",
       "      <td>212</td>\n",
       "    </tr>\n",
       "    <tr>\n",
       "      <th>5</th>\n",
       "      <td>8</td>\n",
       "      <td>211</td>\n",
       "    </tr>\n",
       "    <tr>\n",
       "      <th>2</th>\n",
       "      <td>9</td>\n",
       "      <td>229</td>\n",
       "    </tr>\n",
       "    <tr>\n",
       "      <th>3</th>\n",
       "      <td>10</td>\n",
       "      <td>225</td>\n",
       "    </tr>\n",
       "    <tr>\n",
       "      <th>8</th>\n",
       "      <td>11</td>\n",
       "      <td>207</td>\n",
       "    </tr>\n",
       "    <tr>\n",
       "      <th>11</th>\n",
       "      <td>12</td>\n",
       "      <td>184</td>\n",
       "    </tr>\n",
       "  </tbody>\n",
       "</table>\n",
       "</div>"
      ],
      "text/plain": [
       "    Month  Job Posts\n",
       "9       1        201\n",
       "0       2        232\n",
       "1       3        231\n",
       "10      4        201\n",
       "7       5        209\n",
       "6       6        210\n",
       "4       7        212\n",
       "5       8        211\n",
       "2       9        229\n",
       "3      10        225\n",
       "8      11        207\n",
       "11     12        184"
      ]
     },
     "execution_count": 15,
     "metadata": {},
     "output_type": "execute_result"
    }
   ],
   "source": [
    "m=pd.DataFrame(job_post.Month.value_counts().reset_index())\n",
    "m['Job Posts']=m.Month\n",
    "m['Month']=m['index']\n",
    "m.drop('index',axis=1,inplace=True)\n",
    "m.sort_values(by='Month',inplace=True)\n",
    "m"
   ]
  },
  {
   "cell_type": "code",
   "execution_count": 16,
   "metadata": {
    "scrolled": true
   },
   "outputs": [
    {
     "data": {
      "image/png": "[encoded data removed]",
      "text/plain": [
       "<Figure size 432x288 with 1 Axes>"
      ]
     },
     "metadata": {
      "needs_background": "light"
     },
     "output_type": "display_data"
    }
   ],
   "source": [
    "sns.barplot(x='Month',y='Job Posts',data=m)\n",
    "plt.show()"
   ]
  },
  {
   "cell_type": "code",
   "execution_count": 17,
   "metadata": {},
   "outputs": [
    {
     "data": {
      "image/png": "[encoded data removed]",
      "text/plain": [
       "<Figure size 432x288 with 1 Axes>"
      ]
     },
     "metadata": {
      "needs_background": "light"
     },
     "output_type": "display_data"
    }
   ],
   "source": [
    "plt.plot('Month','Job Posts',data=m)\n",
    "plt.xlabel('Year')\n",
    "plt.ylabel('No. of job posts')\n",
    "plt.show()"
   ]
  },
  {
   "cell_type": "markdown",
   "metadata": {},
   "source": [
    "### Top job posts every Year(2004-2015)"
   ]
  },
  {
   "cell_type": "code",
   "execution_count": 18,
   "metadata": {},
   "outputs": [
    {
     "data": {
      "image/png": "[encoded data removed]",
      "text/plain": [
       "<Figure size 720x360 with 1 Axes>"
      ]
     },
     "metadata": {
      "needs_background": "light"
     },
     "output_type": "display_data"
    }
   ],
   "source": [
    "#2004\n",
    "yr_1=job_post[job_post.Year==2004].groupby('Title').count().sort_values('jobpost',ascending=False).head(5)\n",
    "plt.figure(figsize=(10, 5))\n",
    "yr_1.jobpost.plot('barh')\n",
    "plt.show()"
   ]
  },
  {
   "cell_type": "code",
   "execution_count": 19,
   "metadata": {},
   "outputs": [
    {
     "data": {
      "image/png": "[encoded data removed]",
      "text/plain": [
       "<Figure size 720x360 with 1 Axes>"
      ]
     },
     "metadata": {
      "needs_background": "light"
     },
     "output_type": "display_data"
    }
   ],
   "source": [
    "#2005\n",
    "yr_2=job_post[job_post.Year==2005].groupby('Title').count().sort_values('jobpost',ascending=False).head(7)\n",
    "plt.figure(figsize=(10, 5))\n",
    "yr_2.jobpost.plot('barh')\n",
    "plt.show()"
   ]
  },
  {
   "cell_type": "code",
   "execution_count": 20,
   "metadata": {},
   "outputs": [
    {
     "data": {
      "image/png": "[encoded data removed]",
      "text/plain": [
       "<Figure size 720x360 with 1 Axes>"
      ]
     },
     "metadata": {
      "needs_background": "light"
     },
     "output_type": "display_data"
    }
   ],
   "source": [
    "# 2006\n",
    "yr_3=job_post[job_post.Year==2006].groupby('Title').count().sort_values('jobpost',ascending=False).head(7)\n",
    "plt.figure(figsize=(10, 5))\n",
    "yr_3.jobpost.plot('barh')\n",
    "plt.show()"
   ]
  },
  {
   "cell_type": "code",
   "execution_count": 21,
   "metadata": {},
   "outputs": [
    {
     "data": {
      "image/png": "[encoded data removed]",
      "text/plain": [
       "<Figure size 720x360 with 1 Axes>"
      ]
     },
     "metadata": {
      "needs_background": "light"
     },
     "output_type": "display_data"
    }
   ],
   "source": [
    "# 2007\n",
    "yr_4=job_post[job_post.Year==2007].groupby('Title').count().sort_values('jobpost',ascending=False).head(10)\n",
    "plt.figure(figsize=(10, 5))\n",
    "yr_4.jobpost.plot('barh')\n",
    "plt.show()"
   ]
  },
  {
   "cell_type": "code",
   "execution_count": 22,
   "metadata": {},
   "outputs": [
    {
     "data": {
      "image/png": "[encoded data removed]",
      "text/plain": [
       "<Figure size 720x360 with 1 Axes>"
      ]
     },
     "metadata": {
      "needs_background": "light"
     },
     "output_type": "display_data"
    }
   ],
   "source": [
    "# 2008\n",
    "yr_5=job_post[job_post.Year==2008].groupby('Title').count().sort_values('jobpost',ascending=False).head(12)\n",
    "plt.figure(figsize=(10, 5))\n",
    "yr_5.jobpost.plot('barh')\n",
    "plt.show()"
   ]
  },
  {
   "cell_type": "code",
   "execution_count": 23,
   "metadata": {},
   "outputs": [
    {
     "data": {
      "image/png": "[encoded data removed]",
      "text/plain": [
       "<Figure size 720x360 with 1 Axes>"
      ]
     },
     "metadata": {
      "needs_background": "light"
     },
     "output_type": "display_data"
    }
   ],
   "source": [
    "# 2009\n",
    "yr_6=job_post[job_post.Year==2009].groupby('Title').count().sort_values('jobpost',ascending=False).head(8)\n",
    "plt.figure(figsize=(10, 5))\n",
    "yr_6.jobpost.plot('barh')\n",
    "plt.show()"
   ]
  },
  {
   "cell_type": "code",
   "execution_count": 24,
   "metadata": {},
   "outputs": [
    {
     "data": {
      "image/png": "[encoded data removed]",
      "text/plain": [
       "<Figure size 720x360 with 1 Axes>"
      ]
     },
     "metadata": {
      "needs_background": "light"
     },
     "output_type": "display_data"
    }
   ],
   "source": [
    "# 2010\n",
    "yr_7=job_post[job_post.Year==2010].groupby('Title').count().sort_values('jobpost',ascending=False).head(8)\n",
    "plt.figure(figsize=(10, 5))\n",
    "yr_7.jobpost.plot('barh')\n",
    "plt.show()"
   ]
  },
  {
   "cell_type": "code",
   "execution_count": 25,
   "metadata": {},
   "outputs": [
    {
     "data": {
      "image/png": "[encoded data removed]",
      "text/plain": [
       "<Figure size 720x360 with 1 Axes>"
      ]
     },
     "metadata": {
      "needs_background": "light"
     },
     "output_type": "display_data"
    }
   ],
   "source": [
    "# 2011\n",
    "yr_8=job_post[job_post.Year==2011].groupby('Title').count().sort_values('jobpost',ascending=False).head(12)\n",
    "plt.figure(figsize=(10, 5))\n",
    "yr_8.jobpost.plot('barh')\n",
    "plt.show()"
   ]
  },
  {
   "cell_type": "code",
   "execution_count": 26,
   "metadata": {},
   "outputs": [
    {
     "data": {
      "image/png": "[encoded data removed]",
      "text/plain": [
       "<Figure size 720x360 with 1 Axes>"
      ]
     },
     "metadata": {
      "needs_background": "light"
     },
     "output_type": "display_data"
    }
   ],
   "source": [
    "# 2012\n",
    "yr_9=job_post[job_post.Year==2012].groupby('Title').count().sort_values('jobpost',ascending=False).head(14)\n",
    "plt.figure(figsize=(10, 5))\n",
    "yr_9.jobpost.plot('barh')\n",
    "plt.show()"
   ]
  },
  {
   "cell_type": "code",
   "execution_count": 27,
   "metadata": {},
   "outputs": [
    {
     "data": {
      "image/png": "[encoded data removed]",
      "text/plain": [
       "<Figure size 720x360 with 1 Axes>"
      ]
     },
     "metadata": {
      "needs_background": "light"
     },
     "output_type": "display_data"
    }
   ],
   "source": [
    "# 2013\n",
    "yr_10=job_post[job_post.Year==2013].groupby('Title').count().sort_values('jobpost',ascending=False).head(17)\n",
    "plt.figure(figsize=(10, 5))\n",
    "yr_10.jobpost.plot('barh')\n",
    "plt.show()"
   ]
  },
  {
   "cell_type": "code",
   "execution_count": 28,
   "metadata": {},
   "outputs": [
    {
     "data": {
      "image/png": "[encoded data removed]",
      "text/plain": [
       "<Figure size 720x360 with 1 Axes>"
      ]
     },
     "metadata": {
      "needs_background": "light"
     },
     "output_type": "display_data"
    }
   ],
   "source": [
    "# 2014\n",
    "yr_11=job_post[job_post.Year==2014].groupby('Title').count().sort_values('jobpost',ascending=False).head(18)\n",
    "plt.figure(figsize=(10, 5))\n",
    "yr_11.jobpost.plot('barh')\n",
    "plt.show()"
   ]
  },
  {
   "cell_type": "code",
   "execution_count": 29,
   "metadata": {},
   "outputs": [
    {
     "data": {
      "image/png": "[encoded data removed]",
      "text/plain": [
       "<Figure size 720x576 with 1 Axes>"
      ]
     },
     "metadata": {
      "needs_background": "light"
     },
     "output_type": "display_data"
    }
   ],
   "source": [
    "# 2015\n",
    "yr_12=job_post[job_post.Year==2015].groupby('Title').count().sort_values('jobpost',ascending=False).head(22)\n",
    "plt.figure(figsize=(10, 8))\n",
    "yr_12.jobpost.plot('barh')\n",
    "plt.show()"
   ]
  },
  {
   "cell_type": "markdown",
   "metadata": {},
   "source": [
    "### Job Post by Company"
   ]
  },
  {
   "cell_type": "code",
   "execution_count": 30,
   "metadata": {},
   "outputs": [
    {
     "data": {
      "text/html": [
       "<div>\n",
       "<style scoped>\n",
       "    .dataframe tbody tr th:only-of-type {\n",
       "        vertical-align: middle;\n",
       "    }\n",
       "\n",
       "    .dataframe tbody tr th {\n",
       "        vertical-align: top;\n",
       "    }\n",
       "\n",
       "    .dataframe thead th {\n",
       "        text-align: right;\n",
       "    }\n",
       "</style>\n",
       "<table border=\"1\" class=\"dataframe\">\n",
       "  <thead>\n",
       "    <tr style=\"text-align: right;\">\n",
       "      <th></th>\n",
       "      <th>Company</th>\n",
       "      <th>Job Posts</th>\n",
       "    </tr>\n",
       "  </thead>\n",
       "  <tbody>\n",
       "    <tr>\n",
       "      <th>0</th>\n",
       "      <td>Career Center NGO</td>\n",
       "      <td>178</td>\n",
       "    </tr>\n",
       "    <tr>\n",
       "      <th>1</th>\n",
       "      <td>SAS Group LLC</td>\n",
       "      <td>25</td>\n",
       "    </tr>\n",
       "    <tr>\n",
       "      <th>2</th>\n",
       "      <td>Virtual Solution Global Services LLC</td>\n",
       "      <td>23</td>\n",
       "    </tr>\n",
       "    <tr>\n",
       "      <th>3</th>\n",
       "      <td>ArmenTel CJSC</td>\n",
       "      <td>23</td>\n",
       "    </tr>\n",
       "    <tr>\n",
       "      <th>4</th>\n",
       "      <td>Boomerang Software LLC</td>\n",
       "      <td>21</td>\n",
       "    </tr>\n",
       "    <tr>\n",
       "      <th>5</th>\n",
       "      <td>IUNetworks LLC</td>\n",
       "      <td>17</td>\n",
       "    </tr>\n",
       "    <tr>\n",
       "      <th>6</th>\n",
       "      <td>Joomag AM LLC</td>\n",
       "      <td>15</td>\n",
       "    </tr>\n",
       "    <tr>\n",
       "      <th>7</th>\n",
       "      <td>Sourcio CJSC</td>\n",
       "      <td>14</td>\n",
       "    </tr>\n",
       "    <tr>\n",
       "      <th>8</th>\n",
       "      <td>BetArchitect LLC</td>\n",
       "      <td>14</td>\n",
       "    </tr>\n",
       "    <tr>\n",
       "      <th>9</th>\n",
       "      <td>EPAM Systems, Inc.</td>\n",
       "      <td>14</td>\n",
       "    </tr>\n",
       "  </tbody>\n",
       "</table>\n",
       "</div>"
      ],
      "text/plain": [
       "                                Company  Job Posts\n",
       "0                     Career Center NGO        178\n",
       "1                         SAS Group LLC         25\n",
       "2  Virtual Solution Global Services LLC         23\n",
       "3                         ArmenTel CJSC         23\n",
       "4                Boomerang Software LLC         21\n",
       "5                        IUNetworks LLC         17\n",
       "6                         Joomag AM LLC         15\n",
       "7                          Sourcio CJSC         14\n",
       "8                      BetArchitect LLC         14\n",
       "9                    EPAM Systems, Inc.         14"
      ]
     },
     "execution_count": 30,
     "metadata": {},
     "output_type": "execute_result"
    }
   ],
   "source": [
    "c=pd.DataFrame(job_post.Company.value_counts().reset_index())\n",
    "c['Job Posts']=c.Company\n",
    "c['Company']=c['index']\n",
    "c.drop('index',axis=1,inplace=True)\n",
    "c.sort_values(by='Job Posts',inplace=True,ascending=False)\n",
    "c.head(10)"
   ]
  },
  {
   "cell_type": "code",
   "execution_count": 31,
   "metadata": {},
   "outputs": [
    {
     "data": {
      "text/html": [
       "<div>\n",
       "<style scoped>\n",
       "    .dataframe tbody tr th:only-of-type {\n",
       "        vertical-align: middle;\n",
       "    }\n",
       "\n",
       "    .dataframe tbody tr th {\n",
       "        vertical-align: top;\n",
       "    }\n",
       "\n",
       "    .dataframe thead th {\n",
       "        text-align: right;\n",
       "    }\n",
       "</style>\n",
       "<table border=\"1\" class=\"dataframe\">\n",
       "  <thead>\n",
       "    <tr style=\"text-align: right;\">\n",
       "      <th></th>\n",
       "      <th>Year</th>\n",
       "      <th>Title</th>\n",
       "    </tr>\n",
       "  </thead>\n",
       "  <tbody>\n",
       "    <tr>\n",
       "      <th>11</th>\n",
       "      <td>2004</td>\n",
       "      <td>84</td>\n",
       "    </tr>\n",
       "    <tr>\n",
       "      <th>10</th>\n",
       "      <td>2005</td>\n",
       "      <td>154</td>\n",
       "    </tr>\n",
       "    <tr>\n",
       "      <th>8</th>\n",
       "      <td>2006</td>\n",
       "      <td>178</td>\n",
       "    </tr>\n",
       "    <tr>\n",
       "      <th>5</th>\n",
       "      <td>2007</td>\n",
       "      <td>229</td>\n",
       "    </tr>\n",
       "    <tr>\n",
       "      <th>4</th>\n",
       "      <td>2008</td>\n",
       "      <td>245</td>\n",
       "    </tr>\n",
       "    <tr>\n",
       "      <th>9</th>\n",
       "      <td>2009</td>\n",
       "      <td>163</td>\n",
       "    </tr>\n",
       "    <tr>\n",
       "      <th>7</th>\n",
       "      <td>2010</td>\n",
       "      <td>210</td>\n",
       "    </tr>\n",
       "    <tr>\n",
       "      <th>6</th>\n",
       "      <td>2011</td>\n",
       "      <td>216</td>\n",
       "    </tr>\n",
       "    <tr>\n",
       "      <th>1</th>\n",
       "      <td>2012</td>\n",
       "      <td>274</td>\n",
       "    </tr>\n",
       "    <tr>\n",
       "      <th>2</th>\n",
       "      <td>2013</td>\n",
       "      <td>267</td>\n",
       "    </tr>\n",
       "    <tr>\n",
       "      <th>3</th>\n",
       "      <td>2014</td>\n",
       "      <td>254</td>\n",
       "    </tr>\n",
       "    <tr>\n",
       "      <th>0</th>\n",
       "      <td>2015</td>\n",
       "      <td>278</td>\n",
       "    </tr>\n",
       "  </tbody>\n",
       "</table>\n",
       "</div>"
      ],
      "text/plain": [
       "    Year  Title\n",
       "11  2004     84\n",
       "10  2005    154\n",
       "8   2006    178\n",
       "5   2007    229\n",
       "4   2008    245\n",
       "9   2009    163\n",
       "7   2010    210\n",
       "6   2011    216\n",
       "1   2012    274\n",
       "2   2013    267\n",
       "3   2014    254\n",
       "0   2015    278"
      ]
     },
     "execution_count": 31,
     "metadata": {},
     "output_type": "execute_result"
    }
   ],
   "source": [
    "y=pd.DataFrame(job_post.Year.value_counts().reset_index())\n",
    "y['Title']=y.Year\n",
    "y['Year']=y['index']\n",
    "y.drop('index',axis=1,inplace=True)\n",
    "y.sort_values(by='Year',inplace=True)\n",
    "y"
   ]
  },
  {
   "cell_type": "markdown",
   "metadata": {},
   "source": [
    "### Supervised Learning"
   ]
  },
  {
   "cell_type": "code",
   "execution_count": 32,
   "metadata": {},
   "outputs": [],
   "source": [
    "df=job_post[['RequiredQual','IT']]"
   ]
  },
  {
   "cell_type": "markdown",
   "metadata": {},
   "source": [
    "### Basic Exploratory Analysis"
   ]
  },
  {
   "cell_type": "code",
   "execution_count": 34,
   "metadata": {},
   "outputs": [],
   "source": [
    "df['RequiredQual'] = df['RequiredQual'].astype(str)\n",
    "\n",
    "pos_family = {\n",
    "    'noun' : ['NN','NNS','NNP','NNPS'],\n",
    "    'pron' : ['PRP','PRP$','WP','WP$'],\n",
    "    'verb' : ['VB','VBD','VBG','VBN','VBP','VBZ'],\n",
    "    'adj' :  ['JJ','JJR','JJS'],\n",
    "    'adv' : ['RB','RBR','RBS','WRB']\n",
    "}\n",
    "\n",
    "# function to check and get the part of speech tag count of a words in a given sentence\n",
    "def check_pos_tag(x, flag):\n",
    "    cnt = 0\n",
    "    try:\n",
    "        wiki = textblob.TextBlob(x)\n",
    "        for tup in wiki.tags:\n",
    "            ppo = list(tup)[1]\n",
    "            if ppo in pos_family[flag]:\n",
    "                cnt += 1\n",
    "    except:\n",
    "        pass\n",
    "    return cnt\n",
    "\n",
    "df['noun_count'] = df['RequiredQual'].apply(lambda x: check_pos_tag(x, 'noun'))\n",
    "df['verb_count'] = df['RequiredQual'].apply(lambda x: check_pos_tag(x, 'verb'))\n",
    "df['adj_count']  = df['RequiredQual'].apply(lambda x: check_pos_tag(x, 'adj'))\n",
    "df['adv_count']  = df['RequiredQual'].apply(lambda x: check_pos_tag(x, 'adv'))\n",
    "df['pron_count'] = df['RequiredQual'].apply(lambda x: check_pos_tag(x, 'pron')) \n"
   ]
  },
  {
   "cell_type": "markdown",
   "metadata": {},
   "source": [
    "### Calculating Sentiment analysis using Textblob module"
   ]
  },
  {
   "cell_type": "code",
   "execution_count": 35,
   "metadata": {},
   "outputs": [],
   "source": [
    "df['sentiment'] = df[\"RequiredQual\"].apply(lambda x: TextBlob(x).sentiment.polarity )"
   ]
  },
  {
   "cell_type": "code",
   "execution_count": 37,
   "metadata": {},
   "outputs": [
    {
     "data": {
      "text/plain": [
       "False    1951\n",
       "True      601\n",
       "Name: IT, dtype: int64"
      ]
     },
     "execution_count": 37,
     "metadata": {},
     "output_type": "execute_result"
    }
   ],
   "source": [
    "df.IT.value_counts()"
   ]
  },
  {
   "cell_type": "code",
   "execution_count": 38,
   "metadata": {},
   "outputs": [
    {
     "data": {
      "image/png": "[encoded data removed]",
      "text/plain": [
       "<Figure size 432x288 with 1 Axes>"
      ]
     },
     "metadata": {
      "needs_background": "light"
     },
     "output_type": "display_data"
    }
   ],
   "source": [
    "df.groupby('IT')['RequiredQual'].count().plot('bar')\n",
    "plt.show()"
   ]
  },
  {
   "cell_type": "code",
   "execution_count": 39,
   "metadata": {},
   "outputs": [],
   "source": [
    "# convert label to a numeric variable\n",
    "df['IT'] = np.where(df.IT==False,0,1)"
   ]
  },
  {
   "cell_type": "code",
   "execution_count": 42,
   "metadata": {},
   "outputs": [],
   "source": [
    "#df.to_excel('df.xlsx')"
   ]
  },
  {
   "cell_type": "markdown",
   "metadata": {},
   "source": [
    "### Split the data into train & Test"
   ]
  },
  {
   "cell_type": "code",
   "execution_count": 43,
   "metadata": {},
   "outputs": [
    {
     "name": "stdout",
     "output_type": "stream",
     "text": [
      "(2169,)\n",
      "(383,)\n",
      "(2169,)\n",
      "(383,)\n"
     ]
    }
   ],
   "source": [
    "# train features and labels \n",
    "y = df['IT']\n",
    "X = df['RequiredQual']\n",
    "\n",
    "# split the new DataFrame into training and testing sets\n",
    "X_train, X_test, y_train, y_test = train_test_split(X, y,test_size=0.15, random_state=1)\n",
    "print(X_train.shape)\n",
    "print(X_test.shape)\n",
    "print(y_train.shape)\n",
    "print(y_test.shape)"
   ]
  },
  {
   "cell_type": "markdown",
   "metadata": {},
   "source": [
    "### Creating user defined functions for clean the text and pre-process the data"
   ]
  },
  {
   "cell_type": "code",
   "execution_count": 44,
   "metadata": {},
   "outputs": [],
   "source": [
    "#Abbrevations and Words correction\n",
    "def clean_text(text):\n",
    "    text = text.lower()\n",
    "    text = text.strip()\n",
    "    text = re.sub(r' +', ' ', text)\n",
    "    text = re.sub(r\"[-()\\\"#/@;:{}`+=~|.!?,'0-9]\", \"\", text)\n",
    "    return(text)"
   ]
  },
  {
   "cell_type": "code",
   "execution_count": 45,
   "metadata": {},
   "outputs": [],
   "source": [
    "stop = set(nltk.corpus.stopwords.words('english'))"
   ]
  },
  {
   "cell_type": "code",
   "execution_count": 46,
   "metadata": {},
   "outputs": [],
   "source": [
    "import string\n",
    "def pre_process(text):\n",
    "    #text = text.str.replace('/','')                           #Replacing the / with none\n",
    "    text = text.apply(lambda x: re.sub(\"  \",\" \", x))          #Replacing double space with single space\n",
    "    #text=re.sub(r'!\"#$%&()*,-./:;<=>?@\\[]^_`{|}~','', text)     #Replacing special character with none\n",
    "    #text = re.sub(r'[0-9]+', '', text)                        #Replacing numbers with none\n",
    "    text = text.apply(lambda x: \" \".join(x.translate(str.maketrans('', '', string.punctuation)) for x in x.split() if x.isalpha()))\n",
    "    text = text.apply(lambda x: \" \".join(x for x in x.split() if x not in stop)) #Removing stop words\n",
    "    text = text.apply(lambda x: str(TextBlob(x).correct()))                      #Correct spelling corrections\n",
    "    #text = text.apply(lambda x: \" \".join(PorterStemmer().stem(word) for word in x.split())) #Stemming using porter stemmer\n",
    "   # text = text.apply(lambda x: \" \".join(stemmer_func(word) for word in x.split()))        #Stemming\n",
    "    text = text.apply(lambda x: \" \".join([Word(word).lemmatize() for word in x.split()]))   #lemmatization\n",
    "   # text = text.apply(lambda x: \" \".join(word for word, pos in pos_tag(x.split()) if pos not in ['NN','NNS','NNP','NNPS'])) #Removing nouns etc\n",
    "    return(text)"
   ]
  },
  {
   "cell_type": "code",
   "execution_count": 47,
   "metadata": {},
   "outputs": [],
   "source": [
    "X_train = X_train.apply(lambda x: clean_text(x))\n",
    "X_test = X_test.apply(lambda x: clean_text(x))"
   ]
  },
  {
   "cell_type": "code",
   "execution_count": 48,
   "metadata": {},
   "outputs": [],
   "source": [
    "X_train=pre_process(X_train)\n",
    "X_test =pre_process(X_test)"
   ]
  },
  {
   "cell_type": "markdown",
   "metadata": {},
   "source": [
    "### Vectorization (count, tfidf) for both train & test"
   ]
  },
  {
   "cell_type": "code",
   "execution_count": 49,
   "metadata": {},
   "outputs": [],
   "source": [
    "#Train\n",
    "count_vect = CountVectorizer(analyzer='word', \n",
    "                             token_pattern=r'\\w{1,}', \n",
    "                             ngram_range=(2, 3),  \n",
    "                             encoding='latin-1',\n",
    "                             max_df=0.9,min_df=0.001)\n",
    "xtrain_count = count_vect.fit_transform(X_train)\n",
    "\n",
    "tfidf_transformer = TfidfTransformer()\n",
    "X_train_tfidf = tfidf_transformer.fit_transform(xtrain_count)\n",
    "\n",
    "#Test\n",
    "#count_vect = CountVectorizer()\n",
    "xtest_count = count_vect.transform(X_test)\n",
    "\n",
    "#tfidf_transformer = TfidfTransformer()\n",
    "X_test_tfidf = tfidf_transformer.transform(xtest_count)"
   ]
  },
  {
   "cell_type": "code",
   "execution_count": 50,
   "metadata": {},
   "outputs": [
    {
     "data": {
      "text/plain": [
       "<2169x14019 sparse matrix of type '<class 'numpy.int64'>'\n",
       "\twith 140384 stored elements in Compressed Sparse Row format>"
      ]
     },
     "execution_count": 50,
     "metadata": {},
     "output_type": "execute_result"
    }
   ],
   "source": [
    "xtrain_count"
   ]
  },
  {
   "cell_type": "markdown",
   "metadata": {},
   "source": [
    "### View the document term metrics"
   ]
  },
  {
   "cell_type": "code",
   "execution_count": 51,
   "metadata": {},
   "outputs": [],
   "source": [
    "dtm2=pd.DataFrame(X_train_tfidf.toarray(), columns=count_vect.get_feature_names())"
   ]
  },
  {
   "cell_type": "code",
   "execution_count": 52,
   "metadata": {},
   "outputs": [
    {
     "data": {
      "text/html": [
       "<div>\n",
       "<style scoped>\n",
       "    .dataframe tbody tr th:only-of-type {\n",
       "        vertical-align: middle;\n",
       "    }\n",
       "\n",
       "    .dataframe tbody tr th {\n",
       "        vertical-align: top;\n",
       "    }\n",
       "\n",
       "    .dataframe thead th {\n",
       "        text-align: right;\n",
       "    }\n",
       "</style>\n",
       "<table border=\"1\" class=\"dataframe\">\n",
       "  <thead>\n",
       "    <tr style=\"text-align: right;\">\n",
       "      <th></th>\n",
       "      <th>a engineer</th>\n",
       "      <th>a engineer experience</th>\n",
       "      <th>a engineer role</th>\n",
       "      <th>a engineer software</th>\n",
       "      <th>a process</th>\n",
       "      <th>a process methodology</th>\n",
       "      <th>a role</th>\n",
       "      <th>a role ideally</th>\n",
       "      <th>a self</th>\n",
       "      <th>a self process</th>\n",
       "      <th>...</th>\n",
       "      <th>year successful formal</th>\n",
       "      <th>year supervisor</th>\n",
       "      <th>year supervisor responsibility</th>\n",
       "      <th>year upper</th>\n",
       "      <th>year upper management</th>\n",
       "      <th>year work</th>\n",
       "      <th>year work experience</th>\n",
       "      <th>year work least</th>\n",
       "      <th>year working</th>\n",
       "      <th>year working experience</th>\n",
       "    </tr>\n",
       "  </thead>\n",
       "  <tbody>\n",
       "    <tr>\n",
       "      <th>0</th>\n",
       "      <td>0.0</td>\n",
       "      <td>0.0</td>\n",
       "      <td>0.0</td>\n",
       "      <td>0.0</td>\n",
       "      <td>0.0</td>\n",
       "      <td>0.0</td>\n",
       "      <td>0.0</td>\n",
       "      <td>0.0</td>\n",
       "      <td>0.0</td>\n",
       "      <td>0.0</td>\n",
       "      <td>...</td>\n",
       "      <td>0.0</td>\n",
       "      <td>0.0</td>\n",
       "      <td>0.0</td>\n",
       "      <td>0.0</td>\n",
       "      <td>0.0</td>\n",
       "      <td>0.0</td>\n",
       "      <td>0.0</td>\n",
       "      <td>0.0</td>\n",
       "      <td>0.0</td>\n",
       "      <td>0.0</td>\n",
       "    </tr>\n",
       "    <tr>\n",
       "      <th>1</th>\n",
       "      <td>0.0</td>\n",
       "      <td>0.0</td>\n",
       "      <td>0.0</td>\n",
       "      <td>0.0</td>\n",
       "      <td>0.0</td>\n",
       "      <td>0.0</td>\n",
       "      <td>0.0</td>\n",
       "      <td>0.0</td>\n",
       "      <td>0.0</td>\n",
       "      <td>0.0</td>\n",
       "      <td>...</td>\n",
       "      <td>0.0</td>\n",
       "      <td>0.0</td>\n",
       "      <td>0.0</td>\n",
       "      <td>0.0</td>\n",
       "      <td>0.0</td>\n",
       "      <td>0.0</td>\n",
       "      <td>0.0</td>\n",
       "      <td>0.0</td>\n",
       "      <td>0.0</td>\n",
       "      <td>0.0</td>\n",
       "    </tr>\n",
       "    <tr>\n",
       "      <th>2</th>\n",
       "      <td>0.0</td>\n",
       "      <td>0.0</td>\n",
       "      <td>0.0</td>\n",
       "      <td>0.0</td>\n",
       "      <td>0.0</td>\n",
       "      <td>0.0</td>\n",
       "      <td>0.0</td>\n",
       "      <td>0.0</td>\n",
       "      <td>0.0</td>\n",
       "      <td>0.0</td>\n",
       "      <td>...</td>\n",
       "      <td>0.0</td>\n",
       "      <td>0.0</td>\n",
       "      <td>0.0</td>\n",
       "      <td>0.0</td>\n",
       "      <td>0.0</td>\n",
       "      <td>0.0</td>\n",
       "      <td>0.0</td>\n",
       "      <td>0.0</td>\n",
       "      <td>0.0</td>\n",
       "      <td>0.0</td>\n",
       "    </tr>\n",
       "    <tr>\n",
       "      <th>3</th>\n",
       "      <td>0.0</td>\n",
       "      <td>0.0</td>\n",
       "      <td>0.0</td>\n",
       "      <td>0.0</td>\n",
       "      <td>0.0</td>\n",
       "      <td>0.0</td>\n",
       "      <td>0.0</td>\n",
       "      <td>0.0</td>\n",
       "      <td>0.0</td>\n",
       "      <td>0.0</td>\n",
       "      <td>...</td>\n",
       "      <td>0.0</td>\n",
       "      <td>0.0</td>\n",
       "      <td>0.0</td>\n",
       "      <td>0.0</td>\n",
       "      <td>0.0</td>\n",
       "      <td>0.0</td>\n",
       "      <td>0.0</td>\n",
       "      <td>0.0</td>\n",
       "      <td>0.0</td>\n",
       "      <td>0.0</td>\n",
       "    </tr>\n",
       "    <tr>\n",
       "      <th>4</th>\n",
       "      <td>0.0</td>\n",
       "      <td>0.0</td>\n",
       "      <td>0.0</td>\n",
       "      <td>0.0</td>\n",
       "      <td>0.0</td>\n",
       "      <td>0.0</td>\n",
       "      <td>0.0</td>\n",
       "      <td>0.0</td>\n",
       "      <td>0.0</td>\n",
       "      <td>0.0</td>\n",
       "      <td>...</td>\n",
       "      <td>0.0</td>\n",
       "      <td>0.0</td>\n",
       "      <td>0.0</td>\n",
       "      <td>0.0</td>\n",
       "      <td>0.0</td>\n",
       "      <td>0.0</td>\n",
       "      <td>0.0</td>\n",
       "      <td>0.0</td>\n",
       "      <td>0.0</td>\n",
       "      <td>0.0</td>\n",
       "    </tr>\n",
       "    <tr>\n",
       "      <th>5</th>\n",
       "      <td>0.0</td>\n",
       "      <td>0.0</td>\n",
       "      <td>0.0</td>\n",
       "      <td>0.0</td>\n",
       "      <td>0.0</td>\n",
       "      <td>0.0</td>\n",
       "      <td>0.0</td>\n",
       "      <td>0.0</td>\n",
       "      <td>0.0</td>\n",
       "      <td>0.0</td>\n",
       "      <td>...</td>\n",
       "      <td>0.0</td>\n",
       "      <td>0.0</td>\n",
       "      <td>0.0</td>\n",
       "      <td>0.0</td>\n",
       "      <td>0.0</td>\n",
       "      <td>0.0</td>\n",
       "      <td>0.0</td>\n",
       "      <td>0.0</td>\n",
       "      <td>0.0</td>\n",
       "      <td>0.0</td>\n",
       "    </tr>\n",
       "    <tr>\n",
       "      <th>6</th>\n",
       "      <td>0.0</td>\n",
       "      <td>0.0</td>\n",
       "      <td>0.0</td>\n",
       "      <td>0.0</td>\n",
       "      <td>0.0</td>\n",
       "      <td>0.0</td>\n",
       "      <td>0.0</td>\n",
       "      <td>0.0</td>\n",
       "      <td>0.0</td>\n",
       "      <td>0.0</td>\n",
       "      <td>...</td>\n",
       "      <td>0.0</td>\n",
       "      <td>0.0</td>\n",
       "      <td>0.0</td>\n",
       "      <td>0.0</td>\n",
       "      <td>0.0</td>\n",
       "      <td>0.0</td>\n",
       "      <td>0.0</td>\n",
       "      <td>0.0</td>\n",
       "      <td>0.0</td>\n",
       "      <td>0.0</td>\n",
       "    </tr>\n",
       "    <tr>\n",
       "      <th>7</th>\n",
       "      <td>0.0</td>\n",
       "      <td>0.0</td>\n",
       "      <td>0.0</td>\n",
       "      <td>0.0</td>\n",
       "      <td>0.0</td>\n",
       "      <td>0.0</td>\n",
       "      <td>0.0</td>\n",
       "      <td>0.0</td>\n",
       "      <td>0.0</td>\n",
       "      <td>0.0</td>\n",
       "      <td>...</td>\n",
       "      <td>0.0</td>\n",
       "      <td>0.0</td>\n",
       "      <td>0.0</td>\n",
       "      <td>0.0</td>\n",
       "      <td>0.0</td>\n",
       "      <td>0.0</td>\n",
       "      <td>0.0</td>\n",
       "      <td>0.0</td>\n",
       "      <td>0.0</td>\n",
       "      <td>0.0</td>\n",
       "    </tr>\n",
       "    <tr>\n",
       "      <th>8</th>\n",
       "      <td>0.0</td>\n",
       "      <td>0.0</td>\n",
       "      <td>0.0</td>\n",
       "      <td>0.0</td>\n",
       "      <td>0.0</td>\n",
       "      <td>0.0</td>\n",
       "      <td>0.0</td>\n",
       "      <td>0.0</td>\n",
       "      <td>0.0</td>\n",
       "      <td>0.0</td>\n",
       "      <td>...</td>\n",
       "      <td>0.0</td>\n",
       "      <td>0.0</td>\n",
       "      <td>0.0</td>\n",
       "      <td>0.0</td>\n",
       "      <td>0.0</td>\n",
       "      <td>0.0</td>\n",
       "      <td>0.0</td>\n",
       "      <td>0.0</td>\n",
       "      <td>0.0</td>\n",
       "      <td>0.0</td>\n",
       "    </tr>\n",
       "    <tr>\n",
       "      <th>9</th>\n",
       "      <td>0.0</td>\n",
       "      <td>0.0</td>\n",
       "      <td>0.0</td>\n",
       "      <td>0.0</td>\n",
       "      <td>0.0</td>\n",
       "      <td>0.0</td>\n",
       "      <td>0.0</td>\n",
       "      <td>0.0</td>\n",
       "      <td>0.0</td>\n",
       "      <td>0.0</td>\n",
       "      <td>...</td>\n",
       "      <td>0.0</td>\n",
       "      <td>0.0</td>\n",
       "      <td>0.0</td>\n",
       "      <td>0.0</td>\n",
       "      <td>0.0</td>\n",
       "      <td>0.0</td>\n",
       "      <td>0.0</td>\n",
       "      <td>0.0</td>\n",
       "      <td>0.0</td>\n",
       "      <td>0.0</td>\n",
       "    </tr>\n",
       "  </tbody>\n",
       "</table>\n",
       "<p>10 rows × 14019 columns</p>\n",
       "</div>"
      ],
      "text/plain": [
       "   a engineer  a engineer experience  a engineer role  a engineer software  \\\n",
       "0         0.0                    0.0              0.0                  0.0   \n",
       "1         0.0                    0.0              0.0                  0.0   \n",
       "2         0.0                    0.0              0.0                  0.0   \n",
       "3         0.0                    0.0              0.0                  0.0   \n",
       "4         0.0                    0.0              0.0                  0.0   \n",
       "5         0.0                    0.0              0.0                  0.0   \n",
       "6         0.0                    0.0              0.0                  0.0   \n",
       "7         0.0                    0.0              0.0                  0.0   \n",
       "8         0.0                    0.0              0.0                  0.0   \n",
       "9         0.0                    0.0              0.0                  0.0   \n",
       "\n",
       "   a process  a process methodology  a role  a role ideally  a self  \\\n",
       "0        0.0                    0.0     0.0             0.0     0.0   \n",
       "1        0.0                    0.0     0.0             0.0     0.0   \n",
       "2        0.0                    0.0     0.0             0.0     0.0   \n",
       "3        0.0                    0.0     0.0             0.0     0.0   \n",
       "4        0.0                    0.0     0.0             0.0     0.0   \n",
       "5        0.0                    0.0     0.0             0.0     0.0   \n",
       "6        0.0                    0.0     0.0             0.0     0.0   \n",
       "7        0.0                    0.0     0.0             0.0     0.0   \n",
       "8        0.0                    0.0     0.0             0.0     0.0   \n",
       "9        0.0                    0.0     0.0             0.0     0.0   \n",
       "\n",
       "   a self process  ...  year successful formal  year supervisor  \\\n",
       "0             0.0  ...                     0.0              0.0   \n",
       "1             0.0  ...                     0.0              0.0   \n",
       "2             0.0  ...                     0.0              0.0   \n",
       "3             0.0  ...                     0.0              0.0   \n",
       "4             0.0  ...                     0.0              0.0   \n",
       "5             0.0  ...                     0.0              0.0   \n",
       "6             0.0  ...                     0.0              0.0   \n",
       "7             0.0  ...                     0.0              0.0   \n",
       "8             0.0  ...                     0.0              0.0   \n",
       "9             0.0  ...                     0.0              0.0   \n",
       "\n",
       "   year supervisor responsibility  year upper  year upper management  \\\n",
       "0                             0.0         0.0                    0.0   \n",
       "1                             0.0         0.0                    0.0   \n",
       "2                             0.0         0.0                    0.0   \n",
       "3                             0.0         0.0                    0.0   \n",
       "4                             0.0         0.0                    0.0   \n",
       "5                             0.0         0.0                    0.0   \n",
       "6                             0.0         0.0                    0.0   \n",
       "7                             0.0         0.0                    0.0   \n",
       "8                             0.0         0.0                    0.0   \n",
       "9                             0.0         0.0                    0.0   \n",
       "\n",
       "   year work  year work experience  year work least  year working  \\\n",
       "0        0.0                   0.0              0.0           0.0   \n",
       "1        0.0                   0.0              0.0           0.0   \n",
       "2        0.0                   0.0              0.0           0.0   \n",
       "3        0.0                   0.0              0.0           0.0   \n",
       "4        0.0                   0.0              0.0           0.0   \n",
       "5        0.0                   0.0              0.0           0.0   \n",
       "6        0.0                   0.0              0.0           0.0   \n",
       "7        0.0                   0.0              0.0           0.0   \n",
       "8        0.0                   0.0              0.0           0.0   \n",
       "9        0.0                   0.0              0.0           0.0   \n",
       "\n",
       "   year working experience  \n",
       "0                      0.0  \n",
       "1                      0.0  \n",
       "2                      0.0  \n",
       "3                      0.0  \n",
       "4                      0.0  \n",
       "5                      0.0  \n",
       "6                      0.0  \n",
       "7                      0.0  \n",
       "8                      0.0  \n",
       "9                      0.0  \n",
       "\n",
       "[10 rows x 14019 columns]"
      ]
     },
     "execution_count": 52,
     "metadata": {},
     "output_type": "execute_result"
    }
   ],
   "source": [
    "dtm2.head(10)"
   ]
  },
  {
   "cell_type": "code",
   "execution_count": 53,
   "metadata": {},
   "outputs": [],
   "source": [
    "# ngram level tf-idf \n",
    "tfidf_vect_ngram = TfidfVectorizer(analyzer='word', token_pattern='\\w{1,}', ngram_range=(2, 3),max_df=0.9,min_df=0.001)\n",
    "tfidf_vect_ngram.fit(df['RequiredQual'])\n",
    "xtrain_tfidf_ngram =  tfidf_vect_ngram.transform(X_train)\n",
    "xtest_tfidf_ngram =  tfidf_vect_ngram.transform(X_test)"
   ]
  },
  {
   "cell_type": "code",
   "execution_count": 54,
   "metadata": {},
   "outputs": [],
   "source": [
    "# characters level tf-idf\n",
    "tfidf_vect_ngram_chars = TfidfVectorizer(analyzer='char', token_pattern='\\w{1,}', ngram_range=(2,3), max_df=0.9,min_df=0.001)\n",
    "tfidf_vect_ngram_chars.fit(df['RequiredQual'])\n",
    "xtrain_tfidf_ngram_chars =  tfidf_vect_ngram_chars.transform(X_train) \n",
    "xtest_tfidf_ngram_chars =  tfidf_vect_ngram_chars.transform(X_test)"
   ]
  },
  {
   "cell_type": "markdown",
   "metadata": {},
   "source": [
    "### Topic Modeling"
   ]
  },
  {
   "cell_type": "code",
   "execution_count": 55,
   "metadata": {},
   "outputs": [],
   "source": [
    "# train a LDA Model\n",
    "lda_model = decomposition.LatentDirichletAllocation(n_components=15, learning_method='batch', max_iter=50)\n",
    "X_topics = lda_model.fit_transform(X_train_tfidf)\n",
    "topic_word = lda_model.components_ \n",
    "vocab = count_vect.get_feature_names()"
   ]
  },
  {
   "cell_type": "code",
   "execution_count": 56,
   "metadata": {},
   "outputs": [
    {
     "data": {
      "text/plain": [
       "['computer science degree computer degree computer science quality assurance year experience least year experience testing tool software development bachelor degree computer science related',\n",
       " 'medical representative experience medical experience medical representative work experience medical communication interpersonal skill software development communication interpersonal development cycle cycle ability development cycle ability',\n",
       " 'university degree medicine degree medicine medicine pharmacy degree medicine pharmacy would advantage fleecy russian experience pharmaceutical fleecy russian language language knowledge english pharmaceutical industry',\n",
       " 'knowledge work knowledge work experience experience all html all html i experience all all html experience data degree equivalent work independently deadline good',\n",
       " 'education least education least year medical pharmaceutical expel powerpoint medical pharmaceutical education pharmaceutical education higher medical pharmaceutical word expel powerpoint word expel higher medical',\n",
       " 'accounting finance economics economics least pressure within deadline within deadline least two year least two finance economics least finance economics accounting software program field plus',\n",
       " 'work experience ability work good knowledge excellent knowledge english language least year armenian russian knowledge armenian higher education university degree',\n",
       " 'accounting software accounting standard knowledge accounting degree accounting accounting finance knowledge armenian armenian accounting finance accounting tax legislation chief accountant',\n",
       " 'language excellent word expel excellent knowledge m m word experience international russian language excellent power point degree business computer application fleecy english armenian',\n",
       " 'knowledge microsoft office knowledge microsoft experience sale marketing sale marketing client knowledge armenian marketing would medicine client knowledge sale marketing would degree medicine client marketing would advantage',\n",
       " 'photoshop adore photoshop adore illustration adore illustration adore photoshop adore morel draw development team adore photoshop excellent knowledge skill good html i',\n",
       " 'medicine pharmacy fleecy pharmacy fleecy armenian pharmacy fleecy analytical problemsolving analytical problemsolving skill window line m sal skill attention skill attention detail work pressure multitask',\n",
       " 'work independently written verbal ability work independently verbal communication skill verbal communication excellent interpersonal written verbal communication ability work excellent interpersonal skill work independently well',\n",
       " 'communication skill good oral good oral written basic computer skill good oral computer internet basic computer internet task timely manner ability complete plus basic',\n",
       " 'good knowledge appropriate field experience working html i field study good knowledge top knowledge top study least study least year knowledge top principle']"
      ]
     },
     "execution_count": 56,
     "metadata": {},
     "output_type": "execute_result"
    }
   ],
   "source": [
    "# view the topic models\n",
    "n_top_words = 10\n",
    "topic_summaries = []\n",
    "for i, topic_dist in enumerate(topic_word):\n",
    "    topic_words = np.array(vocab)[np.argsort(topic_dist)][:-(n_top_words+1):-1]\n",
    "    topic_summaries.append(' '.join(topic_words))\n",
    "\n",
    "topic_summaries"
   ]
  },
  {
   "cell_type": "markdown",
   "metadata": {},
   "source": [
    "##### Topics:\n",
    "            1.communication skills\n",
    "            2.languages knowledge\n",
    "            3.Software development\n",
    "            4.sales marketing\n",
    "            5.medical pharamcy knowledge\n",
    "            6.Finance accounting\n",
    "            7.microsoft office,html,adobe photoshop knowledge"
   ]
  },
  {
   "cell_type": "markdown",
   "metadata": {},
   "source": [
    "### Online Job Data-Word Clouds"
   ]
  },
  {
   "cell_type": "code",
   "execution_count": 151,
   "metadata": {},
   "outputs": [],
   "source": [
    "frequency_words_wo_stop= {}\n",
    "for data in df['RequiredQual']:\n",
    "    tokens = nltk.wordpunct_tokenize(data.lower())\n",
    "    for token in tokens:\n",
    "        if token.lower() not in stop:\n",
    "            if token in frequency_words_wo_stop:\n",
    "                count = frequency_words_wo_stop[token]\n",
    "                count = count + 1\n",
    "                frequency_words_wo_stop[token] = count\n",
    "            else:\n",
    "                frequency_words_wo_stop[token] = 1"
   ]
  },
  {
   "cell_type": "code",
   "execution_count": 152,
   "metadata": {},
   "outputs": [
    {
     "data": {
      "text/plain": [
       "{'-': 22623,\n",
       " 'university': 794,\n",
       " 'degree': 1410,\n",
       " ';': 17205,\n",
       " 'economical': 6,\n",
       " 'background': 126,\n",
       " 'plus': 1352,\n",
       " 'excellent': 2131,\n",
       " 'knowledge': 5513,\n",
       " 'windows': 181,\n",
       " '2000': 14,\n",
       " 'server': 303,\n",
       " ',': 10113,\n",
       " 'networking': 69,\n",
       " 'tcp': 26,\n",
       " '/': 1436,\n",
       " 'ip': 40,\n",
       " 'technologies': 327,\n",
       " 'ms': 915,\n",
       " 'sql': 337,\n",
       " 'visual': 34,\n",
       " 'basic': 349,\n",
       " '6': 25,\n",
       " 'least': 1187,\n",
       " '2': 569,\n",
       " 'years': 1466,\n",
       " 'experience': 3980,\n",
       " 'database': 202,\n",
       " 'software': 879,\n",
       " 'development': 756,\n",
       " 'good': 2047,\n",
       " 'english': 2123,\n",
       " '.': 3248,\n",
       " 'remuneration': 3,\n",
       " ':': 716,\n",
       " 'commensurate': 5,\n",
       " 'norms': 14,\n",
       " 'accepted': 39,\n",
       " 'company': 134,\n",
       " 'gd': 1,\n",
       " 'creative': 119,\n",
       " 'innovative': 24,\n",
       " 'great': 11,\n",
       " 'capacity': 37,\n",
       " 'implement': 19,\n",
       " 'stylish': 1,\n",
       " 'ideas': 32,\n",
       " 'open': 242,\n",
       " 'new': 116,\n",
       " 'trends': 5,\n",
       " 'fine': 5,\n",
       " 'arts': 5,\n",
       " 'extensive': 48,\n",
       " 'graphic': 69,\n",
       " 'design': 376,\n",
       " 'marketing': 381,\n",
       " 'communications': 79,\n",
       " 'tools': 218,\n",
       " 'required': 80,\n",
       " 'well': 288,\n",
       " 'thorough': 34,\n",
       " 'adobe': 130,\n",
       " 'photoshop': 111,\n",
       " 'illustrator': 62,\n",
       " 'working': 548,\n",
       " 'web': 529,\n",
       " 'publishing': 8,\n",
       " 'enough': 2,\n",
       " 'macromedia': 8,\n",
       " 'freehand': 1,\n",
       " 'fireworks': 1,\n",
       " 'dreamweaver': 4,\n",
       " 'familiarity': 191,\n",
       " 'complex': 49,\n",
       " 'developments': 7,\n",
       " 'g': 22,\n",
       " 'u': 4,\n",
       " 'standards': 286,\n",
       " 'editors': 4,\n",
       " 'animations': 1,\n",
       " '3d': 22,\n",
       " 'reliable': 30,\n",
       " 'responsible': 98,\n",
       " 'skills': 4007,\n",
       " 'preferred': 274,\n",
       " 'qualifications': 53,\n",
       " 'essential': 22,\n",
       " 'verbal': 239,\n",
       " 'written': 700,\n",
       " 'understanding': 336,\n",
       " 'designer': 19,\n",
       " 'environment': 281,\n",
       " 'asset': 137,\n",
       " 'organized': 134,\n",
       " 'methodical': 9,\n",
       " '\"': 59,\n",
       " 'box': 4,\n",
       " 'thinker': 7,\n",
       " 'goal': 34,\n",
       " 'oriented': 305,\n",
       " 'willing': 26,\n",
       " 'learn': 315,\n",
       " 'fluency': 459,\n",
       " 'spoken': 103,\n",
       " 'european': 4,\n",
       " 'languages': 1504,\n",
       " 'desirable': 250,\n",
       " 'wide': 24,\n",
       " 'ranging': 1,\n",
       " 'administrative': 52,\n",
       " '(': 1552,\n",
       " 'accounting': 1358,\n",
       " 'bookkeeping': 10,\n",
       " 'work': 2835,\n",
       " 'tax': 343,\n",
       " 'social': 51,\n",
       " 'security': 74,\n",
       " 'maters': 1,\n",
       " 'per': 2,\n",
       " 'british': 1,\n",
       " 'law': 255,\n",
       " 'etc': 162,\n",
       " ');': 872,\n",
       " 'ability': 2832,\n",
       " 'prioritise': 2,\n",
       " 'competing': 8,\n",
       " 'tasks': 355,\n",
       " 'even': 5,\n",
       " 'pressure': 534,\n",
       " 'systematic': 11,\n",
       " 'manner': 220,\n",
       " 'using': 112,\n",
       " 'initiative': 145,\n",
       " 'team': 911,\n",
       " 'inter': 6,\n",
       " 'personal': 91,\n",
       " 'communication': 1528,\n",
       " 'organising': 1,\n",
       " 'including': 242,\n",
       " 'event': 3,\n",
       " 'organisation': 8,\n",
       " 'international': 282,\n",
       " 'outlook': 121,\n",
       " 'interest': 41,\n",
       " 'developmental': 1,\n",
       " 'issues': 80,\n",
       " 'comfortable': 6,\n",
       " 'dealing': 7,\n",
       " 'high': 427,\n",
       " 'level': 191,\n",
       " 'dignitaries': 1,\n",
       " '18': 1,\n",
       " '000': 1,\n",
       " 'annum': 1,\n",
       " 'jurisprudence': 3,\n",
       " 'following': 71,\n",
       " 'fields': 115,\n",
       " 'commercial': 47,\n",
       " 'transactions': 8,\n",
       " 'sales': 196,\n",
       " 'contracts': 38,\n",
       " 'property': 2,\n",
       " 'right': 7,\n",
       " 'labor': 100,\n",
       " 'legislations': 13,\n",
       " 'laws': 145,\n",
       " 'trademarks': 1,\n",
       " 'economic': 39,\n",
       " 'competition': 5,\n",
       " 'armenian': 1675,\n",
       " 'russian': 1424,\n",
       " 'office': 693,\n",
       " 'finance': 460,\n",
       " '5': 331,\n",
       " 'relevant': 629,\n",
       " 'micro': 4,\n",
       " 'field': 759,\n",
       " 'managing': 66,\n",
       " 'supervising': 2,\n",
       " 'training': 37,\n",
       " 'personnel': 12,\n",
       " 'cba': 21,\n",
       " 'license': 134,\n",
       " 'chief': 99,\n",
       " 'accountant': 211,\n",
       " 'deputy': 7,\n",
       " 'position': 121,\n",
       " 'proven': 111,\n",
       " 'generally': 23,\n",
       " 'principles': 195,\n",
       " 'administer': 4,\n",
       " 'financial': 234,\n",
       " 'internal': 26,\n",
       " 'control': 59,\n",
       " 'systems': 243,\n",
       " 'comprehension': 14,\n",
       " 'data': 131,\n",
       " 'processing': 53,\n",
       " 'concepts': 79,\n",
       " 'structures': 44,\n",
       " 'strategic': 39,\n",
       " 'management': 565,\n",
       " 'business': 299,\n",
       " 'forecast': 6,\n",
       " 'analysis': 100,\n",
       " 'planning': 65,\n",
       " 'monitoring': 32,\n",
       " 'budgets': 8,\n",
       " 'grant': 4,\n",
       " 'computer': 1231,\n",
       " 'literacy': 203,\n",
       " 'word': 301,\n",
       " 'processor': 4,\n",
       " 'spreadsheet': 31,\n",
       " 'applications': 282,\n",
       " 'sun': 7,\n",
       " 'emerge': 1,\n",
       " 'building': 42,\n",
       " 'multi': 78,\n",
       " 'national': 18,\n",
       " 'staff': 44,\n",
       " 'willingness': 130,\n",
       " 'travel': 66,\n",
       " 'branches': 3,\n",
       " 'across': 18,\n",
       " 'armenia': 106,\n",
       " 'strong': 995,\n",
       " 'respected': 2,\n",
       " 'certificate': 49,\n",
       " 'three': 42,\n",
       " 'banking': 83,\n",
       " 'two': 67,\n",
       " 'reporting': 139,\n",
       " 'authorities': 19,\n",
       " 'fiscal': 8,\n",
       " 'resolve': 19,\n",
       " 'taxation': 33,\n",
       " 'practical': 83,\n",
       " 'controls': 8,\n",
       " 'analytical': 403,\n",
       " 'attention': 144,\n",
       " 'details': 107,\n",
       " 'professional': 384,\n",
       " 'proficiency': 198,\n",
       " 'oral': 399,\n",
       " 'advanced': 281,\n",
       " 'competency': 9,\n",
       " 'standard': 26,\n",
       " 'email': 16,\n",
       " 'internet': 433,\n",
       " 'quicken': 2,\n",
       " 'oc': 1,\n",
       " '1': 261,\n",
       " '\";': 2,\n",
       " 'ra': 174,\n",
       " 'legislation': 307,\n",
       " 'civil': 93,\n",
       " 'codes': 23,\n",
       " 'minimum': 232,\n",
       " '3': 587,\n",
       " 'related': 587,\n",
       " 'local': 101,\n",
       " 'organizations': 86,\n",
       " 'demonstrated': 94,\n",
       " 'maintain': 51,\n",
       " 'confidentiality': 11,\n",
       " 'member': 54,\n",
       " 'independently': 220,\n",
       " 'organizational': 352,\n",
       " 'statements': 15,\n",
       " 'intended': 4,\n",
       " 'describe': 2,\n",
       " 'general': 94,\n",
       " 'nature': 3,\n",
       " 'performed': 3,\n",
       " 'construed': 2,\n",
       " 'exhaustive': 2,\n",
       " 'list': 3,\n",
       " 'responsibilities': 18,\n",
       " 'duties': 25,\n",
       " 'corel': 65,\n",
       " 'draw': 70,\n",
       " 'pagemaker': 1,\n",
       " '.;': 64,\n",
       " 'composition': 4,\n",
       " 'color': 4,\n",
       " 'matching': 1,\n",
       " 'separates': 1,\n",
       " 'different': 71,\n",
       " 'output': 2,\n",
       " 'devices': 6,\n",
       " 'friendly': 11,\n",
       " 'personality': 463,\n",
       " 'providing': 10,\n",
       " 'translation': 18,\n",
       " 'interpretation': 5,\n",
       " 'microsoft': 195,\n",
       " '.).': 14,\n",
       " 'records': 5,\n",
       " 'maintenance': 23,\n",
       " 'long': 12,\n",
       " 'unusual': 4,\n",
       " 'hours': 45,\n",
       " 'week': 2,\n",
       " 'ends': 2,\n",
       " 'unexpectedly': 2,\n",
       " 'order': 13,\n",
       " 'meet': 137,\n",
       " 'goals': 31,\n",
       " 'objectives': 21,\n",
       " 'effective': 107,\n",
       " 'perform': 38,\n",
       " 'multiple': 185,\n",
       " 'science': 170,\n",
       " 'information': 176,\n",
       " 'technology': 81,\n",
       " 'discipline': 110,\n",
       " 'bachelor': 198,\n",
       " \"'\": 376,\n",
       " 'master': 152,\n",
       " 'successful': 52,\n",
       " 'current': 33,\n",
       " 'industry': 104,\n",
       " 'java': 375,\n",
       " 'stored': 10,\n",
       " 'procedures': 77,\n",
       " 'j2ee': 77,\n",
       " 'jsp': 121,\n",
       " 'servlets': 37,\n",
       " 'one': 58,\n",
       " 'programming': 324,\n",
       " 'c': 336,\n",
       " '++/': 8,\n",
       " '++;': 20,\n",
       " 'vb': 20,\n",
       " 'html': 272,\n",
       " 'xml': 186,\n",
       " 'asp': 110,\n",
       " 'php': 241,\n",
       " 'additional': 26,\n",
       " 'characteristics': 11,\n",
       " 'task': 52,\n",
       " 'self': 429,\n",
       " 'directed': 23,\n",
       " 'highly': 173,\n",
       " 'motivated': 188,\n",
       " 'problem': 311,\n",
       " 'solving': 298,\n",
       " 'detail': 148,\n",
       " 'interpersonal': 424,\n",
       " 'public': 52,\n",
       " 'health': 32,\n",
       " 'institutional': 2,\n",
       " 'framework': 149,\n",
       " 'hiv': 1,\n",
       " 'aids': 2,\n",
       " 'prevention': 2,\n",
       " 'system': 204,\n",
       " 'unaids': 1,\n",
       " 'policies': 11,\n",
       " 'strategies': 26,\n",
       " 'global': 11,\n",
       " 'regional': 14,\n",
       " 'initiatives': 4,\n",
       " 'project': 300,\n",
       " 'funded': 24,\n",
       " 'fund': 2,\n",
       " 'fight': 4,\n",
       " 'tb': 1,\n",
       " 'malaria': 1,\n",
       " 'make': 41,\n",
       " 'recommendations': 3,\n",
       " 'present': 3,\n",
       " 'proposals': 2,\n",
       " 'improvement': 4,\n",
       " 'change': 10,\n",
       " 'activities': 44,\n",
       " 'usage': 15,\n",
       " 'computers': 13,\n",
       " 'package': 65,\n",
       " 'excel': 362,\n",
       " 'intranet': 4,\n",
       " 'spirit': 7,\n",
       " 'preferably': 216,\n",
       " 'majoring': 3,\n",
       " 'language': 1355,\n",
       " 'writing': 236,\n",
       " 'presentation': 149,\n",
       " 'assistant': 3,\n",
       " 'preferable': 208,\n",
       " 'masters': 55,\n",
       " 'relations': 37,\n",
       " 'human': 17,\n",
       " 'resources': 9,\n",
       " 'similar': 116,\n",
       " 'businesses': 2,\n",
       " 'ngos': 9,\n",
       " 'access': 46,\n",
       " 'power': 44,\n",
       " 'point': 46,\n",
       " '.),': 1,\n",
       " 'set': 40,\n",
       " 'use': 59,\n",
       " 'databases': 188,\n",
       " 'previous': 117,\n",
       " 'time': 223,\n",
       " 'must': 56,\n",
       " 'candidates': 25,\n",
       " 'programs': 171,\n",
       " 'desire': 34,\n",
       " 'bring': 7,\n",
       " 'positive': 56,\n",
       " 'things': 23,\n",
       " 'known': 5,\n",
       " 'beneficial': 48,\n",
       " 'detailed': 14,\n",
       " 'requirements': 100,\n",
       " 'ngo': 15,\n",
       " 'filings': 6,\n",
       " 'spreadsheets': 14,\n",
       " '.);': 56,\n",
       " 'people': 53,\n",
       " 'correspondence': 5,\n",
       " 'complete': 222,\n",
       " 'challenging': 8,\n",
       " 'western': 6,\n",
       " 'offices': 2,\n",
       " 'environmental': 2,\n",
       " 'economics': 286,\n",
       " 'non': 30,\n",
       " 'smoking': 1,\n",
       " 'lifestyle': 1,\n",
       " 'exemplary': 1,\n",
       " 'character': 9,\n",
       " 'employees': 14,\n",
       " 'role': 31,\n",
       " 'models': 3,\n",
       " 'students': 2,\n",
       " 'banks': 14,\n",
       " 'mfos': 1,\n",
       " 'court': 16,\n",
       " 'code': 92,\n",
       " 'georgian': 9,\n",
       " 'candidate': 24,\n",
       " 'materials': 17,\n",
       " 'preparation': 11,\n",
       " 'final': 3,\n",
       " 'version': 22,\n",
       " 'done': 8,\n",
       " 'works': 13,\n",
       " 'printing': 12,\n",
       " 'houses': 2,\n",
       " 'provide': 27,\n",
       " 'samples': 1,\n",
       " 'portfolio': 17,\n",
       " '):': 1,\n",
       " 'leaflets': 1,\n",
       " 'posters': 1,\n",
       " 'logos': 1,\n",
       " '&': 195,\n",
       " 'sketch': 4,\n",
       " 'idea': 1,\n",
       " 'accordance': 12,\n",
       " 'specifics': 2,\n",
       " 'trafficking': 3,\n",
       " 'humans': 1,\n",
       " ').': 124,\n",
       " 'administration': 234,\n",
       " 'political': 11,\n",
       " 'education': 666,\n",
       " 'studies': 56,\n",
       " 'managerial': 40,\n",
       " 'governmental': 22,\n",
       " 'organization': 108,\n",
       " 'donor': 24,\n",
       " 'projects': 183,\n",
       " 'proposal': 5,\n",
       " 'fundraising': 2,\n",
       " 'programmatic': 1,\n",
       " 'sectors': 10,\n",
       " 'governance': 3,\n",
       " 'society': 6,\n",
       " 'advocacy': 4,\n",
       " 'rights': 8,\n",
       " 'media': 35,\n",
       " 'organisational': 9,\n",
       " 'commitment': 76,\n",
       " 'individually': 39,\n",
       " 'part': 63,\n",
       " 'flexibility': 112,\n",
       " 'cope': 9,\n",
       " 'unexpected': 1,\n",
       " 'handle': 86,\n",
       " 'prioritize': 42,\n",
       " 'full': 26,\n",
       " 'workload': 18,\n",
       " 'confidence': 14,\n",
       " 'represent': 7,\n",
       " 'internews': 1,\n",
       " 'georgia': 2,\n",
       " 'levels': 43,\n",
       " 'speaking': 46,\n",
       " ')': 452,\n",
       " 'regions': 11,\n",
       " 'profound': 15,\n",
       " 'filed': 2,\n",
       " 'regulations': 148,\n",
       " 'ethics': 43,\n",
       " 'starter': 26,\n",
       " 'service': 52,\n",
       " 'minded': 215,\n",
       " 'approach': 44,\n",
       " 'higher': 654,\n",
       " 'innovations': 1,\n",
       " 'min': 1,\n",
       " 'audit': 8,\n",
       " 'person': 58,\n",
       " 'larger': 2,\n",
       " 'teams': 37,\n",
       " 'year': 280,\n",
       " 'track': 16,\n",
       " 'methods': 44,\n",
       " 'methodologies': 63,\n",
       " 'xprogramming': 1,\n",
       " 'rup': 4,\n",
       " '.)': 10,\n",
       " 'qualified': 9,\n",
       " '4': 117,\n",
       " 'post': 9,\n",
       " 'qualification': 57,\n",
       " 'expertise': 40,\n",
       " 'practices': 119,\n",
       " 'along': 2,\n",
       " 'taxes': 4,\n",
       " 'fluent': 170,\n",
       " '1c': 174,\n",
       " 'player': 197,\n",
       " 'focus': 21,\n",
       " 'equivalent': 102,\n",
       " 'recognized': 13,\n",
       " 'institution': 21,\n",
       " 'analyze': 71,\n",
       " 'depth': 33,\n",
       " 'report': 22,\n",
       " 'valid': 34,\n",
       " 'electronic': 17,\n",
       " 'mail': 261,\n",
       " 'produce': 24,\n",
       " 'accurate': 35,\n",
       " 'documents': 50,\n",
       " 'designed': 10,\n",
       " 'attractive': 4,\n",
       " 'format': 8,\n",
       " 'cooperatively': 7,\n",
       " 'tactfully': 3,\n",
       " 'diplomatically': 3,\n",
       " 'culturally': 3,\n",
       " 'diverse': 18,\n",
       " 'group': 15,\n",
       " 'foster': 3,\n",
       " 'unity': 3,\n",
       " 'teamwork': 82,\n",
       " 'cooperation': 30,\n",
       " 'sensitivity': 10,\n",
       " 'cultures': 3,\n",
       " 'beliefs': 3,\n",
       " 'gender': 15,\n",
       " 'equity': 3,\n",
       " 'cp': 1,\n",
       " 'hp': 5,\n",
       " 'program': 61,\n",
       " 'possess': 11,\n",
       " 'competences': 1,\n",
       " 'include': 6,\n",
       " 'bank': 91,\n",
       " 'reconciliations': 3,\n",
       " 'journal': 4,\n",
       " 'ledger': 4,\n",
       " 'government': 31,\n",
       " 'reports': 81,\n",
       " 'theory': 20,\n",
       " 'expect': 1,\n",
       " 'applicant': 1,\n",
       " 'show': 7,\n",
       " 'honesty': 19,\n",
       " 'world': 21,\n",
       " 'vision': 6,\n",
       " 'christian': 1,\n",
       " 'principals': 2,\n",
       " 'minium': 1,\n",
       " 'cheif': 1,\n",
       " 'production': 50,\n",
       " 'familiar': 7,\n",
       " 'computerized': 12,\n",
       " 'knowlegde': 5,\n",
       " 'issued': 9,\n",
       " 'ministry': 32,\n",
       " 'republic': 39,\n",
       " 'acca': 91,\n",
       " 'insurance': 32,\n",
       " 'market': 112,\n",
       " 'practice': 22,\n",
       " 'foreign': 90,\n",
       " 'dedication': 9,\n",
       " 'persian': 2,\n",
       " 'linux': 227,\n",
       " 'apache': 60,\n",
       " 'services': 132,\n",
       " 'perl': 46,\n",
       " 'ensim': 1,\n",
       " 'plesk': 1,\n",
       " 'cpanel': 2,\n",
       " 'hosting': 3,\n",
       " 'panels': 1,\n",
       " 'obtain': 16,\n",
       " 'applicants': 12,\n",
       " 'exposure': 14,\n",
       " 'ruby': 16,\n",
       " 'python': 24,\n",
       " '),': 126,\n",
       " '#)': 1,\n",
       " 'relational': 42,\n",
       " 'particularly': 31,\n",
       " 'interested': 3,\n",
       " 'oracle': 164,\n",
       " 'dbms': 10,\n",
       " 'application': 109,\n",
       " 'architecture': 49,\n",
       " 'net': 241,\n",
       " 'based': 110,\n",
       " '#,': 61,\n",
       " 'aspx': 1,\n",
       " 'less': 3,\n",
       " 'thinking': 126,\n",
       " 'imagination': 5,\n",
       " 'innovation': 7,\n",
       " 'negotiation': 110,\n",
       " 'career': 27,\n",
       " 'center': 7,\n",
       " 'leading': 20,\n",
       " 'educational': 35,\n",
       " 'institutions': 11,\n",
       " 'given': 31,\n",
       " 'preference': 10,\n",
       " 'corresponding': 16,\n",
       " 'organisations': 3,\n",
       " 'motivation': 39,\n",
       " 'frequently': 9,\n",
       " 'bachelors': 53,\n",
       " 'xsl': 16,\n",
       " 'dhtml': 24,\n",
       " 'flash': 17,\n",
       " 'javascript': 269,\n",
       " 'css': 215,\n",
       " 'unix': 101,\n",
       " 'troubleshoot': 12,\n",
       " 'problems': 84,\n",
       " 'research': 65,\n",
       " 'enhancements': 1,\n",
       " 'trouble': 2,\n",
       " 'shooting': 2,\n",
       " 'takes': 2,\n",
       " 'quick': 25,\n",
       " 'read': 20,\n",
       " 'technical': 318,\n",
       " 'documentation': 43,\n",
       " 'write': 34,\n",
       " 'digree': 1,\n",
       " 'also': 33,\n",
       " 'sence': 1,\n",
       " 'responsibility': 291,\n",
       " 'references': 3,\n",
       " 'managers': 7,\n",
       " 'jobs': 2,\n",
       " 'sector': 59,\n",
       " 'command': 83,\n",
       " 'developed': 27,\n",
       " 'support': 31,\n",
       " 'embassies': 4,\n",
       " 'necessary': 27,\n",
       " 'prior': 30,\n",
       " 'msword': 1,\n",
       " 'msexcel': 1,\n",
       " 'journalism': 6,\n",
       " 'sciences': 149,\n",
       " 'develop': 110,\n",
       " 'approaches': 25,\n",
       " 'trainings': 8,\n",
       " 'pr': 19,\n",
       " 'awareness': 37,\n",
       " 'connections': 1,\n",
       " 'mass': 4,\n",
       " 'advantage': 207,\n",
       " '#.': 2,\n",
       " 'yerevan': 4,\n",
       " 'state': 11,\n",
       " 'engineering': 96,\n",
       " 'worker': 13,\n",
       " 'internship': 1,\n",
       " 'declaration': 1,\n",
       " 'typical': 2,\n",
       " 'account': 15,\n",
       " 'regulation': 13,\n",
       " 'orientation': 17,\n",
       " 'hard': 29,\n",
       " 'dynamic': 71,\n",
       " 'mysql': 267,\n",
       " 'algorithms': 70,\n",
       " 'attitude': 62,\n",
       " 'books': 3,\n",
       " 'graphics': 12,\n",
       " 'packages': 45,\n",
       " 'progressive': 10,\n",
       " 'capable': 24,\n",
       " 'think': 22,\n",
       " 'critically': 6,\n",
       " 'creatively': 7,\n",
       " 'effectively': 168,\n",
       " 'fast': 79,\n",
       " 'paced': 38,\n",
       " 'stressful': 19,\n",
       " 'flexible': 298,\n",
       " 'irregular': 6,\n",
       " 'participation': 22,\n",
       " 'hearings': 1,\n",
       " 'credit': 35,\n",
       " 'manage': 104,\n",
       " 'document': 6,\n",
       " 'flow': 2,\n",
       " 'within': 209,\n",
       " 'legal': 138,\n",
       " 'particular': 9,\n",
       " 'concerning': 2,\n",
       " 'establish': 25,\n",
       " 'relationships': 35,\n",
       " 'favour': 1,\n",
       " 'sef': 1,\n",
       " 'monitor': 9,\n",
       " 'changes': 10,\n",
       " 'initiate': 2,\n",
       " 'actions': 20,\n",
       " 'reach': 3,\n",
       " 'compliance': 1,\n",
       " 'communicate': 84,\n",
       " 'clear': 17,\n",
       " 'approachable': 1,\n",
       " 'fluently': 1,\n",
       " 'translate': 7,\n",
       " 'vice': 4,\n",
       " 'versa': 4,\n",
       " 'locally': 7,\n",
       " 'expert': 55,\n",
       " 'script': 35,\n",
       " 'active': 55,\n",
       " 'hands': 46,\n",
       " 'home': 3,\n",
       " 'site': 8,\n",
       " 'imageready': 1,\n",
       " 'record': 20,\n",
       " 'meeting': 6,\n",
       " 'deadlines': 275,\n",
       " 'foundations': 2,\n",
       " 'policy': 13,\n",
       " 'equipment': 25,\n",
       " 'native': 6,\n",
       " 'multicultural': 10,\n",
       " 'region': 4,\n",
       " 'abroad': 19,\n",
       " 'several': 18,\n",
       " 'operating': 57,\n",
       " 'radiomodem': 1,\n",
       " 'proficient': 25,\n",
       " 'sponsored': 1,\n",
       " 'usaid': 21,\n",
       " 'undp': 2,\n",
       " 'eu': 12,\n",
       " 'tacis': 1,\n",
       " 'ebrd': 2,\n",
       " 'food': 6,\n",
       " 'standarts': 6,\n",
       " 'resident': 1,\n",
       " 'sphere': 82,\n",
       " 'residence': 1,\n",
       " 'companies': 63,\n",
       " 'respective': 3,\n",
       " 'accountants': 4,\n",
       " 'economy': 13,\n",
       " 'ap': 4,\n",
       " 'applicable': 17,\n",
       " 'diploma': 19,\n",
       " 'french': 31,\n",
       " 'german': 33,\n",
       " 'others': 24,\n",
       " 'tourism': 6,\n",
       " 'history': 6,\n",
       " 'culture': 5,\n",
       " 'politics': 1,\n",
       " 'initiatively': 1,\n",
       " 'teaching': 1,\n",
       " 'conducting': 10,\n",
       " 'oop': 162,\n",
       " 'developer': 112,\n",
       " 'jdbc': 20,\n",
       " 'ejb': 30,\n",
       " 'jms': 34,\n",
       " 'struts': 70,\n",
       " 'layered': 16,\n",
       " 'client': 105,\n",
       " 'components': 24,\n",
       " 'ibm': 8,\n",
       " 'websphere': 10,\n",
       " 'weblogic': 8,\n",
       " 'jboss': 32,\n",
       " 'jrun': 5,\n",
       " 'quality': 123,\n",
       " 'apply': 62,\n",
       " 'proper': 21,\n",
       " 'constructions': 18,\n",
       " 'increase': 22,\n",
       " 'competencies': 25,\n",
       " 'professionalism': 28,\n",
       " 'identify': 12,\n",
       " 'fly': 6,\n",
       " 'separate': 5,\n",
       " 'joint': 8,\n",
       " 'moments': 5,\n",
       " 'desired': 146,\n",
       " 'responsibly': 14,\n",
       " 'assigned': 35,\n",
       " 'according': 27,\n",
       " 'productive': 17,\n",
       " 'adapt': 36,\n",
       " 'decisions': 33,\n",
       " 'take': 53,\n",
       " 'energetic': 66,\n",
       " 'leader': 9,\n",
       " 'appropriately': 8,\n",
       " 'complexity': 13,\n",
       " 'areas': 35,\n",
       " 'express': 32,\n",
       " 'thoughts': 17,\n",
       " 'clearly': 35,\n",
       " 'bs': 110,\n",
       " 'applied': 3,\n",
       " 'mathematics': 23,\n",
       " '+': 68,\n",
       " 'developing': 93,\n",
       " 'newly': 1,\n",
       " 'established': 5,\n",
       " 'browser': 32,\n",
       " 'branding': 8,\n",
       " 'outreach': 3,\n",
       " 'campaigns': 10,\n",
       " 'outlets': 1,\n",
       " 'e': 275,\n",
       " 'commerce': 6,\n",
       " 'five': 14,\n",
       " 'uk': 1,\n",
       " 'teamworking': 3,\n",
       " 'would': 152,\n",
       " 'like': 21,\n",
       " 'hear': 1,\n",
       " '3dmax': 2,\n",
       " 'art': 21,\n",
       " 'school': 6,\n",
       " 'products': 87,\n",
       " 'confident': 198,\n",
       " 'mature': 5,\n",
       " 'manufacturing': 7,\n",
       " 'provision': 8,\n",
       " 'emphasis': 13,\n",
       " 'vat': 3,\n",
       " 'water': 2,\n",
       " 'unquestioned': 6,\n",
       " 'behavior': 21,\n",
       " 'collaborative': 25,\n",
       " 'habits': 6,\n",
       " 'demonstrate': 27,\n",
       " 'sense': 264,\n",
       " 'urgency': 7,\n",
       " 'achieve': 21,\n",
       " 'important': 12,\n",
       " 'ambitious': 5,\n",
       " 'softwares': 13,\n",
       " 'supervision': 65,\n",
       " 'modern': 28,\n",
       " 'filling': 1,\n",
       " 'telephone': 25,\n",
       " 'techniques': 78,\n",
       " 'spelling': 3,\n",
       " 'grammar': 3,\n",
       " 'punctuation': 3,\n",
       " 'network': 74,\n",
       " 'judgment': 16,\n",
       " 'combined': 2,\n",
       " 'aspects': 43,\n",
       " 'typing': 14,\n",
       " 'translating': 4,\n",
       " 'auditing': 50,\n",
       " 'confidential': 43,\n",
       " 'filing': 3,\n",
       " 'linguistics': 25,\n",
       " 'specialised': 2,\n",
       " 'jurisdiction': 2,\n",
       " 'welcome': 17,\n",
       " 'engineer': 26,\n",
       " 'cpa': 17,\n",
       " 'availability': 53,\n",
       " 'regulatory': 19,\n",
       " 'central': 39,\n",
       " 'ias': 8,\n",
       " 'gaap': 14,\n",
       " 'acquaintance': 24,\n",
       " 'armsoftware': 17,\n",
       " 'secondary': 2,\n",
       " 'coral': 2,\n",
       " 'quark': 3,\n",
       " 'processes': 55,\n",
       " 'common': 10,\n",
       " 'started': 1,\n",
       " 'alone': 1,\n",
       " 'na': 1,\n",
       " 'basics': 15,\n",
       " 'certain': 5,\n",
       " 'accountng': 1,\n",
       " 'medical': 177,\n",
       " 'pediatrics': 10,\n",
       " 'x': 52,\n",
       " 'pharmacy': 63,\n",
       " 'biology': 5,\n",
       " 'nutrition': 26,\n",
       " 'hospitals': 6,\n",
       " 'acquire': 12,\n",
       " 'efforts': 14,\n",
       " 'seminars': 11,\n",
       " 'infants': 8,\n",
       " 'mobility': 4,\n",
       " 'ready': 9,\n",
       " 'extensively': 8,\n",
       " 'car': 21,\n",
       " 'driving': 79,\n",
       " 'meticulous': 1,\n",
       " 'accuracy': 113,\n",
       " 'integrity': 34,\n",
       " 'learning': 43,\n",
       " 'growth': 20,\n",
       " 'punctual': 210,\n",
       " 'communicative': 199,\n",
       " 'eager': 189,\n",
       " 'timely': 209,\n",
       " 'financing': 8,\n",
       " 'progressively': 12,\n",
       " 'communicational': 16,\n",
       " '1s': 5,\n",
       " 'real': 21,\n",
       " 'estate': 8,\n",
       " 'pc': 56,\n",
       " 'agency': 11,\n",
       " 'preferrable': 2,\n",
       " 'certified': 5,\n",
       " 'officer': 9,\n",
       " 'budget': 22,\n",
       " 'plan': 15,\n",
       " 'organize': 23,\n",
       " 'ensure': 12,\n",
       " 'polytechnics': 2,\n",
       " 'dra': 1,\n",
       " 'deep': 30,\n",
       " 'games': 4,\n",
       " 'univertity': 1,\n",
       " 'sites': 12,\n",
       " 'please': 3,\n",
       " 'hyperlinks': 1,\n",
       " 'fax': 4,\n",
       " 'scanner': 3,\n",
       " 'experinece': 1,\n",
       " 'mba': 58,\n",
       " 'directly': 6,\n",
       " 'specified': 2,\n",
       " 'advertising': 17,\n",
       " 'leadership': 59,\n",
       " 'budgeting': 13,\n",
       " 'cost': 19,\n",
       " 'estimating': 2,\n",
       " 'may': 11,\n",
       " 'substituted': 1,\n",
       " '7': 52,\n",
       " 'implementation': 45,\n",
       " 'events': 9,\n",
       " 'conferences': 1,\n",
       " 'deal': 18,\n",
       " 'range': 11,\n",
       " 'clients': 43,\n",
       " 'stakeholders': 20,\n",
       " 'backgrounds': 9,\n",
       " 'follow': 24,\n",
       " 'able': 39,\n",
       " 'tight': 50,\n",
       " 'constraints': 12,\n",
       " 'powerpoint': 64,\n",
       " ...}"
      ]
     },
     "execution_count": 152,
     "metadata": {},
     "output_type": "execute_result"
    }
   ],
   "source": [
    "frequency_words_wo_stop"
   ]
  },
  {
   "cell_type": "code",
   "execution_count": 153,
   "metadata": {},
   "outputs": [],
   "source": [
    "from wordcloud import WordCloud ,STOPWORDS"
   ]
  },
  {
   "cell_type": "code",
   "execution_count": 154,
   "metadata": {},
   "outputs": [
    {
     "data": {
      "text/plain": [
       "<matplotlib.image.AxesImage at 0x237a9195208>"
      ]
     },
     "execution_count": 154,
     "metadata": {},
     "output_type": "execute_result"
    },
    {
     "data": {
      "image/png": "[encoded data removed]",
      "text/plain": [
       "<Figure size 14400x3600 with 1 Axes>"
      ]
     },
     "metadata": {
      "needs_background": "light"
     },
     "output_type": "display_data"
    }
   ],
   "source": [
    "wordcloud = WordCloud(stopwords=[]).generate(' '.join(X_train.tolist()))\n",
    "\n",
    "%matplotlib inline\n",
    "fig = plt.figure(figsize=(200,50))\n",
    "plt.imshow(wordcloud)"
   ]
  },
  {
   "cell_type": "markdown",
   "metadata": {},
   "source": [
    "### Create user defined function for train the models"
   ]
  },
  {
   "cell_type": "code",
   "execution_count": 34,
   "metadata": {},
   "outputs": [],
   "source": [
    "def train_model(classifier, feature_vector_train, label, feature_vector_valid,  valid_y, is_neural_net=False):\n",
    "    # fit the training dataset on the classifier\n",
    "    classifier.fit(feature_vector_train, label)\n",
    "    \n",
    "    # predict the labels on validation dataset\n",
    "    predictions = classifier.predict(feature_vector_valid)\n",
    "    \n",
    "    if is_neural_net:\n",
    "        predictions = predictions.argmax(axis=-1)\n",
    "    \n",
    "    \n",
    "    return metrics.accuracy_score(predictions, valid_y)"
   ]
  },
  {
   "cell_type": "markdown",
   "metadata": {},
   "source": [
    "### Building different models with different vectors"
   ]
  },
  {
   "cell_type": "code",
   "execution_count": 156,
   "metadata": {},
   "outputs": [
    {
     "name": "stdout",
     "output_type": "stream",
     "text": [
      "NB for L1, Count Vectors:  0.9660574412532638\n",
      "NB  for L1, WordLevel TF-IDF:  0.9738903394255874\n",
      "NB  for L1, N-Gram Vectors:  0.8981723237597912\n",
      "NB for L1, CharLevel Vectors:  0.9399477806788512\n"
     ]
    }
   ],
   "source": [
    "#Naive Bayes\n",
    "# Naive Bayes on Count Vectors and TF-IDF\n",
    "accuracy_L1 = train_model(naive_bayes.MultinomialNB(), X_train_tfidf, y_train, X_test_tfidf, y_test)\n",
    "print(\"NB for L1, Count Vectors: \", accuracy_L1)\n",
    "\n",
    "# Naive Bayes on Word Level TF IDF Vectors\n",
    "accuracy_L1 = train_model(naive_bayes.MultinomialNB(), xtrain_count, y_train, xtest_count, y_test)\n",
    "print(\"NB  for L1, WordLevel TF-IDF: \", accuracy_L1)\n",
    "\n",
    "# Naive Bayes on Ngram Level TF IDF Vectors\n",
    "accuracy_L1 = train_model(naive_bayes.MultinomialNB(), xtrain_tfidf_ngram, y_train, xtest_tfidf_ngram, y_test)\n",
    "print(\"NB  for L1, N-Gram Vectors: \", accuracy_L1)\n",
    "\n",
    "\n",
    "\n",
    "# Naive Bayes on Character Level TF IDF Vectors\n",
    "accuracy_L1 = train_model(naive_bayes.MultinomialNB(), xtrain_tfidf_ngram_chars, y_train, xtest_tfidf_ngram_chars, y_test)\n",
    "print(\"NB for L1, CharLevel Vectors: \", accuracy_L1)"
   ]
  },
  {
   "cell_type": "code",
   "execution_count": 157,
   "metadata": {},
   "outputs": [
    {
     "name": "stdout",
     "output_type": "stream",
     "text": [
      "LR  for L1, Count Vectors:  0.9556135770234987\n",
      "LR  for L1, WordLevel TF-IDF:  0.9712793733681462\n",
      "LR  for L1, N-Gram Vectors:  0.9425587467362925\n",
      "LR for L1, CharLevel Vectors:  0.97911227154047\n"
     ]
    }
   ],
   "source": [
    "#Logistic Regression\n",
    "# Logistic Regression on Count Vectors and TF-IDF\n",
    "accuracy_L1 = train_model(LogisticRegression(), X_train_tfidf, y_train, X_test_tfidf, y_test)\n",
    "print(\"LR  for L1, Count Vectors: \", accuracy_L1)\n",
    "\n",
    "\n",
    "\n",
    "# Logistic Regression on Word Level TF IDF Vectors\n",
    "accuracy_L1 = train_model(LogisticRegression(), xtrain_count, y_train, xtest_count, y_test)\n",
    "print(\"LR  for L1, WordLevel TF-IDF: \", accuracy_L1)\n",
    "\n",
    "\n",
    "\n",
    "# Logistic Regression on Ngram Level TF IDF Vectors\n",
    "accuracy_L1 = train_model(LogisticRegression(), xtrain_tfidf_ngram, y_train, xtest_tfidf_ngram, y_test)\n",
    "print(\"LR  for L1, N-Gram Vectors: \", accuracy_L1)\n",
    "\n",
    "\n",
    "\n",
    "# Logistic Regression on Character Level TF IDF Vectors\n",
    "accuracy_L1 = train_model(LogisticRegression(), xtrain_tfidf_ngram_chars, y_train, xtest_tfidf_ngram_chars, y_test)\n",
    "print(\"LR for L1, CharLevel Vectors: \", accuracy_L1)"
   ]
  },
  {
   "cell_type": "code",
   "execution_count": 158,
   "metadata": {},
   "outputs": [
    {
     "name": "stdout",
     "output_type": "stream",
     "text": [
      "SVC  for L1, Count Vectors:  0.9765013054830287\n",
      "SVC  for L1, WordLevel TF-IDF:  0.9686684073107049\n",
      "SVC  for L1, N-Gram Vectors:  0.9608355091383812\n",
      "SVC for L1, CharLevel Vectors:  0.9869451697127938\n"
     ]
    }
   ],
   "source": [
    "#Linear SVC\n",
    "# Linear SVC on Count Vectors and TF-IDF\n",
    "accuracy_L1 = train_model(svm.LinearSVC(), X_train_tfidf, y_train, X_test_tfidf, y_test)\n",
    "print(\"SVC  for L1, Count Vectors: \", accuracy_L1)\n",
    "\n",
    "\n",
    "\n",
    "# Linear SVC on Word Level TF IDF Vectors\n",
    "accuracy_L1 = train_model(svm.LinearSVC(), xtrain_count, y_train, xtest_count, y_test)\n",
    "print(\"SVC  for L1, WordLevel TF-IDF: \", accuracy_L1)\n",
    "\n",
    "\n",
    "\n",
    "# Linear SVC on Ngram Level TF IDF Vectors\n",
    "accuracy_L1 = train_model(svm.LinearSVC(), xtrain_tfidf_ngram, y_train, xtest_tfidf_ngram, y_test)\n",
    "print(\"SVC  for L1, N-Gram Vectors: \", accuracy_L1)\n",
    "\n",
    "\n",
    "\n",
    "# Linear SVC on Character Level TF IDF Vectors\n",
    "accuracy_L1 = train_model(svm.LinearSVC(), xtrain_tfidf_ngram_chars, y_train, xtest_tfidf_ngram_chars, y_test)\n",
    "print(\"SVC for L1, CharLevel Vectors: \", accuracy_L1)"
   ]
  },
  {
   "cell_type": "code",
   "execution_count": 159,
   "metadata": {},
   "outputs": [
    {
     "name": "stdout",
     "output_type": "stream",
     "text": [
      "LR  for L1, Count Vectors:  0.9503916449086162\n",
      "LR  for L1, WordLevel TF-IDF:  0.9686684073107049\n",
      "LR  for L1, N-Gram Vectors:  0.9347258485639687\n",
      "LR for L1, CharLevel Vectors:  0.9634464751958225\n"
     ]
    }
   ],
   "source": [
    "#Random Forest\n",
    "# Random Forest on Count Vectors and TF-IDF\n",
    "accuracy_L1 = train_model(RandomForestClassifier(), X_train_tfidf, y_train, X_test_tfidf, y_test)\n",
    "print(\"LR  for L1, Count Vectors: \", accuracy_L1)\n",
    "\n",
    "\n",
    "\n",
    "# Random Forest on Word Level TF IDF Vectors\n",
    "accuracy_L1 = train_model(RandomForestClassifier(), xtrain_count, y_train, xtest_count, y_test)\n",
    "print(\"LR  for L1, WordLevel TF-IDF: \", accuracy_L1)\n",
    "\n",
    "\n",
    "\n",
    "# Random Forest on Ngram Level TF IDF Vectors\n",
    "accuracy_L1 = train_model(RandomForestClassifier(), xtrain_tfidf_ngram, y_train, xtest_tfidf_ngram, y_test)\n",
    "print(\"LR  for L1, N-Gram Vectors: \", accuracy_L1)\n",
    "\n",
    "\n",
    "\n",
    "# Random Forest on Character Level TF IDF Vectors\n",
    "accuracy_L1 = train_model(RandomForestClassifier(), xtrain_tfidf_ngram_chars, y_train, xtest_tfidf_ngram_chars, y_test)\n",
    "print(\"LR for L1, CharLevel Vectors: \", accuracy_L1)"
   ]
  },
  {
   "cell_type": "code",
   "execution_count": 160,
   "metadata": {},
   "outputs": [
    {
     "name": "stdout",
     "output_type": "stream",
     "text": [
      "LR  for L1, Count Vectors:  0.9451697127937336\n",
      "LR  for L1, WordLevel TF-IDF:  0.9503916449086162\n",
      "LR  for L1, N-Gram Vectors:  0.9060052219321149\n",
      "LR for L1, CharLevel Vectors:  0.9712793733681462\n"
     ]
    }
   ],
   "source": [
    "#XGBoosting\n",
    "# XGBoosting on Count Vectors and TF-IDF\n",
    "accuracy_L1 = train_model(XGBClassifier(), X_train_tfidf, y_train, X_test_tfidf, y_test)\n",
    "print(\"LR  for L1, Count Vectors: \", accuracy_L1)\n",
    "\n",
    "\n",
    "\n",
    "# XGBoosting on Word Level TF IDF Vectors\n",
    "accuracy_L1 = train_model(XGBClassifier(), xtrain_count, y_train, xtest_count, y_test)\n",
    "print(\"LR  for L1, WordLevel TF-IDF: \", accuracy_L1)\n",
    "\n",
    "\n",
    "\n",
    "# XGBoosting on Ngram Level TF IDF Vectors\n",
    "accuracy_L1 = train_model(XGBClassifier(), xtrain_tfidf_ngram, y_train, xtest_tfidf_ngram, y_test)\n",
    "print(\"LR  for L1, N-Gram Vectors: \", accuracy_L1)\n",
    "\n",
    "\n",
    "\n",
    "# XGBoosting on Character Level TF IDF Vectors\n",
    "accuracy_L1 = train_model(XGBClassifier(), xtrain_tfidf_ngram_chars, y_train, xtest_tfidf_ngram_chars, y_test)\n",
    "print(\"LR for L1, CharLevel Vectors: \", accuracy_L1)"
   ]
  },
  {
   "cell_type": "code",
   "execution_count": 161,
   "metadata": {},
   "outputs": [
    {
     "name": "stdout",
     "output_type": "stream",
     "text": [
      "LR  for L1, Count Vectors:  0.97911227154047\n",
      "LR  for L1, WordLevel TF-IDF:  0.97911227154047\n",
      "LR  for L1, N-Gram Vectors:  0.9660574412532638\n",
      "LR for L1, CharLevel Vectors:  0.9869451697127938\n"
     ]
    }
   ],
   "source": [
    "#ANN\n",
    "# ANN on Count Vectors and TF-IDF\n",
    "accuracy_L1 = train_model(MLPClassifier(), X_train_tfidf, y_train, X_test_tfidf, y_test)\n",
    "print(\"LR  for L1, Count Vectors: \", accuracy_L1)\n",
    "\n",
    "\n",
    "\n",
    "#ANN on Word Level TF IDF Vectors\n",
    "accuracy_L1 = train_model(MLPClassifier(), xtrain_count, y_train, xtest_count, y_test)\n",
    "print(\"LR  for L1, WordLevel TF-IDF: \", accuracy_L1)\n",
    "\n",
    "\n",
    "\n",
    "# ANN on Ngram Level TF IDF Vectors\n",
    "accuracy_L1 = train_model(MLPClassifier(), xtrain_tfidf_ngram, y_train, xtest_tfidf_ngram, y_test)\n",
    "print(\"LR  for L1, N-Gram Vectors: \", accuracy_L1)\n",
    "\n",
    "\n",
    "\n",
    "# ANN on Character Level TF IDF Vectors\n",
    "accuracy_L1 = train_model(MLPClassifier(), xtrain_tfidf_ngram_chars, y_train, xtest_tfidf_ngram_chars, y_test)\n",
    "print(\"LR for L1, CharLevel Vectors: \", accuracy_L1)"
   ]
  },
  {
   "cell_type": "code",
   "execution_count": 162,
   "metadata": {},
   "outputs": [
    {
     "name": "stdout",
     "output_type": "stream",
     "text": [
      "LR  for L1, Count Vectors:  0.9738903394255874\n",
      "LR  for L1, WordLevel TF-IDF:  0.9765013054830287\n",
      "LR  for L1, N-Gram Vectors:  0.9712793733681462\n",
      "LR for L1, CharLevel Vectors:  0.9843342036553525\n"
     ]
    }
   ],
   "source": [
    "#ANN +logistic\n",
    "# ANN +logistic on Count Vectors and TF-IDF\n",
    "accuracy_L1 = train_model(MLPClassifier(activation='logistic'), X_train_tfidf, y_train, X_test_tfidf, y_test)\n",
    "print(\"LR  for L1, Count Vectors: \", accuracy_L1)\n",
    "\n",
    "\n",
    "\n",
    "# ANN +logistic on Word Level TF IDF Vectors\n",
    "accuracy_L1 = train_model(MLPClassifier(activation='logistic'), xtrain_count, y_train, xtest_count, y_test)\n",
    "print(\"LR  for L1, WordLevel TF-IDF: \", accuracy_L1)\n",
    "\n",
    "\n",
    "\n",
    "# ANN +logistic on Ngram Level TF IDF Vectors\n",
    "accuracy_L1 = train_model(MLPClassifier(activation='logistic'), xtrain_tfidf_ngram, y_train, xtest_tfidf_ngram, y_test)\n",
    "print(\"LR  for L1, N-Gram Vectors: \", accuracy_L1)\n",
    "\n",
    "\n",
    "\n",
    "# ANN +logistic on Character Level TF IDF Vectors\n",
    "accuracy_L1 = train_model(MLPClassifier(activation='logistic'), xtrain_tfidf_ngram_chars, y_train, xtest_tfidf_ngram_chars, y_test)\n",
    "print(\"LR for L1, CharLevel Vectors: \", accuracy_L1)"
   ]
  },
  {
   "cell_type": "code",
   "execution_count": 163,
   "metadata": {},
   "outputs": [
    {
     "name": "stdout",
     "output_type": "stream",
     "text": [
      "LR  for L1, Count Vectors:  0.9451697127937336\n",
      "LR  for L1, WordLevel TF-IDF:  0.9503916449086162\n",
      "LR  for L1, N-Gram Vectors:  0.9060052219321149\n",
      "LR for L1, CharLevel Vectors:  0.9712793733681462\n"
     ]
    }
   ],
   "source": [
    "#OneVsRest + XGBoosting\n",
    "# OneVsRest + XGBoosting on Count Vectors and TF-IDF\n",
    "accuracy_L1 = train_model(OneVsRestClassifier(XGBClassifier()), X_train_tfidf, y_train, X_test_tfidf, y_test)\n",
    "print(\"LR  for L1, Count Vectors: \", accuracy_L1)\n",
    "\n",
    "\n",
    "\n",
    "# OneVsRest + XGBoosting on Word Level TF IDF Vectors\n",
    "accuracy_L1 = train_model(OneVsRestClassifier(XGBClassifier()), xtrain_count, y_train, xtest_count, y_test)\n",
    "print(\"LR  for L1, WordLevel TF-IDF: \", accuracy_L1)\n",
    "\n",
    "\n",
    "\n",
    "# OneVsRest + XGBoosting on Ngram Level TF IDF Vectors\n",
    "accuracy_L1 = train_model(OneVsRestClassifier(XGBClassifier()), xtrain_tfidf_ngram, y_train, xtest_tfidf_ngram, y_test)\n",
    "print(\"LR  for L1, N-Gram Vectors: \", accuracy_L1)\n",
    "\n",
    "\n",
    "\n",
    "# OneVsRest + XGBoosting on Character Level TF IDF Vectors\n",
    "accuracy_L1 = train_model(OneVsRestClassifier(XGBClassifier()), xtrain_tfidf_ngram_chars, y_train, xtest_tfidf_ngram_chars, y_test)\n",
    "print(\"LR for L1, CharLevel Vectors: \", accuracy_L1)"
   ]
  },
  {
   "cell_type": "markdown",
   "metadata": {},
   "source": [
    "### Adding Features to a Document-Term Matrix"
   ]
  },
  {
   "cell_type": "code",
   "execution_count": 167,
   "metadata": {},
   "outputs": [],
   "source": [
    "# create a DataFrame that only contains the IT=1 and IT=0\n",
    "job_post = df[(df.IT==0)| (df.IT==1)]\n",
    "\n",
    "# define X and y\n",
    "feature_cols = ['RequiredQual','sentiment']\n",
    "X = df[feature_cols]\n",
    "y = df.IT\n",
    "\n",
    "# split into training and testing sets\n",
    "X_train, X_test, y_train, y_test = train_test_split(X, y,random_state=1)"
   ]
  },
  {
   "cell_type": "code",
   "execution_count": 168,
   "metadata": {},
   "outputs": [
    {
     "name": "stdout",
     "output_type": "stream",
     "text": [
      "(1914, 22023)\n",
      "(638, 22023)\n"
     ]
    },
    {
     "data": {
      "text/plain": [
       "(1914, 1)"
      ]
     },
     "execution_count": 168,
     "metadata": {},
     "output_type": "execute_result"
    }
   ],
   "source": [
    "# use CountVectorizer with text column only\n",
    "vect = TfidfVectorizer(lowercase=True, stop_words='english', max_df=0.9,min_df=0.001, ngram_range=(2,3))\n",
    "X_train_dtm = vect.fit_transform(X_train.RequiredQual)\n",
    "X_test_dtm = vect.transform(X_test.RequiredQual)\n",
    "print(X_train_dtm.shape)\n",
    "print(X_test_dtm.shape)\n",
    "\n",
    "# shape of other four feature columns\n",
    "X_train.drop('RequiredQual', axis=1).shape"
   ]
  },
  {
   "cell_type": "code",
   "execution_count": 169,
   "metadata": {},
   "outputs": [
    {
     "name": "stdout",
     "output_type": "stream",
     "text": [
      "(1914, 3585)\n",
      "(638, 3585)\n"
     ]
    },
    {
     "data": {
      "text/plain": [
       "(1914, 1)"
      ]
     },
     "execution_count": 169,
     "metadata": {},
     "output_type": "execute_result"
    }
   ],
   "source": [
    "# use CountVectorizer with text column only\n",
    "vect = CountVectorizer()\n",
    "X_train_dtm = vect.fit_transform(X_train.RequiredQual)\n",
    "X_test_dtm = vect.transform(X_test.RequiredQual)\n",
    "print(X_train_dtm.shape)\n",
    "print(X_test_dtm.shape)\n",
    "\n",
    "# shape of other four feature columns\n",
    "X_train.drop('RequiredQual', axis=1).shape"
   ]
  },
  {
   "cell_type": "code",
   "execution_count": 170,
   "metadata": {},
   "outputs": [
    {
     "data": {
      "text/plain": [
       "(638, 3586)"
      ]
     },
     "execution_count": 170,
     "metadata": {},
     "output_type": "execute_result"
    }
   ],
   "source": [
    "# cast other feature columns to float and convert to a sparse matrix\n",
    "extra = sparse.csr_matrix(X_train.drop('RequiredQual', axis=1).astype(float))\n",
    "extra.shape\n",
    "\n",
    "# combine sparse matrices\n",
    "X_train_dtm_extra = sparse.hstack((X_train_dtm, extra))\n",
    "X_train_dtm_extra.shape\n",
    "\n",
    "# repeat for testing set\n",
    "extra = sparse.csr_matrix(X_test.drop('RequiredQual', axis=1).astype(float))\n",
    "X_test_dtm_extra = sparse.hstack((X_test_dtm, extra))\n",
    "X_test_dtm_extra.shape"
   ]
  },
  {
   "cell_type": "code",
   "execution_count": 189,
   "metadata": {},
   "outputs": [
    {
     "data": {
      "text/plain": [
       "0.9890282131661442"
      ]
     },
     "execution_count": 189,
     "metadata": {},
     "output_type": "execute_result"
    }
   ],
   "source": [
    "# use ANN with all features\n",
    "mp = MLPClassifier()\n",
    "mp.fit(X_train_dtm, y_train)\n",
    "y_pred_class = mp.predict(X_test_dtm)\n",
    "acc_mlp=metrics.accuracy_score(y_test, y_pred_class)\n",
    "acc_mlp"
   ]
  },
  {
   "cell_type": "code",
   "execution_count": 190,
   "metadata": {
    "scrolled": true
   },
   "outputs": [
    {
     "data": {
      "text/plain": [
       "0.9890282131661442"
      ]
     },
     "execution_count": 190,
     "metadata": {},
     "output_type": "execute_result"
    }
   ],
   "source": [
    "# use ANN with all features\n",
    "mp = MLPClassifier()\n",
    "mp.fit(X_train_dtm_extra, y_train)\n",
    "y_pred_class = mp.predict(X_test_dtm_extra)\n",
    "acc_mlp1=metrics.accuracy_score(y_test, y_pred_class)\n",
    "acc_mlp1"
   ]
  },
  {
   "cell_type": "code",
   "execution_count": 173,
   "metadata": {},
   "outputs": [
    {
     "data": {
      "text/plain": [
       "0.9686520376175548"
      ]
     },
     "execution_count": 173,
     "metadata": {},
     "output_type": "execute_result"
    }
   ],
   "source": [
    "# use Random Forest with text column only\n",
    "rmf = RandomForestClassifier()\n",
    "rmf.fit(X_train_dtm, y_train)\n",
    "y_pred_class = rmf.predict(X_test_dtm,)\n",
    "acc_rmf=metrics.accuracy_score(y_test, y_pred_class)\n",
    "acc_rmf"
   ]
  },
  {
   "cell_type": "code",
   "execution_count": 174,
   "metadata": {},
   "outputs": [
    {
     "data": {
      "text/plain": [
       "0.9702194357366771"
      ]
     },
     "execution_count": 174,
     "metadata": {},
     "output_type": "execute_result"
    }
   ],
   "source": [
    "# use Random Forest with all features\n",
    "rmf = RandomForestClassifier()\n",
    "rmf.fit(X_train_dtm_extra, y_train)\n",
    "y_pred_class = rmf.predict(X_test_dtm_extra)\n",
    "acc_rmf1=metrics.accuracy_score(y_test, y_pred_class)\n",
    "acc_rmf1"
   ]
  },
  {
   "cell_type": "code",
   "execution_count": 175,
   "metadata": {
    "scrolled": true
   },
   "outputs": [
    {
     "data": {
      "text/plain": [
       "0.9827586206896551"
      ]
     },
     "execution_count": 175,
     "metadata": {},
     "output_type": "execute_result"
    }
   ],
   "source": [
    "# use logistic regression with text column only\n",
    "logreg = LogisticRegression(C=1e9)\n",
    "logreg.fit(X_train_dtm, y_train)\n",
    "y_pred_class = logreg.predict(X_test_dtm)\n",
    "acc_log=metrics.accuracy_score(y_test, y_pred_class)\n",
    "acc_log"
   ]
  },
  {
   "cell_type": "code",
   "execution_count": 176,
   "metadata": {},
   "outputs": [
    {
     "data": {
      "text/plain": [
       "0.9827586206896551"
      ]
     },
     "execution_count": 176,
     "metadata": {},
     "output_type": "execute_result"
    }
   ],
   "source": [
    "# use logistic regression with text column only\n",
    "logreg= LogisticRegression(C=1e9)\n",
    "logreg.fit(X_train_dtm_extra, y_train)\n",
    "y_pred_class = logreg.predict(X_test_dtm_extra)\n",
    "acc_log1=metrics.accuracy_score(y_test, y_pred_class)\n",
    "acc_log1"
   ]
  },
  {
   "cell_type": "code",
   "execution_count": 177,
   "metadata": {},
   "outputs": [
    {
     "data": {
      "text/plain": [
       "0.9827586206896551"
      ]
     },
     "execution_count": 177,
     "metadata": {},
     "output_type": "execute_result"
    }
   ],
   "source": [
    "# use Xtreme Boosting with text column only\n",
    "xgb = XGBClassifier()\n",
    "xgb.fit(X_train_dtm, y_train)\n",
    "y_pred_class = xgb.predict(X_test_dtm)\n",
    "acc_xgb=metrics.accuracy_score(y_test, y_pred_class)\n",
    "acc_xgb"
   ]
  },
  {
   "cell_type": "code",
   "execution_count": 178,
   "metadata": {},
   "outputs": [
    {
     "data": {
      "text/plain": [
       "0.9827586206896551"
      ]
     },
     "execution_count": 178,
     "metadata": {},
     "output_type": "execute_result"
    }
   ],
   "source": [
    "# use Xtreme Boosting with text column only\n",
    "xgb =XGBClassifier()\n",
    "xgb.fit(X_train_dtm_extra, y_train)\n",
    "y_pred_class = xgb.predict(X_test_dtm_extra)\n",
    "acc_xgb1=metrics.accuracy_score(y_test, y_pred_class)\n",
    "acc_xgb1"
   ]
  },
  {
   "cell_type": "code",
   "execution_count": 179,
   "metadata": {},
   "outputs": [
    {
     "data": {
      "text/plain": [
       "0.9858934169278997"
      ]
     },
     "execution_count": 179,
     "metadata": {},
     "output_type": "execute_result"
    }
   ],
   "source": [
    "# use ANN and logistic with text column only\n",
    "mp = MLPClassifier(activation='logistic')\n",
    "mp.fit(X_train_dtm, y_train)\n",
    "y_pred_class = mp.predict(X_test_dtm)\n",
    "acc_mlp_ln=metrics.accuracy_score(y_test, y_pred_class)\n",
    "acc_mlp_ln"
   ]
  },
  {
   "cell_type": "code",
   "execution_count": 180,
   "metadata": {},
   "outputs": [
    {
     "data": {
      "text/plain": [
       "0.987460815047022"
      ]
     },
     "execution_count": 180,
     "metadata": {},
     "output_type": "execute_result"
    }
   ],
   "source": [
    "# use ANN and logistic with text column only\n",
    "mp = MLPClassifier(activation='logistic')\n",
    "mp.fit(X_train_dtm_extra, y_train)\n",
    "y_pred_class = mp.predict(X_test_dtm_extra)\n",
    "acc_mlp_ln1=metrics.accuracy_score(y_test, y_pred_class)\n",
    "acc_mlp_ln1"
   ]
  },
  {
   "cell_type": "code",
   "execution_count": 181,
   "metadata": {},
   "outputs": [
    {
     "data": {
      "text/plain": [
       "0.9827586206896551"
      ]
     },
     "execution_count": 181,
     "metadata": {},
     "output_type": "execute_result"
    }
   ],
   "source": [
    "# use OneVsRest and Boosting with text column only\n",
    "one_xgb = OneVsRestClassifier(XGBClassifier())\n",
    "one_xgb.fit(X_train_dtm, y_train)\n",
    "y_pred_class = one_xgb.predict(X_test_dtm)\n",
    "acc_one_xgb=metrics.accuracy_score(y_test, y_pred_class)\n",
    "acc_one_xgb"
   ]
  },
  {
   "cell_type": "code",
   "execution_count": 182,
   "metadata": {},
   "outputs": [
    {
     "data": {
      "text/plain": [
       "0.9827586206896551"
      ]
     },
     "execution_count": 182,
     "metadata": {},
     "output_type": "execute_result"
    }
   ],
   "source": [
    "# use OneVsRest and Boosting with all features\n",
    "one_xgb = OneVsRestClassifier(XGBClassifier())\n",
    "one_xgb.fit(X_train_dtm_extra, y_train)\n",
    "y_pred_class = one_xgb.predict(X_test_dtm_extra)\n",
    "acc_one_xgb1=metrics.accuracy_score(y_test, y_pred_class)\n",
    "acc_one_xgb1"
   ]
  },
  {
   "cell_type": "code",
   "execution_count": 183,
   "metadata": {},
   "outputs": [
    {
     "data": {
      "text/plain": [
       "0.9858934169278997"
      ]
     },
     "execution_count": 183,
     "metadata": {},
     "output_type": "execute_result"
    }
   ],
   "source": [
    "# use SVM with text column only\n",
    "sm =svm.LinearSVC()\n",
    "sm.fit(X_train_dtm, y_train)\n",
    "y_pred_class = sm.predict(X_test_dtm)\n",
    "acc_svm=metrics.accuracy_score(y_test, y_pred_class)\n",
    "acc_svm"
   ]
  },
  {
   "cell_type": "code",
   "execution_count": 184,
   "metadata": {},
   "outputs": [
    {
     "data": {
      "text/plain": [
       "0.9858934169278997"
      ]
     },
     "execution_count": 184,
     "metadata": {},
     "output_type": "execute_result"
    }
   ],
   "source": [
    "# use SVM with all features\n",
    "svm1 = svm.LinearSVC()\n",
    "svm1.fit(X_train_dtm_extra, y_train)\n",
    "y_pred_class = svm1.predict(X_test_dtm_extra)\n",
    "acc_svm1=metrics.accuracy_score(y_test, y_pred_class)\n",
    "acc_svm1"
   ]
  },
  {
   "cell_type": "code",
   "execution_count": 191,
   "metadata": {},
   "outputs": [
    {
     "data": {
      "text/plain": [
       "Text(0.5, 16.0, 'Predicted label')"
      ]
     },
     "execution_count": 191,
     "metadata": {},
     "output_type": "execute_result"
    },
    {
     "data": {
      "image/png": "[encoded data removed]",
      "text/plain": [
       "<Figure size 432x288 with 2 Axes>"
      ]
     },
     "metadata": {
      "needs_background": "light"
     },
     "output_type": "display_data"
    }
   ],
   "source": [
    "cm = metrics.confusion_matrix( y_test, y_pred_class)\n",
    "sns.heatmap(cm, annot=True,  fmt='.2f', xticklabels = [\"no\", \"Yes\"] , yticklabels = [\"No\", \"Yes\"] )\n",
    "plt.ylabel('True label')\n",
    "plt.xlabel('Predicted label')"
   ]
  },
  {
   "cell_type": "code",
   "execution_count": 192,
   "metadata": {},
   "outputs": [
    {
     "data": {
      "text/html": [
       "<div>\n",
       "<style scoped>\n",
       "    .dataframe tbody tr th:only-of-type {\n",
       "        vertical-align: middle;\n",
       "    }\n",
       "\n",
       "    .dataframe tbody tr th {\n",
       "        vertical-align: top;\n",
       "    }\n",
       "\n",
       "    .dataframe thead th {\n",
       "        text-align: right;\n",
       "    }\n",
       "</style>\n",
       "<table border=\"1\" class=\"dataframe\">\n",
       "  <thead>\n",
       "    <tr style=\"text-align: right;\">\n",
       "      <th></th>\n",
       "      <th>Model</th>\n",
       "      <th>Score</th>\n",
       "    </tr>\n",
       "  </thead>\n",
       "  <tbody>\n",
       "    <tr>\n",
       "      <th>3</th>\n",
       "      <td>ANN</td>\n",
       "      <td>0.989028</td>\n",
       "    </tr>\n",
       "    <tr>\n",
       "      <th>4</th>\n",
       "      <td>ANN + logistic</td>\n",
       "      <td>0.985893</td>\n",
       "    </tr>\n",
       "    <tr>\n",
       "      <th>6</th>\n",
       "      <td>sm</td>\n",
       "      <td>0.985893</td>\n",
       "    </tr>\n",
       "    <tr>\n",
       "      <th>0</th>\n",
       "      <td>Logistic Regression</td>\n",
       "      <td>0.982759</td>\n",
       "    </tr>\n",
       "    <tr>\n",
       "      <th>2</th>\n",
       "      <td>XGBoosting</td>\n",
       "      <td>0.982759</td>\n",
       "    </tr>\n",
       "    <tr>\n",
       "      <th>5</th>\n",
       "      <td>OneVsRest + XGBoosting</td>\n",
       "      <td>0.982759</td>\n",
       "    </tr>\n",
       "    <tr>\n",
       "      <th>1</th>\n",
       "      <td>Random Forest</td>\n",
       "      <td>0.968652</td>\n",
       "    </tr>\n",
       "  </tbody>\n",
       "</table>\n",
       "</div>"
      ],
      "text/plain": [
       "                    Model     Score\n",
       "3                     ANN  0.989028\n",
       "4          ANN + logistic  0.985893\n",
       "6                      sm  0.985893\n",
       "0     Logistic Regression  0.982759\n",
       "2              XGBoosting  0.982759\n",
       "5  OneVsRest + XGBoosting  0.982759\n",
       "1           Random Forest  0.968652"
      ]
     },
     "execution_count": 192,
     "metadata": {},
     "output_type": "execute_result"
    }
   ],
   "source": [
    "models = pd.DataFrame({\n",
    "    'Model': ['Logistic Regression','Random Forest', 'XGBoosting','ANN','ANN + logistic','OneVsRest + XGBoosting','sm'],\n",
    "    \n",
    "    'Score': [acc_log,acc_rmf,acc_xgb,acc_mlp,acc_mlp_ln,acc_one_xgb,acc_svm]\n",
    "    })\n",
    "\n",
    "models.sort_values(by='Score', ascending=False)"
   ]
  },
  {
   "cell_type": "code",
   "execution_count": 193,
   "metadata": {},
   "outputs": [
    {
     "data": {
      "text/html": [
       "<div>\n",
       "<style scoped>\n",
       "    .dataframe tbody tr th:only-of-type {\n",
       "        vertical-align: middle;\n",
       "    }\n",
       "\n",
       "    .dataframe tbody tr th {\n",
       "        vertical-align: top;\n",
       "    }\n",
       "\n",
       "    .dataframe thead th {\n",
       "        text-align: right;\n",
       "    }\n",
       "</style>\n",
       "<table border=\"1\" class=\"dataframe\">\n",
       "  <thead>\n",
       "    <tr style=\"text-align: right;\">\n",
       "      <th></th>\n",
       "      <th>Model</th>\n",
       "      <th>Score</th>\n",
       "    </tr>\n",
       "  </thead>\n",
       "  <tbody>\n",
       "    <tr>\n",
       "      <th>3</th>\n",
       "      <td>ANN</td>\n",
       "      <td>0.989028</td>\n",
       "    </tr>\n",
       "    <tr>\n",
       "      <th>4</th>\n",
       "      <td>ANN + logistic</td>\n",
       "      <td>0.987461</td>\n",
       "    </tr>\n",
       "    <tr>\n",
       "      <th>6</th>\n",
       "      <td>svm1</td>\n",
       "      <td>0.985893</td>\n",
       "    </tr>\n",
       "    <tr>\n",
       "      <th>0</th>\n",
       "      <td>Logistic Regression</td>\n",
       "      <td>0.982759</td>\n",
       "    </tr>\n",
       "    <tr>\n",
       "      <th>2</th>\n",
       "      <td>XGBoosting</td>\n",
       "      <td>0.982759</td>\n",
       "    </tr>\n",
       "    <tr>\n",
       "      <th>5</th>\n",
       "      <td>OneVsRest + XGBoosting</td>\n",
       "      <td>0.982759</td>\n",
       "    </tr>\n",
       "    <tr>\n",
       "      <th>1</th>\n",
       "      <td>Random Forest</td>\n",
       "      <td>0.970219</td>\n",
       "    </tr>\n",
       "  </tbody>\n",
       "</table>\n",
       "</div>"
      ],
      "text/plain": [
       "                    Model     Score\n",
       "3                     ANN  0.989028\n",
       "4          ANN + logistic  0.987461\n",
       "6                    svm1  0.985893\n",
       "0     Logistic Regression  0.982759\n",
       "2              XGBoosting  0.982759\n",
       "5  OneVsRest + XGBoosting  0.982759\n",
       "1           Random Forest  0.970219"
      ]
     },
     "execution_count": 193,
     "metadata": {},
     "output_type": "execute_result"
    }
   ],
   "source": [
    "models = pd.DataFrame({\n",
    "    'Model': ['Logistic Regression','Random Forest', 'XGBoosting','ANN','ANN + logistic','OneVsRest + XGBoosting','svm1'],\n",
    "    \n",
    "    'Score': [acc_log1,acc_rmf1,acc_xgb1,acc_mlp1,acc_mlp_ln1,acc_one_xgb1,acc_svm1]\n",
    "    })\n",
    "\n",
    "models.sort_values(by='Score', ascending=False)"
   ]
  },
  {
   "cell_type": "markdown",
   "metadata": {},
   "source": [
    "#### We got best accuracy by ANN "
   ]
  },
  {
   "cell_type": "markdown",
   "metadata": {},
   "source": [
    "# Unsupervised Learning"
   ]
  },
  {
   "cell_type": "code",
   "execution_count": 11,
   "metadata": {},
   "outputs": [],
   "source": [
    "# Data Selection\n",
    "dff = job_post[['RequiredQual']]"
   ]
  },
  {
   "cell_type": "code",
   "execution_count": 12,
   "metadata": {},
   "outputs": [],
   "source": [
    "dff['RequiredQual'] = dff['RequiredQual'].astype(str)"
   ]
  },
  {
   "cell_type": "markdown",
   "metadata": {},
   "source": [
    "#### K-Means Clustering"
   ]
  },
  {
   "cell_type": "code",
   "execution_count": 13,
   "metadata": {},
   "outputs": [],
   "source": [
    "from nltk.util import ngrams"
   ]
  },
  {
   "cell_type": "markdown",
   "metadata": {},
   "source": [
    "#### Removal of Punctuations and Conversion to Lower-case"
   ]
  },
  {
   "cell_type": "code",
   "execution_count": 14,
   "metadata": {},
   "outputs": [
    {
     "data": {
      "text/plain": [
       "0    to perform this job successfully, an\\nindividu...\n",
       "1    - bachelor's degree; master's is preferred;\\n-...\n",
       "2    - degree in environmentally related field, or ...\n",
       "3    - advanced degree in public health, social sci...\n",
       "Name: RequiredQual, dtype: object"
      ]
     },
     "execution_count": 14,
     "metadata": {},
     "output_type": "execute_result"
    }
   ],
   "source": [
    "def remove_punctuations(text):\n",
    "    text=re.sub(r'!\"#$%&()*,-./:;<=>?@\\[]^_`{|}~','', text)                # Remove punctuations\n",
    "    text=text.lower()                                       # Convert text to lower\n",
    "    return(text)\n",
    "\n",
    "dff['RequiredQual']=dff['RequiredQual'].apply( lambda x: remove_punctuations(x))\n",
    "dff['RequiredQual'].head(4)"
   ]
  },
  {
   "cell_type": "code",
   "execution_count": 16,
   "metadata": {},
   "outputs": [
    {
     "data": {
      "text/plain": [
       "TfidfVectorizer(analyzer='word', binary=False, decode_error='strict',\n",
       "                dtype=<class 'numpy.float64'>, encoding='utf-8',\n",
       "                input='content', lowercase=True, max_df=0.9, max_features=None,\n",
       "                min_df=0.1, ngram_range=(1, 4), norm='l2', preprocessor=None,\n",
       "                smooth_idf=True, stop_words='english', strip_accents=None,\n",
       "                sublinear_tf=False, token_pattern='(?u)\\\\b\\\\w\\\\w+\\\\b',\n",
       "                tokenizer=None, use_idf=True, vocabulary=None)"
      ]
     },
     "execution_count": 16,
     "metadata": {},
     "output_type": "execute_result"
    }
   ],
   "source": [
    "#tokenize text with Tfidf\n",
    "from sklearn.feature_extraction.text import TfidfVectorizer\n",
    "\n",
    "vectorizer = TfidfVectorizer(min_df = 0.1, max_df=0.9,\n",
    "                             ngram_range=(1, 4), \n",
    "                             stop_words='english')\n",
    "vectorizer.fit(dff['RequiredQual'])"
   ]
  },
  {
   "cell_type": "code",
   "execution_count": 17,
   "metadata": {},
   "outputs": [],
   "source": [
    "X_train = vectorizer.transform(dff['RequiredQual'])\n",
    "vocab = vectorizer.get_feature_names()"
   ]
  },
  {
   "cell_type": "code",
   "execution_count": 18,
   "metadata": {},
   "outputs": [
    {
     "data": {
      "text/plain": [
       "['ability',\n",
       " 'ability work',\n",
       " 'ability work pressure',\n",
       " 'accounting',\n",
       " 'advanced',\n",
       " 'analytical',\n",
       " 'armenian',\n",
       " 'armenian english',\n",
       " 'armenian russian',\n",
       " 'armenian russian english']"
      ]
     },
     "execution_count": 18,
     "metadata": {},
     "output_type": "execute_result"
    }
   ],
   "source": [
    "vocab[:10]"
   ]
  },
  {
   "cell_type": "code",
   "execution_count": 19,
   "metadata": {},
   "outputs": [
    {
     "data": {
      "text/plain": [
       "TfidfVectorizer(analyzer='word', binary=False, decode_error='strict',\n",
       "                dtype=<class 'numpy.float64'>, encoding='utf-8',\n",
       "                input='content', lowercase=True, max_df=0.95, max_features=None,\n",
       "                min_df=0.05, ngram_range=(1, 2), norm='l2', preprocessor=None,\n",
       "                smooth_idf=True, stop_words='english', strip_accents=None,\n",
       "                sublinear_tf=False, token_pattern='(?u)\\\\b\\\\w\\\\w+\\\\b',\n",
       "                tokenizer=None, use_idf=True, vocabulary=None)"
      ]
     },
     "execution_count": 19,
     "metadata": {},
     "output_type": "execute_result"
    }
   ],
   "source": [
    "# get the tf-idf table \n",
    "vectorizer = TfidfVectorizer(min_df = 0.05, max_df=0.95,\n",
    "                             ngram_range=(1, 2), \n",
    "                             stop_words='english')\n",
    "vectorizer.fit(dff['RequiredQual'])"
   ]
  },
  {
   "cell_type": "code",
   "execution_count": 20,
   "metadata": {},
   "outputs": [],
   "source": [
    "# Create a training data\n",
    "X_train = vectorizer.transform(dff['RequiredQual'])"
   ]
  },
  {
   "cell_type": "code",
   "execution_count": 21,
   "metadata": {},
   "outputs": [],
   "source": [
    "# Use SVD to reduce dimensions\n",
    "svd = TruncatedSVD(200)\n",
    "normalizer = Normalizer(copy=False)\n",
    "lsa = make_pipeline(svd, normalizer)\n",
    "X_lsa = lsa.fit_transform(X_train)"
   ]
  },
  {
   "cell_type": "code",
   "execution_count": 22,
   "metadata": {},
   "outputs": [
    {
     "name": "stdout",
     "output_type": "stream",
     "text": [
      "Explained variance of the SVD step: 99%\n"
     ]
    }
   ],
   "source": [
    "explained_variance = svd.explained_variance_ratio_.sum()\n",
    "print(\"Explained variance of the SVD step: {}%\".format(int(explained_variance * 100)))"
   ]
  },
  {
   "cell_type": "code",
   "execution_count": 23,
   "metadata": {},
   "outputs": [],
   "source": [
    "range_n_clusters = list (range(4,11))"
   ]
  },
  {
   "cell_type": "code",
   "execution_count": 26,
   "metadata": {},
   "outputs": [
    {
     "name": "stdout",
     "output_type": "stream",
     "text": [
      "For n_clusters = 4, silhouette score is 0.043491973914576924\n",
      "For n_clusters = 5, silhouette score is 0.04733629542969017\n",
      "For n_clusters = 6, silhouette score is 0.049576179765194996\n",
      "For n_clusters = 7, silhouette score is 0.04955196791559433\n",
      "For n_clusters = 8, silhouette score is 0.05143588422736518\n",
      "For n_clusters = 9, silhouette score is 0.051516846121315\n",
      "For n_clusters = 10, silhouette score is 0.05265391256887889\n"
     ]
    }
   ],
   "source": [
    "for n_clusters in range_n_clusters:\n",
    "    clusterer = KMeans(n_clusters=n_clusters)\n",
    "    preds = clusterer.fit_predict(X_lsa)\n",
    "    centers = clusterer.cluster_centers_\n",
    "\n",
    "    score = silhouette_score(X_lsa, preds, metric='euclidean')\n",
    "    print(\"For n_clusters = {}, silhouette score is {}\".format(n_clusters, score))"
   ]
  },
  {
   "cell_type": "markdown",
   "metadata": {},
   "source": [
    "#####  Best number of clusters are 9 because of highest silhouette score."
   ]
  },
  {
   "cell_type": "code",
   "execution_count": 35,
   "metadata": {},
   "outputs": [],
   "source": [
    "# we create a kmeans model\n",
    "model = KMeans(n_clusters=10, \n",
    "               init='k-means++', \n",
    "               max_iter=100, n_init=1,random_state=5)"
   ]
  },
  {
   "cell_type": "code",
   "execution_count": 36,
   "metadata": {},
   "outputs": [
    {
     "data": {
      "text/plain": [
       "KMeans(algorithm='auto', copy_x=True, init='k-means++', max_iter=100,\n",
       "       n_clusters=10, n_init=1, n_jobs=None, precompute_distances='auto',\n",
       "       random_state=5, tol=0.0001, verbose=0)"
      ]
     },
     "execution_count": 36,
     "metadata": {},
     "output_type": "execute_result"
    }
   ],
   "source": [
    "# apply the model on this prepared data\n",
    "res = model.fit(X_train)\n",
    "res"
   ]
  },
  {
   "cell_type": "code",
   "execution_count": 37,
   "metadata": {},
   "outputs": [],
   "source": [
    "# Getting the vocalbulary as well as cluster centers\n",
    "# Firstly, set of words from the tf-idf itself\n",
    "vocab = vectorizer.get_feature_names()\n",
    "vocab = np.array(vocab) "
   ]
  },
  {
   "cell_type": "code",
   "execution_count": 38,
   "metadata": {},
   "outputs": [],
   "source": [
    "# Then, the cluster centers from the model fit that we stored on res\n",
    "cluster_centers = np.array(res.cluster_centers_)"
   ]
  },
  {
   "cell_type": "code",
   "execution_count": 39,
   "metadata": {},
   "outputs": [
    {
     "name": "stdout",
     "output_type": "stream",
     "text": [
      "[ 0.1  10.    0.05  1.5 ]\n",
      "[2 0 3 1]\n"
     ]
    },
    {
     "data": {
      "text/plain": [
       "array([ 68, 161,  82,  81,  96, 140,  32,  72,  26,  89,  29, 160, 172,\n",
       "        57,   2,  18,  91, 155, 197, 171, 134, 187, 178, 138, 104, 107,\n",
       "        86, 179,  92,  53, 103, 181, 170,  98, 162, 131, 168,  47,   6,\n",
       "        40, 199, 156, 169,  19, 176, 190,  94, 133, 158,  62, 101,  63,\n",
       "       145,  55, 157, 109, 211, 124,   8, 164, 149,  58, 210,  17,  87,\n",
       "        28, 114, 150,  10, 102, 118, 141,  15, 163, 215,  20,  59, 188,\n",
       "       125,  65,  35, 185, 182, 152, 153,  37, 147,  54,   5, 167, 130,\n",
       "        34, 177,  84,  93,   3,   9, 127,  33, 106, 121, 144, 139, 143,\n",
       "        76, 136, 175, 112,  66, 174, 216, 173, 212,  50, 108,  71, 122,\n",
       "       135,  13,  44, 214, 191,  78, 142, 115,  12,  70, 128,  45, 193,\n",
       "         4,  95,  60,  14,  25,  36, 186,  75, 110, 196,  16,  97, 208,\n",
       "       154,  77, 117,  67, 201,  73,  21,   7, 105,  85,  99,  42,  80,\n",
       "        51,  27, 120, 113, 192,  69, 129, 146, 195,  61, 159,  43, 123,\n",
       "       148, 137, 194, 116, 183,  48, 111, 126,  56, 200, 207,  39, 151,\n",
       "       204,  30, 100,  90, 189,  38,  79, 213,  24, 119, 209,  74,  88,\n",
       "        23, 198, 203,  31, 206,  11,  46, 180,  41, 205,  64,  22, 132,\n",
       "       166,  49, 184,  83,  52,   1, 165, 202,   0], dtype=int64)"
      ]
     },
     "execution_count": 39,
     "metadata": {},
     "output_type": "execute_result"
    }
   ],
   "source": [
    "x=np.array((0.1,10,0.05,1.5))\n",
    "print(x)\n",
    "print(x.argsort())\n",
    "res.cluster_centers_[0].argsort()"
   ]
  },
  {
   "cell_type": "code",
   "execution_count": 40,
   "metadata": {},
   "outputs": [],
   "source": [
    "# sorting the cluster centers\n",
    "sorted_vals = [res.cluster_centers_[i].argsort() for i in range(0,np.shape(res.cluster_centers_)[0])]"
   ]
  },
  {
   "cell_type": "code",
   "execution_count": 41,
   "metadata": {},
   "outputs": [
    {
     "name": "stdout",
     "output_type": "stream",
     "text": [
      "{'ability work', 'skills ability', 'excellent', 'experience', 'knowledge', 'skills', 'work', 'team', 'ability', 'pressure'}\n",
      "{'excellent', 'software', 'skills', 'sql', 'ability work', 'team', 'ability', 'skills ability', 'programming', 'experience', 'development', 'web', 'work', 'design', 'knowledge', 'pressure'}\n",
      "{'university degree', 'university', 'excellent', 'software', 'skills', 'sql', 'armenian', 'languages', 'ability work', 'team', 'armenian russian', 'ability', 'skills ability', 'programming', 'experience', 'development', 'degree', 'web', 'work', 'design', 'russian', 'knowledge', 'pressure'}\n",
      "{'knowledge english', 'university degree', 'university', 'english language', 'excellent', 'software', 'skills', 'sql', 'armenian', 'languages', 'ability work', 'team', 'armenian russian', 'good', 'ability', 'english', 'skills ability', 'programming', 'experience', 'development', 'degree', 'web', 'work', 'design', 'russian', 'good knowledge', 'knowledge', 'language', 'pressure'}\n",
      "{'university degree', 'university', 'english language', 'management', 'armenian', 'international', 'team', 'good', 'english', 'ability', 'skills ability', 'programming', 'experience', 'development', 'web', 'russian', 'years', 'working', 'language', 'pressure', 'knowledge english', 'excellent', 'software', 'skills', 'sql', 'languages', 'ability work', 'armenian russian', 'field', 'degree', 'work', 'design', 'good knowledge', 'knowledge', 'relevant'}\n",
      "{'university degree', 'university', 'english language', 'mail', 'learn', 'management', 'armenian', 'international', 'team', 'good', 'communication skills', 'english', 'ability', 'skills ability', 'programming', 'experience', 'development', 'oral written', 'skills armenian', 'flexible', 'web', 'russian', 'years', 'working', 'language', 'pressure', 'knowledge english', 'excellent', 'software', 'language plus', 'skills', 'sql', 'languages', 'ability work', 'armenian russian', 'russian language', 'written communication', 'field', 'degree', 'work', 'design', 'good knowledge', 'knowledge', 'relevant'}\n",
      "{'university degree', 'university', 'english language', 'mail', 'learn', 'finance', 'management', 'accounting', 'armenian', 'international', 'team', 'good', 'communication skills', 'english', 'ability', 'skills ability', 'programming', 'experience', 'development', 'oral written', 'skills armenian', 'flexible', 'web', 'russian', 'years', 'working', 'language', 'pressure', 'knowledge english', 'excellent', 'software', 'language plus', 'skills', 'sql', 'standards', 'languages', 'ability work', 'armenian russian', 'russian language', 'financial', 'written communication', 'field', 'degree', 'work', 'design', 'good knowledge', 'knowledge', 'relevant'}\n",
      "{'university degree', 'university', 'english language', 'mail', 'learn', 'finance', 'management', 'marketing', 'accounting', 'business', 'armenian', 'international', 'team', 'good', 'communication skills', 'english', 'ability', 'skills ability', 'programming', 'experience', 'development', 'oral written', 'communication', 'skills armenian', 'flexible', 'web', 'russian', 'years', 'working', 'language', 'pressure', 'knowledge english', 'excellent', 'software', 'language plus', 'skills', 'sql', 'standards', 'languages', 'ability work', 'armenian russian', 'russian language', 'financial', 'written communication', 'field', 'degree', 'work', 'design', 'strong', 'good knowledge', 'knowledge', 'relevant'}\n",
      "{'university degree', 'university', 'english language', 'mail', 'learn', 'finance', 'management', 'marketing', 'accounting', 'business', 'armenian', 'international', 'team', 'good', 'communication skills', 'english', 'ability', 'high', 'responsibility', 'skills ability', 'programming', 'experience', 'development', 'oral written', 'communication', 'skills armenian', 'flexible', 'web', 'russian', 'years', 'working', 'language', 'pressure', 'knowledge english', 'excellent', 'software', 'language plus', 'skills', 'sql', 'sense', 'high sense', 'standards', 'languages', 'ability work', 'armenian russian', 'russian language', 'sense responsibility', 'financial', 'written communication', 'field', 'degree', 'work', 'design', 'strong', 'good knowledge', 'knowledge', 'relevant'}\n",
      "{'university degree', 'university', 'english language', 'mail', 'learn', 'finance', 'higher education', 'management', 'marketing', 'accounting', 'business', 'armenian', 'international', 'team', 'good', 'communication skills', 'english', 'ability', 'high', 'responsibility', 'education', 'skills ability', 'higher', 'programming', 'experience', 'development', 'oral written', 'communication', 'skills armenian', 'flexible', 'web', 'russian', 'years', 'working', 'language', 'pressure', 'knowledge english', 'work experience', 'excellent', 'software', 'language plus', 'skills', 'sql', 'sense', 'high sense', 'standards', 'languages', 'ability work', 'armenian russian', 'russian language', 'sense responsibility', 'financial', 'written communication', 'field', 'degree', 'work', 'design', 'strong', 'good knowledge', 'knowledge', 'relevant'}\n"
     ]
    }
   ],
   "source": [
    "# get top 10 words from that cluster\n",
    "words=set()\n",
    "for i in range(len(res.cluster_centers_)):\n",
    "    words = words.union(set(vocab[sorted_vals[i][-10:]]))\n",
    "    print(words)"
   ]
  },
  {
   "cell_type": "code",
   "execution_count": 42,
   "metadata": {},
   "outputs": [],
   "source": [
    "words=list(words)"
   ]
  },
  {
   "cell_type": "code",
   "execution_count": 43,
   "metadata": {},
   "outputs": [],
   "source": [
    "#add top words to train set\n",
    "train_set=X_train[:,[np.argwhere(vocab==i)[0][0] for i in words]]"
   ]
  },
  {
   "cell_type": "code",
   "execution_count": 44,
   "metadata": {},
   "outputs": [
    {
     "data": {
      "text/html": [
       "<div>\n",
       "<style scoped>\n",
       "    .dataframe tbody tr th:only-of-type {\n",
       "        vertical-align: middle;\n",
       "    }\n",
       "\n",
       "    .dataframe tbody tr th {\n",
       "        vertical-align: top;\n",
       "    }\n",
       "\n",
       "    .dataframe thead th {\n",
       "        text-align: right;\n",
       "    }\n",
       "</style>\n",
       "<table border=\"1\" class=\"dataframe\">\n",
       "  <thead>\n",
       "    <tr style=\"text-align: right;\">\n",
       "      <th></th>\n",
       "      <th>RequiredQual</th>\n",
       "    </tr>\n",
       "  </thead>\n",
       "  <tbody>\n",
       "    <tr>\n",
       "      <th>0</th>\n",
       "      <td>to perform this job successfully, an\\nindividu...</td>\n",
       "    </tr>\n",
       "    <tr>\n",
       "      <th>1</th>\n",
       "      <td>- bachelor's degree; master's is preferred;\\n-...</td>\n",
       "    </tr>\n",
       "    <tr>\n",
       "      <th>2</th>\n",
       "      <td>- degree in environmentally related field, or ...</td>\n",
       "    </tr>\n",
       "    <tr>\n",
       "      <th>3</th>\n",
       "      <td>- advanced degree in public health, social sci...</td>\n",
       "    </tr>\n",
       "    <tr>\n",
       "      <th>4</th>\n",
       "      <td>- university degree; economical background is ...</td>\n",
       "    </tr>\n",
       "  </tbody>\n",
       "</table>\n",
       "</div>"
      ],
      "text/plain": [
       "                                        RequiredQual\n",
       "0  to perform this job successfully, an\\nindividu...\n",
       "1  - bachelor's degree; master's is preferred;\\n-...\n",
       "2  - degree in environmentally related field, or ...\n",
       "3  - advanced degree in public health, social sci...\n",
       "4  - university degree; economical background is ..."
      ]
     },
     "execution_count": 44,
     "metadata": {},
     "output_type": "execute_result"
    }
   ],
   "source": [
    "#train_set[,]\n",
    "dff.head()"
   ]
  },
  {
   "cell_type": "code",
   "execution_count": 46,
   "metadata": {},
   "outputs": [
    {
     "data": {
      "text/html": [
       "<div>\n",
       "<style scoped>\n",
       "    .dataframe tbody tr th:only-of-type {\n",
       "        vertical-align: middle;\n",
       "    }\n",
       "\n",
       "    .dataframe tbody tr th {\n",
       "        vertical-align: top;\n",
       "    }\n",
       "\n",
       "    .dataframe thead th {\n",
       "        text-align: right;\n",
       "    }\n",
       "</style>\n",
       "<table border=\"1\" class=\"dataframe\">\n",
       "  <thead>\n",
       "    <tr style=\"text-align: right;\">\n",
       "      <th></th>\n",
       "      <th>RequiredQual</th>\n",
       "    </tr>\n",
       "    <tr>\n",
       "      <th>cluster</th>\n",
       "      <th></th>\n",
       "    </tr>\n",
       "  </thead>\n",
       "  <tbody>\n",
       "    <tr>\n",
       "      <th>0</th>\n",
       "      <td>2273</td>\n",
       "    </tr>\n",
       "    <tr>\n",
       "      <th>1</th>\n",
       "      <td>2671</td>\n",
       "    </tr>\n",
       "    <tr>\n",
       "      <th>2</th>\n",
       "      <td>2147</td>\n",
       "    </tr>\n",
       "    <tr>\n",
       "      <th>3</th>\n",
       "      <td>1921</td>\n",
       "    </tr>\n",
       "    <tr>\n",
       "      <th>4</th>\n",
       "      <td>2341</td>\n",
       "    </tr>\n",
       "    <tr>\n",
       "      <th>5</th>\n",
       "      <td>572</td>\n",
       "    </tr>\n",
       "    <tr>\n",
       "      <th>6</th>\n",
       "      <td>1344</td>\n",
       "    </tr>\n",
       "    <tr>\n",
       "      <th>7</th>\n",
       "      <td>2212</td>\n",
       "    </tr>\n",
       "    <tr>\n",
       "      <th>8</th>\n",
       "      <td>1353</td>\n",
       "    </tr>\n",
       "    <tr>\n",
       "      <th>9</th>\n",
       "      <td>2167</td>\n",
       "    </tr>\n",
       "  </tbody>\n",
       "</table>\n",
       "</div>"
      ],
      "text/plain": [
       "         RequiredQual\n",
       "cluster              \n",
       "0                2273\n",
       "1                2671\n",
       "2                2147\n",
       "3                1921\n",
       "4                2341\n",
       "5                 572\n",
       "6                1344\n",
       "7                2212\n",
       "8                1353\n",
       "9                2167"
      ]
     },
     "execution_count": 46,
     "metadata": {},
     "output_type": "execute_result"
    }
   ],
   "source": [
    "# how many observations are in each cluster\n",
    "\n",
    "dff['cluster'] = model.labels_\n",
    "dff.groupby('cluster').count()"
   ]
  },
  {
   "cell_type": "code",
   "execution_count": 49,
   "metadata": {},
   "outputs": [
    {
     "data": {
      "text/html": [
       "<div>\n",
       "<style scoped>\n",
       "    .dataframe tbody tr th:only-of-type {\n",
       "        vertical-align: middle;\n",
       "    }\n",
       "\n",
       "    .dataframe tbody tr th {\n",
       "        vertical-align: top;\n",
       "    }\n",
       "\n",
       "    .dataframe thead th {\n",
       "        text-align: right;\n",
       "    }\n",
       "</style>\n",
       "<table border=\"1\" class=\"dataframe\">\n",
       "  <thead>\n",
       "    <tr style=\"text-align: right;\">\n",
       "      <th></th>\n",
       "      <th>RequiredQual</th>\n",
       "      <th>cluster</th>\n",
       "    </tr>\n",
       "  </thead>\n",
       "  <tbody>\n",
       "    <tr>\n",
       "      <th>0</th>\n",
       "      <td>to perform this job successfully, an\\nindividu...</td>\n",
       "      <td>6</td>\n",
       "    </tr>\n",
       "    <tr>\n",
       "      <th>1</th>\n",
       "      <td>- bachelor's degree; master's is preferred;\\n-...</td>\n",
       "      <td>0</td>\n",
       "    </tr>\n",
       "    <tr>\n",
       "      <th>2</th>\n",
       "      <td>- degree in environmentally related field, or ...</td>\n",
       "      <td>4</td>\n",
       "    </tr>\n",
       "    <tr>\n",
       "      <th>3</th>\n",
       "      <td>- advanced degree in public health, social sci...</td>\n",
       "      <td>4</td>\n",
       "    </tr>\n",
       "    <tr>\n",
       "      <th>4</th>\n",
       "      <td>- university degree; economical background is ...</td>\n",
       "      <td>1</td>\n",
       "    </tr>\n",
       "  </tbody>\n",
       "</table>\n",
       "</div>"
      ],
      "text/plain": [
       "                                        RequiredQual  cluster\n",
       "0  to perform this job successfully, an\\nindividu...        6\n",
       "1  - bachelor's degree; master's is preferred;\\n-...        0\n",
       "2  - degree in environmentally related field, or ...        4\n",
       "3  - advanced degree in public health, social sci...        4\n",
       "4  - university degree; economical background is ...        1"
      ]
     },
     "execution_count": 49,
     "metadata": {},
     "output_type": "execute_result"
    }
   ],
   "source": [
    "# what does each cluster look like\n",
    "dff.head()"
   ]
  },
  {
   "cell_type": "markdown",
   "metadata": {},
   "source": [
    "## Information Extraction"
   ]
  },
  {
   "cell_type": "markdown",
   "metadata": {},
   "source": [
    "### Information Extraction to Obtain Company Profile"
   ]
  },
  {
   "cell_type": "code",
   "execution_count": 14,
   "metadata": {},
   "outputs": [],
   "source": [
    "job_post['AboutC']=job_post['AboutC'].fillna(job_post['AboutC'].mode().ix[0])"
   ]
  },
  {
   "cell_type": "code",
   "execution_count": 15,
   "metadata": {},
   "outputs": [
    {
     "data": {
      "text/plain": [
       "4     Career Center NGO\\nPhone/Fax: +(374 10) 560328...\n",
       "19    Career Center NGO\\nPhone/Fax: +(374 10) 560328...\n",
       "20    Career Center NGO\\nPhone/Fax: +(374 10) 560328...\n",
       "21    Career Center NGO\\nPhone/Fax: +(374 10) 560328...\n",
       "29    Career Center NGO\\nPhone/Fax: +(374 10) 560328...\n",
       "Name: AboutC, dtype: object"
      ]
     },
     "execution_count": 15,
     "metadata": {},
     "output_type": "execute_result"
    }
   ],
   "source": [
    "job_post['AboutC'].head()"
   ]
  },
  {
   "cell_type": "code",
   "execution_count": 18,
   "metadata": {},
   "outputs": [],
   "source": [
    "nlp = spacy.load('en_core_web_sm')\n",
    "matcher = Matcher(nlp.vocab)"
   ]
  },
  {
   "cell_type": "code",
   "execution_count": 19,
   "metadata": {},
   "outputs": [],
   "source": [
    "def collect_sents(matcher, doc, i, matches):\n",
    "    match_id, start, end = matches[i]\n",
    "    span = doc[start : end]  # matched span\n",
    "    sent = span.sent  # sentence containing matched span\n",
    "    match_ents = [{'start': span.start_char - sent.start_char,\n",
    "                   'end': span.end_char - sent.start_char,\n",
    "                   'label': 'MATCH'}]\n",
    "    matched_sents.append({'text': sent.text, 'ents': match_ents })"
   ]
  },
  {
   "cell_type": "code",
   "execution_count": 21,
   "metadata": {},
   "outputs": [],
   "source": [
    "patn1 = [{'POS':'ADJ'},{'ORTH': '-'}, {'POS':'NOUN', 'OP':'+'}, {'LOWER': 'organization'}]\n",
    "patn2 = [{'POS':'NOUN', 'OP':'+'}, {'LOWER': 'organization'}]\n",
    "patn3 = [{'POS':'NOUN', 'OP':'+'}, {'LOWER': 'company'}]\n",
    "patn4 = [{'POS':'NOUN', 'OP':'+'}, {'LOWER': 'services'}]\n",
    "patn5 = [{'LOWER': 'company'}, {'POS':'VERB'}, {'POS':'NOUN', 'OP':'+'}]\n",
    "patn6 = [{'LOWER':'provider'}, {'POS':'ADP'}, {'POS':'NOUN',  'OP': '+'}  , {'POS':'CCONJ','OP':'+'}, {'POS':'NOUN','OP':'+'}]\n",
    "patn7 = [{'LOWER':'provider'}, {'POS':'ADP'}, {'POS':'NOUN',  'OP': '+'}]\n",
    "patn8 = [{'POS':'VERB'}, {'POS':'NOUN',  'OP': '+'} ]\n",
    "patn9 = [{'POS':'ADJ'}, {'POS':'NOUN',  'OP': '+'} ]\n",
    "patn10 = [{'POS':'NOUN'}, {'POS':'ADP'}, {'POS':'NOUN',  'OP': '+'} ]\n",
    "patn11 = [{'POS':'NOUN'}, {'POS':'NOUN','OP':'+'} ]"
   ]
  },
  {
   "cell_type": "code",
   "execution_count": 22,
   "metadata": {},
   "outputs": [],
   "source": [
    "matcher.add('all', collect_sents, patn1, patn2, patn3, patn4, patn5, patn6, patn7, patn8, patn9, patn10, patn11)"
   ]
  },
  {
   "cell_type": "code",
   "execution_count": 24,
   "metadata": {},
   "outputs": [],
   "source": [
    "matched_sents=[]\n",
    "for t in job_post.AboutC:\n",
    "    if pd.notnull(t) and t != 'NaN':\n",
    "        t = re.sub(r'\\s+', ' ', t)\n",
    "        doc = nlp(t)\n",
    "        matches = matcher(doc)\n",
    "        token_set = []\n",
    "        for match_id, start, end in matches:\n",
    "            string_id = nlp.vocab.strings[match_id]  # get string representation\n",
    "            span = doc[start:end]  # the matched span\n",
    "            token_set.append(span.text)    \n",
    "        matched_sents.append(token_set)"
   ]
  },
  {
   "cell_type": "code",
   "execution_count": 25,
   "metadata": {},
   "outputs": [],
   "source": [
    "flat_list = []\n",
    "for row in matched_sents:\n",
    "    for token in row:\n",
    "        flat_list.append(token)"
   ]
  },
  {
   "cell_type": "code",
   "execution_count": 31,
   "metadata": {},
   "outputs": [
    {
     "data": {
      "image/png": "[encoded data removed]",
      "text/plain": [
       "<Figure size 1800x720 with 1 Axes>"
      ]
     },
     "metadata": {
      "needs_background": "light"
     },
     "output_type": "display_data"
    }
   ],
   "source": [
    "plt.figure(figsize=(25, 10))\n",
    "fd = nltk.FreqDist(flat_list)  # case sensitive!\n",
    "fd.most_common(50)\n",
    "fd.plot(50)\n",
    "plt.show()"
   ]
  },
  {
   "cell_type": "markdown",
   "metadata": {},
   "source": [
    "## Job Similarity"
   ]
  },
  {
   "cell_type": "code",
   "execution_count": 51,
   "metadata": {},
   "outputs": [],
   "source": [
    "df1=job_post[['jobpost','Title','JobRequirment','JobDescription','RequiredQual']]"
   ]
  },
  {
   "cell_type": "markdown",
   "metadata": {},
   "source": [
    "### Using TF-IDF"
   ]
  },
  {
   "cell_type": "code",
   "execution_count": 52,
   "metadata": {},
   "outputs": [],
   "source": [
    "df1['JobDescription_token'] = df1['JobDescription'].map(word_tokenize)\n",
    "df1['RequiredQual_token'] = df1['RequiredQual'].map(word_tokenize)\n",
    "df1['JobRequirment_token'] = df1['JobRequirment'].map(word_tokenize)"
   ]
  },
  {
   "cell_type": "code",
   "execution_count": 53,
   "metadata": {},
   "outputs": [],
   "source": [
    "tfidf_model = TfidfVectorizer()\n",
    "Title_tfidf = tfidf_model.fit_transform(df1['Title'])\n",
    "JobDescription_tfidf = tfidf_model.fit_transform(df1['JobDescription'])\n",
    "RequiredQual_tfidf = tfidf_model.fit_transform(df1['RequiredQual'])\n",
    "JobRequirment_tfidf = tfidf_model.fit_transform(df1['JobRequirment'])"
   ]
  },
  {
   "cell_type": "code",
   "execution_count": 54,
   "metadata": {},
   "outputs": [],
   "source": [
    "def find_similar_jobs_tfidf(index, top_n = 5):\n",
    "    Title_tfidf_cosine = cosine_similarity(Title_tfidf[index:index+1], Title_tfidf).flatten()\n",
    "    JobDescription_tfidf_cosine = cosine_similarity(JobDescription_tfidf[index:index+1], JobDescription_tfidf).flatten()\n",
    "    RequiredQual_tfidf_cosine = cosine_similarity(RequiredQual_tfidf[index:index+1], RequiredQual_tfidf).flatten()\n",
    "    JobRequirment_tfidf_cosine = cosine_similarity(JobRequirment_tfidf[index:index+1], JobRequirment_tfidf).flatten()\n",
    "\n",
    "    average_cosine = (Title_tfidf_cosine +JobDescription_tfidf_cosine+RequiredQual_tfidf_cosine+JobRequirment_tfidf_cosine)/4.0\n",
    "    related_docs_indices = [i for i in average_cosine.argsort()[::-1] if i != index]\n",
    "    return [(index, average_cosine[index]) for index in related_docs_indices][0:top_n]"
   ]
  },
  {
   "cell_type": "markdown",
   "metadata": {},
   "source": [
    "### Chief Financial Officer Jobs"
   ]
  },
  {
   "cell_type": "code",
   "execution_count": 55,
   "metadata": {},
   "outputs": [
    {
     "data": {
      "text/plain": [
       "jobpost                 AMERIA Investment Consulting Company\\nJOB TITL...\n",
       "Title                                             Chief Financial Officer\n",
       "JobRequirment           - Supervises financial management and administ...\n",
       "JobDescription          AMERIA Investment Consulting Company is seekin...\n",
       "RequiredQual            To perform this job successfully, an\\nindividu...\n",
       "JobDescription_token    [AMERIA, Investment, Consulting, Company, is, ...\n",
       "RequiredQual_token      [To, perform, this, job, successfully, ,, an, ...\n",
       "JobRequirment_token     [-, Supervises, financial, management, and, ad...\n",
       "Name: 0, dtype: object"
      ]
     },
     "execution_count": 55,
     "metadata": {},
     "output_type": "execute_result"
    }
   ],
   "source": [
    "df1.iloc[0]"
   ]
  },
  {
   "cell_type": "code",
   "execution_count": 56,
   "metadata": {},
   "outputs": [
    {
     "name": "stdout",
     "output_type": "stream",
     "text": [
      "jobpost                 Organization for Implementation of North-South...\n",
      "Title                                             Chief Financial Officer\n",
      "JobRequirment           Financial management of the NSRCIP T1 & T2 pro...\n",
      "JobDescription          The Chief Financial Officer (CFO) will support...\n",
      "RequiredQual            - Degree in Accounting, Finance, Business, Law...\n",
      "JobDescription_token    [The, Chief, Financial, Officer, (, CFO, ), wi...\n",
      "RequiredQual_token      [-, Degree, in, Accounting, ,, Finance, ,, Bus...\n",
      "JobRequirment_token     [Financial, management, of, the, NSRCIP, T1, &...\n",
      "Name: 12368, dtype: object\n",
      "SIMILARITY SCORE:  0.49834474358571085\n",
      "jobpost                 River Island\\nTITLE:  Chief Financial Officer\\...\n",
      "Title                                             Chief Financial Officer\n",
      "JobRequirment           - Develop tools and systems to provide critica...\n",
      "JobDescription          River Island is seeking a Chief Financial Offi...\n",
      "RequiredQual            - Master's degree in Management, Finance or Ec...\n",
      "JobDescription_token    [River, Island, is, seeking, a, Chief, Financi...\n",
      "RequiredQual_token      [-, Master, 's, degree, in, Management, ,, Fin...\n",
      "JobRequirment_token     [-, Develop, tools, and, systems, to, provide,...\n",
      "Name: 11223, dtype: object\n",
      "SIMILARITY SCORE:  0.48782027192198385\n",
      "jobpost                 \"Gritti\" LLC\\nTITLE:  Chief Financial Officer\\...\n",
      "Title                                             Chief Financial Officer\n",
      "JobRequirment           General Responsibilities:   \\n- Assist in perf...\n",
      "JobDescription          Gritti LLC is inviting highly qualified\\nprofe...\n",
      "RequiredQual            - Master's or equivalent university degree in ...\n",
      "JobDescription_token    [Gritti, LLC, is, inviting, highly, qualified,...\n",
      "RequiredQual_token      [-, Master, 's, or, equivalent, university, de...\n",
      "JobRequirment_token     [General, Responsibilities, :, -, Assist, in, ...\n",
      "Name: 8120, dtype: object\n",
      "SIMILARITY SCORE:  0.48059316164230986\n",
      "jobpost                 Armenian Datacom Company CJSC\\nTITLE:  Chief F...\n",
      "Title                                             Chief Financial Officer\n",
      "JobRequirment           Responsibilities include but are not limited t...\n",
      "JobDescription          Armenian Datacom Company (ADC) is seeking a hi...\n",
      "RequiredQual            - Master's degree in Accounting, Finance;\\n- 5...\n",
      "JobDescription_token    [Armenian, Datacom, Company, (, ADC, ), is, se...\n",
      "RequiredQual_token      [-, Master, 's, degree, in, Accounting, ,, Fin...\n",
      "JobRequirment_token     [Responsibilities, include, but, are, not, lim...\n",
      "Name: 8319, dtype: object\n",
      "SIMILARITY SCORE:  0.4775631289897381\n",
      "jobpost                 \"Ameriabank\" CJSC\\nTITLE:  Chief Financial Off...\n",
      "Title                                             Chief Financial Officer\n",
      "JobRequirment           - Direct and oversee all aspects of the Financ...\n",
      "JobDescription          The incumbent will be responsible for coordina...\n",
      "RequiredQual            - University degree in Finance, Accounting and...\n",
      "JobDescription_token    [The, incumbent, will, be, responsible, for, c...\n",
      "RequiredQual_token      [-, University, degree, in, Finance, ,, Accoun...\n",
      "JobRequirment_token     [-, Direct, and, oversee, all, aspects, of, th...\n",
      "Name: 10626, dtype: object\n",
      "SIMILARITY SCORE:  0.45369360096104916\n"
     ]
    }
   ],
   "source": [
    "for index, score in find_similar_jobs_tfidf(0):\n",
    "    print(df1.iloc[index])\n",
    "    print(\"SIMILARITY SCORE: \", score)"
   ]
  },
  {
   "cell_type": "markdown",
   "metadata": {},
   "source": [
    "###  International Research & Exchanges Board Jobs"
   ]
  },
  {
   "cell_type": "code",
   "execution_count": 57,
   "metadata": {},
   "outputs": [
    {
     "data": {
      "text/plain": [
       "jobpost                 International Research & Exchanges Board (IREX...\n",
       "Title                   Full-time Community Connections Intern (paid i...\n",
       "JobRequirment           - Participate in application design;\\n- Provid...\n",
       "JobDescription          The incumbent will work under the direct super...\n",
       "RequiredQual            - Bachelor's Degree; Master's is preferred;\\n-...\n",
       "JobDescription_token    [The, incumbent, will, work, under, the, direc...\n",
       "RequiredQual_token      [-, Bachelor, 's, Degree, ;, Master, 's, is, p...\n",
       "JobRequirment_token     [-, Participate, in, application, design, ;, -...\n",
       "Name: 1, dtype: object"
      ]
     },
     "execution_count": 57,
     "metadata": {},
     "output_type": "execute_result"
    }
   ],
   "source": [
    "df1.iloc[1]"
   ]
  },
  {
   "cell_type": "code",
   "execution_count": 58,
   "metadata": {},
   "outputs": [
    {
     "name": "stdout",
     "output_type": "stream",
     "text": [
      "jobpost                 International Research & Exchanges Board (IREX...\n",
      "Title                    Non-paid part or full time Administrative Intern\n",
      "JobRequirment           - Participate in application design;\\n- Provid...\n",
      "JobDescription          The incumbent will work under the direct super...\n",
      "RequiredQual            - Excellent communication skills;\\n- Good oral...\n",
      "JobDescription_token    [The, incumbent, will, work, under, the, direc...\n",
      "RequiredQual_token      [-, Excellent, communication, skills, ;, -, Go...\n",
      "JobRequirment_token     [-, Participate, in, application, design, ;, -...\n",
      "Name: 11, dtype: object\n",
      "SIMILARITY SCORE:  0.6798353526927007\n",
      "jobpost                 International Research & Exchanges Board (IREX...\n",
      "Title                      Non-paid part or full time Programmatic Intern\n",
      "JobRequirment           - Participate in application design;\\n- Provid...\n",
      "JobDescription          The incumbent will work under the direct super...\n",
      "RequiredQual            - Excellent communication skills;\\n- Good oral...\n",
      "JobDescription_token    [The, incumbent, will, work, under, the, direc...\n",
      "RequiredQual_token      [-, Excellent, communication, skills, ;, -, Go...\n",
      "JobRequirment_token     [-, Participate, in, application, design, ;, -...\n",
      "Name: 7, dtype: object\n",
      "SIMILARITY SCORE:  0.671682269056676\n",
      "jobpost                 Military Institute MoD RA\\nJOB TITLE:   IT Tea...\n",
      "Title                                             IT Teacher  (full time)\n",
      "JobRequirment           - Participate in application design;\\n- Provid...\n",
      "JobDescription          The incumbent will work under the direct super...\n",
      "RequiredQual            - Degree in Computer Science, Information Tech...\n",
      "JobDescription_token    [The, incumbent, will, work, under, the, direc...\n",
      "RequiredQual_token      [-, Degree, in, Computer, Science, ,, Informat...\n",
      "JobRequirment_token     [-, Participate, in, application, design, ;, -...\n",
      "Name: 114, dtype: object\n",
      "SIMILARITY SCORE:  0.6687114180764094\n",
      "jobpost                 International Research & Exchanges Board (IREX...\n",
      "Title                              Administrative and Programmatic Intern\n",
      "JobRequirment           - Participate in application design;\\n- Provid...\n",
      "JobDescription          The incumbent will work under the direct super...\n",
      "RequiredQual            - Fluency in English and Armenian;\\n- Good com...\n",
      "JobDescription_token    [The, incumbent, will, work, under, the, direc...\n",
      "RequiredQual_token      [-, Fluency, in, English, and, Armenian, ;, -,...\n",
      "JobRequirment_token     [-, Participate, in, application, design, ;, -...\n",
      "Name: 127, dtype: object\n",
      "SIMILARITY SCORE:  0.6407142942564401\n",
      "jobpost                 International Research & Exchanges Board (IREX...\n",
      "Title                              Administrative and Programmatic Intern\n",
      "JobRequirment           - Participate in application design;\\n- Provid...\n",
      "JobDescription          The incumbent will work under the direct super...\n",
      "RequiredQual            - Fluency in English and Armenian;\\n- Good com...\n",
      "JobDescription_token    [The, incumbent, will, work, under, the, direc...\n",
      "RequiredQual_token      [-, Fluency, in, English, and, Armenian, ;, -,...\n",
      "JobRequirment_token     [-, Participate, in, application, design, ;, -...\n",
      "Name: 125, dtype: object\n",
      "SIMILARITY SCORE:  0.6407142942564401\n"
     ]
    }
   ],
   "source": [
    "for index, score in find_similar_jobs_tfidf(1):\n",
    "    print(df1.iloc[index])\n",
    "    print(\"SIMILARITY SCORE: \", score)"
   ]
  },
  {
   "cell_type": "markdown",
   "metadata": {},
   "source": [
    "#### Caucasus Environmental NGO Network job"
   ]
  },
  {
   "cell_type": "code",
   "execution_count": 16,
   "metadata": {},
   "outputs": [
    {
     "data": {
      "text/plain": [
       "jobpost                 Caucasus Environmental NGO Network (CENN)\\nJOB...\n",
       "Title                                                 Country Coordinator\n",
       "JobRequirment           - Working with the Country Director to provide...\n",
       "JobDescription          Public outreach and strengthening of a growing...\n",
       "RequiredQual            - Degree in environmentally related field, or ...\n",
       "JobDescription_token    [Public, outreach, and, strengthening, of, a, ...\n",
       "RequiredQual_token      [-, Degree, in, environmentally, related, fiel...\n",
       "JobRequirment_token     [-, Working, with, the, Country, Director, to,...\n",
       "Name: 2, dtype: object"
      ]
     },
     "execution_count": 16,
     "metadata": {},
     "output_type": "execute_result"
    }
   ],
   "source": [
    "df1.iloc[2]"
   ]
  },
  {
   "cell_type": "code",
   "execution_count": 17,
   "metadata": {},
   "outputs": [
    {
     "name": "stdout",
     "output_type": "stream",
     "text": [
      "jobpost                 Caucasus Environmental NGO Network\\nTITLE:  Co...\n",
      "Title                                       Country Coordinator - Armenia\n",
      "JobRequirment           -  Write first hand articles, conduct intervie...\n",
      "JobDescription          CENN - Caucasus Environmental NGO Network - is...\n",
      "RequiredQual            1. Education: University education in environm...\n",
      "JobDescription_token    [CENN, -, Caucasus, Environmental, NGO, Networ...\n",
      "RequiredQual_token      [1, ., Education, :, University, education, in...\n",
      "JobRequirment_token     [-, Write, first, hand, articles, ,, conduct, ...\n",
      "Name: 404, dtype: object\n",
      "SIMILARITY SCORE:  0.43463797719195596\n",
      "jobpost                 Veya  Ltd.\\n\\n\\nTITLE:  Country Coordinator\\n\\...\n",
      "Title                                                 Country Coordinator\n",
      "JobRequirment           - Negotiate with potential customers;\\n- Lobby...\n",
      "JobDescription          Veya Ltd. is looking for a qualified Country\\n...\n",
      "RequiredQual            - At least 5 years of experience in project ma...\n",
      "JobDescription_token    [Veya, Ltd., is, looking, for, a, qualified, C...\n",
      "RequiredQual_token      [-, At, least, 5, years, of, experience, in, p...\n",
      "JobRequirment_token     [-, Negotiate, with, potential, customers, ;, ...\n",
      "Name: 18907, dtype: object\n",
      "SIMILARITY SCORE:  0.31018486230498576\n",
      "jobpost                 Veya Limited\\nTITLE:  Country Coordinator\\nANN...\n",
      "Title                                                 Country Coordinator\n",
      "JobRequirment           - Coordinate activities of the office and staf...\n",
      "JobDescription          Veya Limited needs an experienced Business Man...\n",
      "RequiredQual            - University degree in Middle East Studies, In...\n",
      "JobDescription_token    [Veya, Limited, needs, an, experienced, Busine...\n",
      "RequiredQual_token      [-, University, degree, in, Middle, East, Stud...\n",
      "JobRequirment_token     [-, Coordinate, activities, of, the, office, a...\n",
      "Name: 13497, dtype: object\n",
      "SIMILARITY SCORE:  0.2911311413535147\n",
      "jobpost                 UNFPA\\nTITLE:  Country Action Coordinator\\nDUR...\n",
      "Title                                          Country Action Coordinator\n",
      "JobRequirment           - Provide support in design and implementation...\n",
      "JobDescription          UNFPA, with funding by the European Union, is ...\n",
      "RequiredQual            - Masters degree in Business, Management, Soci...\n",
      "JobDescription_token    [UNFPA, ,, with, funding, by, the, European, U...\n",
      "RequiredQual_token      [-, Masters, degree, in, Business, ,, Manageme...\n",
      "JobRequirment_token     [-, Provide, support, in, design, and, impleme...\n",
      "Name: 2325, dtype: object\n",
      "SIMILARITY SCORE:  0.2744254442503254\n",
      "jobpost                 PricewaterhouseCoopers Limited\\nTITLE:  Countr...\n",
      "Title                                                     Country Manager\n",
      "JobRequirment           - Take all the necessary steps to ensure a wel...\n",
      "JobDescription          Our client, one of the largest group of compan...\n",
      "RequiredQual            - Results-oriented and hands-on professional;\\...\n",
      "JobDescription_token    [Our, client, ,, one, of, the, largest, group,...\n",
      "RequiredQual_token      [-, Results-oriented, and, hands-on, professio...\n",
      "JobRequirment_token     [-, Take, all, the, necessary, steps, to, ensu...\n",
      "Name: 1732, dtype: object\n",
      "SIMILARITY SCORE:  0.2721907935199034\n"
     ]
    }
   ],
   "source": [
    "for index, score in find_similar_jobs_tfidf(2):\n",
    "    print(df1.iloc[index])\n",
    "    print(\"SIMILARITY SCORE: \", score)"
   ]
  },
  {
   "cell_type": "markdown",
   "metadata": {},
   "source": [
    "### Using Pretrained Word2Vec Embedding "
   ]
  },
  {
   "cell_type": "code",
   "execution_count": 13,
   "metadata": {},
   "outputs": [],
   "source": [
    "nlp = spacy.load('en_core_web_lg')"
   ]
  },
  {
   "cell_type": "code",
   "execution_count": 38,
   "metadata": {},
   "outputs": [
    {
     "name": "stdout",
     "output_type": "stream",
     "text": [
      "DOC1:\n",
      "Chief Financial Officer \n",
      "\n",
      "DOC2:\n",
      " Country Coordinator \n",
      "\n",
      " 0.5373299805896293\n"
     ]
    }
   ],
   "source": [
    "# Original text - Title\n",
    "doc1 = nlp(df1.iloc[0]['Title'])\n",
    "doc2 = nlp(df1.iloc[2]['Title'])\n",
    "similarity = doc1.similarity(doc2)\n",
    "print(\"DOC1:\\n\" + doc1.text, \"\\n\\nDOC2:\\n\", doc2.text, \"\\n\\n\", similarity)"
   ]
  },
  {
   "cell_type": "code",
   "execution_count": 39,
   "metadata": {},
   "outputs": [
    {
     "name": "stdout",
     "output_type": "stream",
     "text": [
      "DOC1:\n",
      "To perform this job successfully, an\n",
      "individual must be able to perform each essential duty satisfactorily.\n",
      "The requirements listed below are representative of the knowledge,\n",
      "skill, and/or ability required.\n",
      "Knowledge of:\n",
      "- Generally accepted accounting principles;\n",
      "- Local accounting standards and legislation;\n",
      "- State reporting requirements pertaining to accounting;\n",
      "- Principles and practices of financial management and budgeting;\n",
      "- Principles and practices of financial systems design and analysis;\n",
      "- Principles and practices of contract management, records management,\n",
      "and risk management;\n",
      "- Principles and practices of management and supervision;\n",
      "- Principles and practices of information systems management.\n",
      "Ability to:\n",
      "- Apply sound fiscal and administrative practices to the company's\n",
      "activities;\n",
      "- Plan, organize and supervise the work of subordinate employees,\n",
      "including training them, assigning and evaluating their work, and\n",
      "providing job performance feedback;\n",
      "- Critically analyze fiscal and administrative policies, practices,\n",
      "procedures, and systems, and recommend and implement changes as needed;\n",
      "- Gather and synthesize financial information from a variety of sources\n",
      "and present it to a variety of audiences with differing financial\n",
      "management and analysis expertise;\n",
      "- Prepare detailed, comprehensive financial reports, including\n",
      "explanatory text;\n",
      "- Operate IBM-compatible personal computer, including word processing,\n",
      "spreadsheet, and database software applications;\n",
      "- Operate specialized software applications that support the financial\n",
      "management and budgeting functions.\n",
      "Qualifications:\n",
      "- A minimum of 5-7 years Accounting/ Corporate Finance/ Banking\n",
      "experience, including a role as a CFO;\n",
      "- Excellent finance and accounting technical skills coupled with a\n",
      "demonstrated knowledge of all key financial functions in an consulting\n",
      "company context - accounting, finance, control, treasury, reserving, and\n",
      "reporting;\n",
      "- Strong financial planning and analytical skills and experience and the\n",
      "ability to work closely with and support the CEO and other executives in\n",
      "strategic development and implementation;\n",
      "- Excellent leadership, management and supervisory track record of\n",
      "attracting, selecting, developing, rewarding and retaining high-caliber,\n",
      "accounting and finance executive and teams who achieve business goals;\n",
      "- An undergraduate degree in finance, business, or other related\n",
      "discipline is required. A CPA, CFA, ACCA or other financial\n",
      "certification is highly preferred, as is a Masters degree in Business\n",
      "Administration, Accounting or Finance;\n",
      "- Fluency in English, Armenian and Russian with outstanding writing\n",
      "skills;\n",
      "- Excellent analytical, communication, teamwork, interpersonal skills;\n",
      "- Need to be well organized and detail-oriented as well as goal/ result\n",
      "driven and able to deal with complex issues. \n",
      "\n",
      "DOC2:\n",
      " - Degree in environmentally related field, or 5 years relevant\n",
      "experience;\n",
      "- Oral and written fluency in Armenian, Russian and English;\n",
      "- Knowledge/ experience of working with environmental issues specific to\n",
      "Armenia is a plus.\n",
      "REMUNERATION:  Salary commensurate with experience. \n",
      "\n",
      " 0.9393332817825393\n"
     ]
    }
   ],
   "source": [
    "# Original text - RequiredQual\n",
    "doc1 = nlp(df1.iloc[0]['RequiredQual'])\n",
    "doc2 = nlp(df1.iloc[2]['RequiredQual'])\n",
    "similarity = doc1.similarity(doc2)\n",
    "print(\"DOC1:\\n\" + doc1.text, \"\\n\\nDOC2:\\n\", doc2.text, \"\\n\\n\", similarity)"
   ]
  },
  {
   "cell_type": "code",
   "execution_count": 21,
   "metadata": {},
   "outputs": [
    {
     "name": "stdout",
     "output_type": "stream",
     "text": [
      "DOC1:\n",
      "To perform this job successfully , an individual must be able to perform each essential duty satisfactorily . The requirements listed below are representative of the knowledge , skill , and/or ability required . Knowledge of : - Generally accepted accounting principles ; - Local accounting standards and legislation ; - State reporting requirements pertaining to accounting ; - Principles and practices of financial management and budgeting ; - Principles and practices of financial systems design and analysis ; - Principles and practices of contract management , records management , and risk management ; - Principles and practices of management and supervision ; - Principles and practices of information systems management . Ability to : - Apply sound fiscal and administrative practices to the company's activities ; - Plan , organize and supervise the work of subordinate employees , including training them , assigning and evaluating their work , and providing job performance feedback ; - Critically analyze fiscal and administrative policies , practices , procedures , and systems , and recommend and implement changes as needed ; - Gather and synthesize financial information from a variety of sources and present it to a variety of audiences with differing financial management and analysis expertise ; - Prepare detailed , comprehensive financial reports , including explanatory text ; - Operate IBM-compatible personal computer , including word processing , spreadsheet , and database software applications ; - Operate specialized software applications that support the financial management and budgeting functions . Qualifications : - A minimum of 5-7 years Accounting/ Corporate Finance/ Banking experience , including a role as a CFO ; - Excellent finance and accounting technical skills coupled with a demonstrated knowledge of all key financial functions in an consulting company context - accounting , finance , control , treasury , reserving , and reporting ; - Strong financial planning and analytical skills and experience and the ability to work closely with and support the CEO and other executives in strategic development and implementation ; - Excellent leadership , management and supervisory track record of attracting , selecting , developing , rewarding and retaining high-caliber , accounting and finance executive and teams who achieve business goals ; - An undergraduate degree in finance , business , or other related discipline is required . A CPA , CFA , ACCA or other financial certification is highly preferred , as is a Masters degree in Business Administration , Accounting or Finance ; - Fluency in English , Armenian and Russian with outstanding writing skills ; - Excellent analytical , communication , teamwork , interpersonal skills ; - Need to be well organized and detail-oriented as well as goal/ result driven and able to deal with complex issues . \n",
      "\n",
      "DOC2:\n",
      " - Degree in environmentally related field , or 5 years relevant experience ; - Oral and written fluency in Armenian , Russian and English ; - Knowledge/ experience of working with environmental issues specific to Armenia is a plus . REMUNERATION : Salary commensurate with experience . \n",
      "\n",
      " 0.93933324553494\n"
     ]
    }
   ],
   "source": [
    "# removing stopwords and punctuations\n",
    "doc1 = nlp(' '.join(df1.iloc[0]['RequiredQual_token']))\n",
    "doc2 = nlp(' '.join(df1.iloc[2]['RequiredQual_token']))\n",
    "similarity = doc1.similarity(doc2)\n",
    "print(\"DOC1:\\n\" + doc1.text, \"\\n\\nDOC2:\\n\", doc2.text, \"\\n\\n\", similarity)"
   ]
  },
  {
   "cell_type": "markdown",
   "metadata": {},
   "source": [
    "#### POS + RegexMatcher"
   ]
  },
  {
   "cell_type": "code",
   "execution_count": 22,
   "metadata": {},
   "outputs": [],
   "source": [
    "matcher = Matcher(nlp.vocab)"
   ]
  },
  {
   "cell_type": "code",
   "execution_count": 23,
   "metadata": {},
   "outputs": [],
   "source": [
    "def collect_sents(matcher, doc, i, matches):\n",
    "    match_id, start, end = matches[i]\n",
    "    span = doc[start : end]  # matched span\n",
    "    sent = span.sent  # sentence containing matched span\n",
    "    match_ents = [{'start': span.start_char - sent.start_char,\n",
    "                   'end': span.end_char - sent.start_char,\n",
    "                   'label': 'MATCH'}]\n",
    "    matched_sents.append({'text': sent.text, 'ents': match_ents })"
   ]
  },
  {
   "cell_type": "code",
   "execution_count": 24,
   "metadata": {},
   "outputs": [],
   "source": [
    "patn1 = [{'POS':'ADJ'},{'ORTH': '-'}, {'POS':'NOUN', 'OP':'+'}, {'LOWER': 'organization'}]\n",
    "patn2 = [{'POS':'NOUN', 'OP':'+'}, {'LOWER': 'organization'}]\n",
    "patn3 = [{'POS':'NOUN', 'OP':'+'}, {'LOWER': 'company'}]\n",
    "patn4 = [{'POS':'NOUN', 'OP':'+'}, {'LOWER': 'services'}]\n",
    "patn5 = [{'LOWER': 'company'}, {'POS':'VERB'}, {'POS':'NOUN', 'OP':'+'}]\n",
    "patn6 = [{'LOWER':'provider'}, {'POS':'ADP'}, {'POS':'NOUN',  'OP': '+'}  , {'POS':'CCONJ','OP':'+'}, {'POS':'NOUN','OP':'+'}]\n",
    "patn7 = [{'LOWER':'provider'}, {'POS':'ADP'}, {'POS':'NOUN',  'OP': '+'}]\n",
    "patn8 = [{'POS':'VERB'}, {'POS':'NOUN',  'OP': '+'} ]\n",
    "patn9 = [{'POS':'ADJ'}, {'POS':'NOUN',  'OP': '+'} ]\n",
    "patn10 = [{'POS':'NOUN'}, {'POS':'ADP'}, {'POS':'NOUN',  'OP': '+'} ]\n",
    "patn11 = [{'POS':'NOUN'}, {'POS':'NOUN','OP':'+'} ]"
   ]
  },
  {
   "cell_type": "code",
   "execution_count": 25,
   "metadata": {},
   "outputs": [],
   "source": [
    "matcher.add('all', collect_sents, patn1, patn2, patn3, patn4, patn5, patn6, patn7, patn8, patn9, patn10, patn11)"
   ]
  },
  {
   "cell_type": "code",
   "execution_count": 27,
   "metadata": {},
   "outputs": [],
   "source": [
    "# RequiredQual\n",
    "for job1_idx in range(df1.shape[0]):\n",
    "    matched_sents = []\n",
    "    keywords = []\n",
    "    t = re.sub(r'\\s+', ' ', df1.iloc[job1_idx]['RequiredQual'])\n",
    "    doc = nlp(t)\n",
    "    matches = matcher(doc)\n",
    "    for match_id, start, end in matches:\n",
    "        string_id = nlp.vocab.strings[match_id]  # get string representation\n",
    "        span = doc[start:end]  # the matched span\n",
    "        keywords.append(span.text)\n",
    "    df1.set_value(job1_idx, 'RequiredQual_keywords', \" \".join(keywords))"
   ]
  },
  {
   "cell_type": "code",
   "execution_count": 28,
   "metadata": {},
   "outputs": [],
   "source": [
    "# JobDescription\n",
    "for job1_idx in range(df1.shape[0]):\n",
    "    matched_sents = []\n",
    "    keywords = []\n",
    "    t = re.sub(r'\\s+', ' ', str(df1.iloc[job1_idx]['JobDescription']))\n",
    "    doc = nlp(t)\n",
    "    matches = matcher(doc)\n",
    "    for match_id, start, end in matches:\n",
    "        string_id = nlp.vocab.strings[match_id]  # get string representation\n",
    "        span = doc[start:end]  # the matched span\n",
    "        keywords.append(span.text)\n",
    "    df1.set_value(job1_idx, 'JobDescription_keywords', \" \".join(keywords))"
   ]
  },
  {
   "cell_type": "code",
   "execution_count": 29,
   "metadata": {},
   "outputs": [],
   "source": [
    "# JobRequirment\n",
    "for job1_idx in range(df1.shape[0]):\n",
    "    matched_sents = []\n",
    "    keywords = []\n",
    "    t = re.sub(r'\\s+', ' ', str(df1.iloc[job1_idx]['JobRequirment']))\n",
    "    doc = nlp(t)\n",
    "    matches = matcher(doc)\n",
    "    for match_id, start, end in matches:\n",
    "        string_id = nlp.vocab.strings[match_id]  # get string representation\n",
    "        span = doc[start:end]  # the matched span\n",
    "        keywords.append(span.text)\n",
    "    df1.set_value(job1_idx, 'JobRequirment_keywords', \" \".join(keywords))"
   ]
  },
  {
   "cell_type": "code",
   "execution_count": 30,
   "metadata": {},
   "outputs": [
    {
     "data": {
      "text/html": [
       "<div>\n",
       "<style scoped>\n",
       "    .dataframe tbody tr th:only-of-type {\n",
       "        vertical-align: middle;\n",
       "    }\n",
       "\n",
       "    .dataframe tbody tr th {\n",
       "        vertical-align: top;\n",
       "    }\n",
       "\n",
       "    .dataframe thead th {\n",
       "        text-align: right;\n",
       "    }\n",
       "</style>\n",
       "<table border=\"1\" class=\"dataframe\">\n",
       "  <thead>\n",
       "    <tr style=\"text-align: right;\">\n",
       "      <th></th>\n",
       "      <th>jobpost</th>\n",
       "      <th>Title</th>\n",
       "      <th>JobRequirment</th>\n",
       "      <th>JobDescription</th>\n",
       "      <th>RequiredQual</th>\n",
       "      <th>JobDescription_token</th>\n",
       "      <th>RequiredQual_token</th>\n",
       "      <th>JobRequirment_token</th>\n",
       "      <th>RequiredQual_keywords</th>\n",
       "      <th>JobDescription_keywords</th>\n",
       "      <th>JobRequirment_keywords</th>\n",
       "    </tr>\n",
       "  </thead>\n",
       "  <tbody>\n",
       "    <tr>\n",
       "      <th>0</th>\n",
       "      <td>AMERIA Investment Consulting Company\\nJOB TITL...</td>\n",
       "      <td>Chief Financial Officer</td>\n",
       "      <td>- Supervises financial management and administ...</td>\n",
       "      <td>AMERIA Investment Consulting Company is seekin...</td>\n",
       "      <td>To perform this job successfully, an\\nindividu...</td>\n",
       "      <td>[AMERIA, Investment, Consulting, Company, is, ...</td>\n",
       "      <td>[To, perform, this, job, successfully, ,, an, ...</td>\n",
       "      <td>[-, Supervises, financial, management, and, ad...</td>\n",
       "      <td>essential duty accepted accounting accepted ac...</td>\n",
       "      <td>administrative functions complex staff complex...</td>\n",
       "      <td>financial management administrative staff assi...</td>\n",
       "    </tr>\n",
       "    <tr>\n",
       "      <th>1</th>\n",
       "      <td>International Research &amp; Exchanges Board (IREX...</td>\n",
       "      <td>Full-time Community Connections Intern (paid i...</td>\n",
       "      <td>nan</td>\n",
       "      <td>nan</td>\n",
       "      <td>- Bachelor's Degree; Master's is preferred;\\n-...</td>\n",
       "      <td>[nan]</td>\n",
       "      <td>[-, Bachelor, 's, Degree, ;, Master, 's, is, p...</td>\n",
       "      <td>[nan]</td>\n",
       "      <td>Excellent skills Armenian languages Armenian t...</td>\n",
       "      <td></td>\n",
       "      <td></td>\n",
       "    </tr>\n",
       "    <tr>\n",
       "      <th>2</th>\n",
       "      <td>Caucasus Environmental NGO Network (CENN)\\nJOB...</td>\n",
       "      <td>Country Coordinator</td>\n",
       "      <td>- Working with the Country Director to provide...</td>\n",
       "      <td>Public outreach and strengthening of a growing...</td>\n",
       "      <td>- Degree in environmentally related field, or ...</td>\n",
       "      <td>[Public, outreach, and, strengthening, of, a, ...</td>\n",
       "      <td>[-, Degree, in, environmentally, related, fiel...</td>\n",
       "      <td>[-, Working, with, the, Country, Director, to,...</td>\n",
       "      <td>related field relevant experience written flue...</td>\n",
       "      <td>Public outreach growing network international ...</td>\n",
       "      <td>environmental information general public elect...</td>\n",
       "    </tr>\n",
       "    <tr>\n",
       "      <th>3</th>\n",
       "      <td>Manoff Group\\nJOB TITLE:  BCC Specialist\\nPOSI...</td>\n",
       "      <td>BCC Specialist</td>\n",
       "      <td>- Identify gaps in knowledge and overseeing in...</td>\n",
       "      <td>The LEAD (Local Enhancement and Development fo...</td>\n",
       "      <td>- Advanced degree in public health, social sci...</td>\n",
       "      <td>[The, LEAD, (, Local, Enhancement, and, Develo...</td>\n",
       "      <td>[-, Advanced, degree, in, public, health, ,, s...</td>\n",
       "      <td>[-, Identify, gaps, in, knowledge, and, overse...</td>\n",
       "      <td>Advanced degree public health social science r...</td>\n",
       "      <td>apply state art approaches address provider ca...</td>\n",
       "      <td>Identify gaps gaps in knowledge overseeing inf...</td>\n",
       "    </tr>\n",
       "    <tr>\n",
       "      <th>4</th>\n",
       "      <td>Yerevan Brandy Company\\nJOB TITLE:  Software D...</td>\n",
       "      <td>Software Developer</td>\n",
       "      <td>- Rendering technical assistance to Database M...</td>\n",
       "      <td>nan</td>\n",
       "      <td>- University degree; economical background is ...</td>\n",
       "      <td>[nan]</td>\n",
       "      <td>[-, University, degree, ;, economical, backgro...</td>\n",
       "      <td>[-, Rendering, technical, assistance, to, Data...</td>\n",
       "      <td>University degree economical background Excell...</td>\n",
       "      <td></td>\n",
       "      <td>technical assistance servers maintenance serve...</td>\n",
       "    </tr>\n",
       "    <tr>\n",
       "      <th>5</th>\n",
       "      <td>Boutique \"Appollo\"\\nJOB TITLE:  Saleswoman\\nPO...</td>\n",
       "      <td>Saleswoman</td>\n",
       "      <td>nan</td>\n",
       "      <td>Saleswoman will sell menswear and accessories.</td>\n",
       "      <td>- Candidates should be female, 20-30 years old...</td>\n",
       "      <td>[Saleswoman, will, sell, menswear, and, access...</td>\n",
       "      <td>[-, Candidates, should, be, female, ,, 20-30, ...</td>\n",
       "      <td>[nan]</td>\n",
       "      <td>looking exterior Excellent communication Excel...</td>\n",
       "      <td>sell menswear</td>\n",
       "      <td></td>\n",
       "    </tr>\n",
       "    <tr>\n",
       "      <th>6</th>\n",
       "      <td>OSI Assistance Foundation - Armenian Branch Of...</td>\n",
       "      <td>Chief Accountant/ Finance Assistant</td>\n",
       "      <td>nan</td>\n",
       "      <td>The Armenian Branch Office of the Open Society...</td>\n",
       "      <td>- University degree in finance/ accounting; \\n...</td>\n",
       "      <td>[The, Armenian, Branch, Office, of, the, Open,...</td>\n",
       "      <td>[-, University, degree, in, finance/, accounti...</td>\n",
       "      <td>[nan]</td>\n",
       "      <td>University degree year minimum year minimum ex...</td>\n",
       "      <td>seeking applications grant payments administra...</td>\n",
       "      <td></td>\n",
       "    </tr>\n",
       "    <tr>\n",
       "      <th>7</th>\n",
       "      <td>International Research &amp; Exchanges Board (IREX...</td>\n",
       "      <td>Non-paid part or full time Programmatic Intern</td>\n",
       "      <td>nan</td>\n",
       "      <td>nan</td>\n",
       "      <td>nan</td>\n",
       "      <td>[nan]</td>\n",
       "      <td>[nan]</td>\n",
       "      <td>[nan]</td>\n",
       "      <td></td>\n",
       "      <td></td>\n",
       "      <td></td>\n",
       "    </tr>\n",
       "    <tr>\n",
       "      <th>8</th>\n",
       "      <td>Yerevan Brandy Company \\nJOB TITLE:  Assistant...</td>\n",
       "      <td>Assistant to Managing Director</td>\n",
       "      <td>- Coordinating the work of subordinate employe...</td>\n",
       "      <td>nan</td>\n",
       "      <td>- University degree;\\n- At least 3 years of ex...</td>\n",
       "      <td>[nan]</td>\n",
       "      <td>[-, University, degree, ;, -, At, least, 3, ye...</td>\n",
       "      <td>[-, Coordinating, the, work, of, subordinate, ...</td>\n",
       "      <td>University degree years of experience relevant...</td>\n",
       "      <td></td>\n",
       "      <td>subordinate employees Maintaining liaison othe...</td>\n",
       "    </tr>\n",
       "    <tr>\n",
       "      <th>9</th>\n",
       "      <td>American Embassy Yerevan\\nANNOUNCEMENT NUMBER:...</td>\n",
       "      <td>Program Assistant (INL), FSN-8; FP-6*</td>\n",
       "      <td>nan</td>\n",
       "      <td>The incumbent assists in coordinating INL-fund...</td>\n",
       "      <td>NOTE: All applicants are instructed to\\naddres...</td>\n",
       "      <td>[The, incumbent, assists, in, coordinating, IN...</td>\n",
       "      <td>[NOTE, :, All, applicants, are, instructed, to...</td>\n",
       "      <td>[nan]</td>\n",
       "      <td>selection criterion comprehensive information ...</td>\n",
       "      <td>coordinating INL funded law funded law enforce...</td>\n",
       "      <td></td>\n",
       "    </tr>\n",
       "  </tbody>\n",
       "</table>\n",
       "</div>"
      ],
      "text/plain": [
       "                                             jobpost  \\\n",
       "0  AMERIA Investment Consulting Company\\nJOB TITL...   \n",
       "1  International Research & Exchanges Board (IREX...   \n",
       "2  Caucasus Environmental NGO Network (CENN)\\nJOB...   \n",
       "3  Manoff Group\\nJOB TITLE:  BCC Specialist\\nPOSI...   \n",
       "4  Yerevan Brandy Company\\nJOB TITLE:  Software D...   \n",
       "5  Boutique \"Appollo\"\\nJOB TITLE:  Saleswoman\\nPO...   \n",
       "6  OSI Assistance Foundation - Armenian Branch Of...   \n",
       "7  International Research & Exchanges Board (IREX...   \n",
       "8  Yerevan Brandy Company \\nJOB TITLE:  Assistant...   \n",
       "9  American Embassy Yerevan\\nANNOUNCEMENT NUMBER:...   \n",
       "\n",
       "                                               Title  \\\n",
       "0                            Chief Financial Officer   \n",
       "1  Full-time Community Connections Intern (paid i...   \n",
       "2                                Country Coordinator   \n",
       "3                                     BCC Specialist   \n",
       "4                                 Software Developer   \n",
       "5                                         Saleswoman   \n",
       "6                Chief Accountant/ Finance Assistant   \n",
       "7     Non-paid part or full time Programmatic Intern   \n",
       "8                     Assistant to Managing Director   \n",
       "9              Program Assistant (INL), FSN-8; FP-6*   \n",
       "\n",
       "                                       JobRequirment  \\\n",
       "0  - Supervises financial management and administ...   \n",
       "1                                                nan   \n",
       "2  - Working with the Country Director to provide...   \n",
       "3  - Identify gaps in knowledge and overseeing in...   \n",
       "4  - Rendering technical assistance to Database M...   \n",
       "5                                                nan   \n",
       "6                                                nan   \n",
       "7                                                nan   \n",
       "8  - Coordinating the work of subordinate employe...   \n",
       "9                                                nan   \n",
       "\n",
       "                                      JobDescription  \\\n",
       "0  AMERIA Investment Consulting Company is seekin...   \n",
       "1                                                nan   \n",
       "2  Public outreach and strengthening of a growing...   \n",
       "3  The LEAD (Local Enhancement and Development fo...   \n",
       "4                                                nan   \n",
       "5     Saleswoman will sell menswear and accessories.   \n",
       "6  The Armenian Branch Office of the Open Society...   \n",
       "7                                                nan   \n",
       "8                                                nan   \n",
       "9  The incumbent assists in coordinating INL-fund...   \n",
       "\n",
       "                                        RequiredQual  \\\n",
       "0  To perform this job successfully, an\\nindividu...   \n",
       "1  - Bachelor's Degree; Master's is preferred;\\n-...   \n",
       "2  - Degree in environmentally related field, or ...   \n",
       "3  - Advanced degree in public health, social sci...   \n",
       "4  - University degree; economical background is ...   \n",
       "5  - Candidates should be female, 20-30 years old...   \n",
       "6  - University degree in finance/ accounting; \\n...   \n",
       "7                                                nan   \n",
       "8  - University degree;\\n- At least 3 years of ex...   \n",
       "9  NOTE: All applicants are instructed to\\naddres...   \n",
       "\n",
       "                                JobDescription_token  \\\n",
       "0  [AMERIA, Investment, Consulting, Company, is, ...   \n",
       "1                                              [nan]   \n",
       "2  [Public, outreach, and, strengthening, of, a, ...   \n",
       "3  [The, LEAD, (, Local, Enhancement, and, Develo...   \n",
       "4                                              [nan]   \n",
       "5  [Saleswoman, will, sell, menswear, and, access...   \n",
       "6  [The, Armenian, Branch, Office, of, the, Open,...   \n",
       "7                                              [nan]   \n",
       "8                                              [nan]   \n",
       "9  [The, incumbent, assists, in, coordinating, IN...   \n",
       "\n",
       "                                  RequiredQual_token  \\\n",
       "0  [To, perform, this, job, successfully, ,, an, ...   \n",
       "1  [-, Bachelor, 's, Degree, ;, Master, 's, is, p...   \n",
       "2  [-, Degree, in, environmentally, related, fiel...   \n",
       "3  [-, Advanced, degree, in, public, health, ,, s...   \n",
       "4  [-, University, degree, ;, economical, backgro...   \n",
       "5  [-, Candidates, should, be, female, ,, 20-30, ...   \n",
       "6  [-, University, degree, in, finance/, accounti...   \n",
       "7                                              [nan]   \n",
       "8  [-, University, degree, ;, -, At, least, 3, ye...   \n",
       "9  [NOTE, :, All, applicants, are, instructed, to...   \n",
       "\n",
       "                                 JobRequirment_token  \\\n",
       "0  [-, Supervises, financial, management, and, ad...   \n",
       "1                                              [nan]   \n",
       "2  [-, Working, with, the, Country, Director, to,...   \n",
       "3  [-, Identify, gaps, in, knowledge, and, overse...   \n",
       "4  [-, Rendering, technical, assistance, to, Data...   \n",
       "5                                              [nan]   \n",
       "6                                              [nan]   \n",
       "7                                              [nan]   \n",
       "8  [-, Coordinating, the, work, of, subordinate, ...   \n",
       "9                                              [nan]   \n",
       "\n",
       "                               RequiredQual_keywords  \\\n",
       "0  essential duty accepted accounting accepted ac...   \n",
       "1  Excellent skills Armenian languages Armenian t...   \n",
       "2  related field relevant experience written flue...   \n",
       "3  Advanced degree public health social science r...   \n",
       "4  University degree economical background Excell...   \n",
       "5  looking exterior Excellent communication Excel...   \n",
       "6  University degree year minimum year minimum ex...   \n",
       "7                                                      \n",
       "8  University degree years of experience relevant...   \n",
       "9  selection criterion comprehensive information ...   \n",
       "\n",
       "                             JobDescription_keywords  \\\n",
       "0  administrative functions complex staff complex...   \n",
       "1                                                      \n",
       "2  Public outreach growing network international ...   \n",
       "3  apply state art approaches address provider ca...   \n",
       "4                                                      \n",
       "5                                      sell menswear   \n",
       "6  seeking applications grant payments administra...   \n",
       "7                                                      \n",
       "8                                                      \n",
       "9  coordinating INL funded law funded law enforce...   \n",
       "\n",
       "                              JobRequirment_keywords  \n",
       "0  financial management administrative staff assi...  \n",
       "1                                                     \n",
       "2  environmental information general public elect...  \n",
       "3  Identify gaps gaps in knowledge overseeing inf...  \n",
       "4  technical assistance servers maintenance serve...  \n",
       "5                                                     \n",
       "6                                                     \n",
       "7                                                     \n",
       "8  subordinate employees Maintaining liaison othe...  \n",
       "9                                                     "
      ]
     },
     "execution_count": 30,
     "metadata": {},
     "output_type": "execute_result"
    }
   ],
   "source": [
    "df1.head(10)"
   ]
  },
  {
   "cell_type": "code",
   "execution_count": 31,
   "metadata": {},
   "outputs": [],
   "source": [
    "job_dissimilarity_df = pd.DataFrame(columns=['index', 'similar-job', 'dissimilar-score'])"
   ]
  },
  {
   "cell_type": "code",
   "execution_count": 32,
   "metadata": {},
   "outputs": [],
   "source": [
    "for job1_idx in range(3):  # rows\n",
    "    for job2_idx in range(1000):\n",
    "\n",
    "        doc1 = nlp(df1.iloc[job1_idx]['Title'])\n",
    "        doc2 = nlp(df1.iloc[job2_idx]['Title'])\n",
    "        title_similarity = doc1.similarity(doc2)\n",
    "        \n",
    "        doc1 = nlp(df1.iloc[job1_idx]['JobDescription_keywords'])\n",
    "        doc2 = nlp(df1.iloc[job2_idx]['JobDescription_keywords'])\n",
    "        jd_similarity = doc1.similarity(doc2)\n",
    "        \n",
    "        doc1 = nlp(df1.iloc[job1_idx]['JobRequirment_keywords'])\n",
    "        doc2 = nlp(df1.iloc[job2_idx]['JobRequirment_keywords'])\n",
    "        jr_similarity = doc1.similarity(doc2)\n",
    "        \n",
    "        doc1 = nlp(df1.iloc[job1_idx]['RequiredQual_keywords'])\n",
    "        doc2 = nlp(df1.iloc[job2_idx]['RequiredQual_keywords'])\n",
    "        rq_similarity = doc1.similarity(doc2)\n",
    "        \n",
    "        averaged_score = (title_similarity + jd_similarity + jr_similarity + rq_similarity) / 4.0\n",
    "        job_dissimilarity_df = job_dissimilarity_df.append({'index': job1_idx, 'similar-job': job2_idx, 'dissimilar-score': (1-averaged_score)},ignore_index=True)"
   ]
  },
  {
   "cell_type": "code",
   "execution_count": 33,
   "metadata": {},
   "outputs": [
    {
     "data": {
      "text/html": [
       "<div>\n",
       "<style scoped>\n",
       "    .dataframe tbody tr th:only-of-type {\n",
       "        vertical-align: middle;\n",
       "    }\n",
       "\n",
       "    .dataframe tbody tr th {\n",
       "        vertical-align: top;\n",
       "    }\n",
       "\n",
       "    .dataframe thead th {\n",
       "        text-align: right;\n",
       "    }\n",
       "</style>\n",
       "<table border=\"1\" class=\"dataframe\">\n",
       "  <thead>\n",
       "    <tr style=\"text-align: right;\">\n",
       "      <th></th>\n",
       "      <th>index</th>\n",
       "      <th>similar-job</th>\n",
       "      <th>dissimilar-score</th>\n",
       "    </tr>\n",
       "  </thead>\n",
       "  <tbody>\n",
       "    <tr>\n",
       "      <th>0</th>\n",
       "      <td>0.0</td>\n",
       "      <td>0.0</td>\n",
       "      <td>0.000000</td>\n",
       "    </tr>\n",
       "    <tr>\n",
       "      <th>697</th>\n",
       "      <td>0.0</td>\n",
       "      <td>697.0</td>\n",
       "      <td>0.069082</td>\n",
       "    </tr>\n",
       "    <tr>\n",
       "      <th>926</th>\n",
       "      <td>0.0</td>\n",
       "      <td>926.0</td>\n",
       "      <td>0.111218</td>\n",
       "    </tr>\n",
       "    <tr>\n",
       "      <th>126</th>\n",
       "      <td>0.0</td>\n",
       "      <td>126.0</td>\n",
       "      <td>0.124174</td>\n",
       "    </tr>\n",
       "    <tr>\n",
       "      <th>778</th>\n",
       "      <td>0.0</td>\n",
       "      <td>778.0</td>\n",
       "      <td>0.132108</td>\n",
       "    </tr>\n",
       "    <tr>\n",
       "      <th>234</th>\n",
       "      <td>0.0</td>\n",
       "      <td>234.0</td>\n",
       "      <td>0.136706</td>\n",
       "    </tr>\n",
       "    <tr>\n",
       "      <th>683</th>\n",
       "      <td>0.0</td>\n",
       "      <td>683.0</td>\n",
       "      <td>0.137541</td>\n",
       "    </tr>\n",
       "    <tr>\n",
       "      <th>112</th>\n",
       "      <td>0.0</td>\n",
       "      <td>112.0</td>\n",
       "      <td>0.139279</td>\n",
       "    </tr>\n",
       "    <tr>\n",
       "      <th>176</th>\n",
       "      <td>0.0</td>\n",
       "      <td>176.0</td>\n",
       "      <td>0.143326</td>\n",
       "    </tr>\n",
       "    <tr>\n",
       "      <th>180</th>\n",
       "      <td>0.0</td>\n",
       "      <td>180.0</td>\n",
       "      <td>0.143326</td>\n",
       "    </tr>\n",
       "  </tbody>\n",
       "</table>\n",
       "</div>"
      ],
      "text/plain": [
       "     index  similar-job  dissimilar-score\n",
       "0      0.0          0.0          0.000000\n",
       "697    0.0        697.0          0.069082\n",
       "926    0.0        926.0          0.111218\n",
       "126    0.0        126.0          0.124174\n",
       "778    0.0        778.0          0.132108\n",
       "234    0.0        234.0          0.136706\n",
       "683    0.0        683.0          0.137541\n",
       "112    0.0        112.0          0.139279\n",
       "176    0.0        176.0          0.143326\n",
       "180    0.0        180.0          0.143326"
      ]
     },
     "execution_count": 33,
     "metadata": {},
     "output_type": "execute_result"
    }
   ],
   "source": [
    "# Top similar jobs\n",
    "job_dissimilarity_df_sorted = job_dissimilarity_df.sort_values(by=['index', 'dissimilar-score'], ascending=[True, True])\n",
    "job_dissimilarity_df_sorted.head(10)"
   ]
  },
  {
   "cell_type": "code",
   "execution_count": 35,
   "metadata": {},
   "outputs": [
    {
     "name": "stdout",
     "output_type": "stream",
     "text": [
      "jobpost                    AMERIA Investment Consulting Company JOB TITLE...\n",
      "Title                                                Chief Financial Officer\n",
      "JobRequirment              - Supervises financial management and administ...\n",
      "JobDescription             AMERIA Investment Consulting Company is seekin...\n",
      "RequiredQual               To perform this job successfully, an individua...\n",
      "JobDescription_token       [AMERIA, Investment, Consulting, Company, is, ...\n",
      "RequiredQual_token         [To, perform, this, job, successfully, ,, an, ...\n",
      "JobRequirment_token        [-, Supervises, financial, management, and, ad...\n",
      "RequiredQual_keywords      essential duty accepted accounting accepted ac...\n",
      "JobDescription_keywords    administrative functions complex staff complex...\n",
      "JobRequirment_keywords     financial management administrative staff assi...\n",
      "Name: 0, dtype: object\n",
      "jobpost                    Cascade Capital Holdings CJSC TITLE:  Chief Fi...\n",
      "Title                                                Chief Financial Officer\n",
      "JobRequirment              - Create and oversee a financial reporting sys...\n",
      "JobDescription             Cascade Capital Holdings CJSC is looking for a...\n",
      "RequiredQual               - A university degree in the relevant field. A...\n",
      "JobDescription_token       [Cascade, Capital, Holdings, CJSC, is, looking...\n",
      "RequiredQual_token         [-, A, university, degree, in, the, relevant, ...\n",
      "JobRequirment_token        [-, Create, and, oversee, a, financial, report...\n",
      "RequiredQual_keywords      university degree relevant field years experie...\n",
      "JobDescription_keywords    professional candidate successful candidate su...\n",
      "JobRequirment_keywords     financial reporting financial reporting system...\n",
      "Name: 697, dtype: object\n",
      "jobpost                    Cascade Insurance and Reinsurance Company (CIR...\n",
      "Title                                                       Chief Accountant\n",
      "JobRequirment              - Companys daily transactions accounting entri...\n",
      "JobDescription             Cascade Insurance and Reinsurance Company is l...\n",
      "RequiredQual               - Higher education, preferably in Accounting/ ...\n",
      "JobDescription_token       [Cascade, Insurance, and, Reinsurance, Company...\n",
      "RequiredQual_token         [-, Higher, education, ,, preferably, in, Acco...\n",
      "JobRequirment_token        [-, Companys, daily, transactions, accounting,...\n",
      "RequiredQual_keywords      Higher education years of experience similar p...\n",
      "JobDescription_keywords    professional candidate successful incumbent ov...\n",
      "JobRequirment_keywords     daily transactions daily transactions accounti...\n",
      "Name: 926, dtype: object\n",
      "jobpost                    ABSER Ltd. JOB TITLE:   Financial Manager POSI...\n",
      "Title                                                      Financial Manager\n",
      "JobRequirment              - Manage all financial matters pertaining to t...\n",
      "JobDescription             ABSER Ltd. is looking for a personality to rec...\n",
      "RequiredQual               - Strong analytical skills, ability to make re...\n",
      "JobDescription_token       [ABSER, Ltd., is, looking, for, a, personality...\n",
      "RequiredQual_token         [-, Strong, analytical, skills, ,, ability, to...\n",
      "JobRequirment_token        [-, Manage, all, financial, matters, pertainin...\n",
      "RequiredQual_keywords      analytical skills make recommendations present...\n",
      "JobDescription_keywords    area of car area of car service car service fi...\n",
      "JobRequirment_keywords     financial matters strategic plans Marketing da...\n",
      "Name: 126, dtype: object\n",
      "jobpost                    International Relief and Development TITLE:  F...\n",
      "Title                                    Finance and Administrative Director\n",
      "JobRequirment              - Overall financial management, expenditure co...\n",
      "JobDescription             The Finance and Administrative Director will b...\n",
      "RequiredQual               - Three years experience in managing finance a...\n",
      "JobDescription_token       [The, Finance, and, Administrative, Director, ...\n",
      "RequiredQual_token         [-, Three, years, experience, in, managing, fi...\n",
      "JobRequirment_token        [-, Overall, financial, management, ,, expendi...\n",
      "RequiredQual_keywords      years experience managing finance administrati...\n",
      "JobDescription_keywords    administrative activities works program works ...\n",
      "JobRequirment_keywords     financial management expenditure control proje...\n",
      "Name: 778, dtype: object\n",
      "jobpost                    Conservation International TITLE:  Financial A...\n",
      "Title                                                      Financial Analyst\n",
      "JobRequirment              - Lead or support financial analysis and speci...\n",
      "JobDescription             The position assists with the financial analys...\n",
      "RequiredQual               - Education: 4 year degree. - Years of experie...\n",
      "JobDescription_token       [The, position, assists, with, the, financial,...\n",
      "RequiredQual_token         [-, Education, :, 4, year, degree, ., -, Years...\n",
      "JobRequirment_token        [-, Lead, or, support, financial, analysis, an...\n",
      "RequiredQual_keywords      year degree Years of experience financial info...\n",
      "JobDescription_keywords    financial analysis financial management financ...\n",
      "JobRequirment_keywords     financial analysis special projects financial ...\n",
      "Name: 234, dtype: object\n"
     ]
    }
   ],
   "source": [
    "# Show top 5 similar results to job - Ameria Investment Consulting Job\n",
    "similar_jobs = job_dissimilarity_df_sorted.loc[job_dissimilarity_df_sorted['index'] == 0].head(6)['similar-job'].tolist()\n",
    "\n",
    "for job in similar_jobs:\n",
    "    print(df1.iloc[int(job)].replace(r'\\n',' ', regex=True))"
   ]
  },
  {
   "cell_type": "code",
   "execution_count": 36,
   "metadata": {},
   "outputs": [
    {
     "name": "stdout",
     "output_type": "stream",
     "text": [
      "jobpost                    International Research & Exchanges Board (IREX...\n",
      "Title                      Full-time Community Connections Intern (paid i...\n",
      "JobRequirment                                                            nan\n",
      "JobDescription                                                           nan\n",
      "RequiredQual               - Bachelor's Degree; Master's is preferred;\\n-...\n",
      "JobDescription_token                                                   [nan]\n",
      "RequiredQual_token         [-, Bachelor, 's, Degree, ;, Master, 's, is, p...\n",
      "JobRequirment_token                                                    [nan]\n",
      "RequiredQual_keywords      Excellent skills Armenian languages Armenian t...\n",
      "JobDescription_keywords                                                     \n",
      "JobRequirment_keywords                                                      \n",
      "Name: 1, dtype: object\n",
      "jobpost                    Military Institute MoD RA\\nJOB TITLE:   IT Tea...\n",
      "Title                                                IT Teacher  (full time)\n",
      "JobRequirment                                                            nan\n",
      "JobDescription                                                           nan\n",
      "RequiredQual               - Degree in Computer Science, Information Tech...\n",
      "JobDescription_token                                                   [nan]\n",
      "RequiredQual_token         [-, Degree, in, Computer, Science, ,, Informat...\n",
      "JobRequirment_token                                                    [nan]\n",
      "RequiredQual_keywords      related discipline relevant field years of tea...\n",
      "JobDescription_keywords                                                     \n",
      "JobRequirment_keywords                                                      \n",
      "Name: 114, dtype: object\n",
      "jobpost                    French University of Armenia\\nTITLE:  Lecturer...\n",
      "Title                                              Lecturer for Business Law\n",
      "JobRequirment                                                            nan\n",
      "JobDescription             The Law Department of the French University of...\n",
      "RequiredQual                         French Language knowledge is desirable.\n",
      "JobDescription_token       [The, Law, Department, of, the, French, Univer...\n",
      "RequiredQual_token           [French, Language, knowledge, is, desirable, .]\n",
      "JobRequirment_token                                                    [nan]\n",
      "RequiredQual_keywords                                     Language knowledge\n",
      "JobDescription_keywords                                                     \n",
      "JobRequirment_keywords                                                      \n",
      "Name: 409, dtype: object\n",
      "jobpost                    French University of Armenia\\nTITLE:  Lecturer...\n",
      "Title                                               Lecturer for Private Law\n",
      "JobRequirment                                                            nan\n",
      "JobDescription             The Law Department of the French University of...\n",
      "RequiredQual                         French Language knowledge is desirable.\n",
      "JobDescription_token       [The, Law, Department, of, the, French, Univer...\n",
      "RequiredQual_token           [French, Language, knowledge, is, desirable, .]\n",
      "JobRequirment_token                                                    [nan]\n",
      "RequiredQual_keywords                                     Language knowledge\n",
      "JobDescription_keywords                                                     \n",
      "JobRequirment_keywords                                                      \n",
      "Name: 407, dtype: object\n",
      "jobpost                    French University in Armenia\\nTITLE:  Lecturer...\n",
      "Title                                                Lecturer for Public Law\n",
      "JobRequirment                                                            nan\n",
      "JobDescription             The Law Department of the French University of...\n",
      "RequiredQual                         French Language knowledge is desirable.\n",
      "JobDescription_token       [The, Law, Department, of, the, French, Univer...\n",
      "RequiredQual_token           [French, Language, knowledge, is, desirable, .]\n",
      "JobRequirment_token                                                    [nan]\n",
      "RequiredQual_keywords                                     Language knowledge\n",
      "JobDescription_keywords                                                     \n",
      "JobRequirment_keywords                                                      \n",
      "Name: 411, dtype: object\n",
      "jobpost                    Avangard Motors LLC\\nTITLE:  Sales and Marketi...\n",
      "Title                                          Sales and Marketing Assistant\n",
      "JobRequirment                                                            nan\n",
      "JobDescription                                                           nan\n",
      "RequiredQual               - Knowledge of IBM PC Operating, including MS ...\n",
      "JobDescription_token                                                   [nan]\n",
      "RequiredQual_token         [-, Knowledge, of, IBM, PC, Operating, ,, incl...\n",
      "JobRequirment_token                                                    [nan]\n",
      "RequiredQual_keywords      Excellent communication analytical skills Exce...\n",
      "JobDescription_keywords                                                     \n",
      "JobRequirment_keywords                                                      \n",
      "Name: 729, dtype: object\n"
     ]
    }
   ],
   "source": [
    "# Show top 5 similar results to job - International Research & Exchange Board\n",
    "similar_jobs = job_dissimilarity_df_sorted.loc[job_dissimilarity_df_sorted['index'] == 1].head(6)['similar-job'].tolist()\n",
    "\n",
    "for job in similar_jobs:\n",
    "    print(df1.iloc[int(job)])"
   ]
  },
  {
   "cell_type": "code",
   "execution_count": 37,
   "metadata": {},
   "outputs": [
    {
     "name": "stdout",
     "output_type": "stream",
     "text": [
      "jobpost                    Caucasus Environmental NGO Network (CENN)\\nJOB...\n",
      "Title                                                    Country Coordinator\n",
      "JobRequirment              - Working with the Country Director to provide...\n",
      "JobDescription             Public outreach and strengthening of a growing...\n",
      "RequiredQual               - Degree in environmentally related field, or ...\n",
      "JobDescription_token       [Public, outreach, and, strengthening, of, a, ...\n",
      "RequiredQual_token         [-, Degree, in, environmentally, related, fiel...\n",
      "JobRequirment_token        [-, Working, with, the, Country, Director, to,...\n",
      "RequiredQual_keywords      related field relevant experience written flue...\n",
      "JobDescription_keywords    Public outreach growing network international ...\n",
      "JobRequirment_keywords     environmental information general public elect...\n",
      "Name: 2, dtype: object\n",
      "jobpost                    International Medical Corps\\nJOB TITLE:   Coun...\n",
      "Title                                                       Country Director\n",
      "JobRequirment              - Oversee project logistics, finance, and admi...\n",
      "JobDescription             Country Directors for Angola, Chad, Russian\\nF...\n",
      "RequiredQual               - Minimum five years of field experience in in...\n",
      "JobDescription_token       [Country, Directors, for, Angola, ,, Chad, ,, ...\n",
      "RequiredQual_token         [-, Minimum, five, years, of, field, experienc...\n",
      "JobRequirment_token        [-, Oversee, project, logistics, ,, finance, ,...\n",
      "RequiredQual_keywords      years of field years of field experience field...\n",
      "JobDescription_keywords    Country Directors country programs programs in...\n",
      "JobRequirment_keywords     project logistics administrative support Manag...\n",
      "Name: 139, dtype: object\n",
      "jobpost                    World Vision Armenia\\nTITLE:  Health Coordinat...\n",
      "Title                                                     Health Coordinator\n",
      "JobRequirment              The position is starting in August 2004 and is...\n",
      "JobDescription             Health Coordinator will be responsible for dir...\n",
      "RequiredQual               -\\tExperience of working in the field of publi...\n",
      "JobDescription_token       [Health, Coordinator, will, be, responsible, f...\n",
      "RequiredQual_token         [-, Experience, of, working, in, the, field, o...\n",
      "JobRequirment_token        [The, position, is, starting, in, August, 2004...\n",
      "RequiredQual_keywords      public health international organizations gove...\n",
      "JobDescription_keywords    direct coordination technical monitoring care ...\n",
      "JobRequirment_keywords     National office countrywide travel related gui...\n",
      "Name: 448, dtype: object\n",
      "jobpost                    World Vision Armenia\\nTITLE:  Community Develo...\n",
      "Title                                      Community Development Coordinator\n",
      "JobRequirment              -\\tTo identify, plan and support community dev...\n",
      "JobDescription             To identify strategic issues for community dev...\n",
      "RequiredQual               -\\tStrong leadership, management and organizat...\n",
      "JobDescription_token       [To, identify, strategic, issues, for, communi...\n",
      "RequiredQual_token         [-, Strong, leadership, ,, management, and, or...\n",
      "JobRequirment_token        [-, To, identify, ,, plan, and, support, commu...\n",
      "RequiredQual_keywords      Strong leadership organizational skills Proven...\n",
      "JobDescription_keywords    strategic issues issues for community issues f...\n",
      "JobRequirment_keywords     support community support community developmen...\n",
      "Name: 489, dtype: object\n",
      "jobpost                    World Vision Armenia\\nTITLE:  Health Coordinat...\n",
      "Title                                                     Health Coordinator\n",
      "JobRequirment              - Coordinate the obtaining and/or development/...\n",
      "JobDescription             WORLD VISION ARMENIA announces full-time posit...\n",
      "RequiredQual               Experience:\\nAt least 2 years experience of wo...\n",
      "JobDescription_token       [WORLD, VISION, ARMENIA, announces, full-time,...\n",
      "RequiredQual_token         [Experience, :, At, least, 2, years, experienc...\n",
      "JobRequirment_token        [-, Coordinate, the, obtaining, and/or, develo...\n",
      "RequiredQual_keywords      years experience public health certain focus i...\n",
      "JobDescription_keywords    time position care project direct coordination...\n",
      "JobRequirment_keywords     related guides up phase pre- new training new ...\n",
      "Name: 222, dtype: object\n",
      "jobpost                    PADCO Inc.\\nTITLE:  Program Coordinator\\nLOCAT...\n",
      "Title                                                    Program Coordinator\n",
      "JobRequirment              Essential and other important responsibilities...\n",
      "JobDescription             REPORTS TO: Chief of Party \\nSUPERVISES: Infor...\n",
      "RequiredQual               Sufficient education, training and/or work exp...\n",
      "JobDescription_token       [REPORTS, TO, :, Chief, of, Party, SUPERVISES,...\n",
      "RequiredQual_token         [Sufficient, education, ,, training, and/or, w...\n",
      "JobRequirment_token        [Essential, and, other, important, responsibil...\n",
      "RequiredQual_keywords      Sufficient education work experience demonstra...\n",
      "JobDescription_keywords    general direction DISTINGUISHING FEATURES tech...\n",
      "JobRequirment_keywords     important responsibilities following functions...\n",
      "Name: 356, dtype: object\n"
     ]
    }
   ],
   "source": [
    "# Show top 5 similar results to job - Caucasus Environmental NGO Network\n",
    "similar_jobs = job_dissimilarity_df_sorted.loc[job_dissimilarity_df_sorted['index'] == 2].head(6)['similar-job'].tolist()\n",
    "\n",
    "for job in similar_jobs:\n",
    "    print(df1.iloc[int(job)])"
   ]
  }
 ],
 "metadata": {
  "kernelspec": {
   "display_name": "Python 3",
   "language": "python",
   "name": "python3"
  },
  "language_info": {
   "codemirror_mode": {
    "name": "ipython",
    "version": 3
   },
   "file_extension": ".py",
   "mimetype": "text/x-python",
   "name": "python",
   "nbconvert_exporter": "python",
   "pygments_lexer": "ipython3",
   "version": "3.7.3"
  }
 },
 "nbformat": 4,
 "nbformat_minor": 2
}
